{
 "cells": [
  {
   "cell_type": "code",
   "execution_count": 1,
   "metadata": {},
   "outputs": [],
   "source": [
    "import pandas as pd\n",
    "import numpy as np\n",
    "import matplotlib.pyplot as plt\n",
    "import seaborn as sns\n",
    "sns.set(color_codes=True) \n",
    "%matplotlib inline \n",
    "import scipy.stats as stats"
   ]
  },
  {
   "cell_type": "code",
   "execution_count": 2,
   "metadata": {},
   "outputs": [],
   "source": [
    "df = pd.read_csv('Wholesale+Customers+Data.csv')"
   ]
  },
  {
   "cell_type": "code",
   "execution_count": 3,
   "metadata": {},
   "outputs": [],
   "source": [
    "# checking head and tail"
   ]
  },
  {
   "cell_type": "code",
   "execution_count": 4,
   "metadata": {
    "scrolled": true
   },
   "outputs": [
    {
     "data": {
      "text/html": [
       "<div>\n",
       "<style scoped>\n",
       "    .dataframe tbody tr th:only-of-type {\n",
       "        vertical-align: middle;\n",
       "    }\n",
       "\n",
       "    .dataframe tbody tr th {\n",
       "        vertical-align: top;\n",
       "    }\n",
       "\n",
       "    .dataframe thead th {\n",
       "        text-align: right;\n",
       "    }\n",
       "</style>\n",
       "<table border=\"1\" class=\"dataframe\">\n",
       "  <thead>\n",
       "    <tr style=\"text-align: right;\">\n",
       "      <th></th>\n",
       "      <th>Buyer/Spender</th>\n",
       "      <th>Channel</th>\n",
       "      <th>Region</th>\n",
       "      <th>Fresh</th>\n",
       "      <th>Milk</th>\n",
       "      <th>Grocery</th>\n",
       "      <th>Frozen</th>\n",
       "      <th>Detergents_Paper</th>\n",
       "      <th>Delicatessen</th>\n",
       "    </tr>\n",
       "  </thead>\n",
       "  <tbody>\n",
       "    <tr>\n",
       "      <th>0</th>\n",
       "      <td>1</td>\n",
       "      <td>Retail</td>\n",
       "      <td>Other</td>\n",
       "      <td>12669</td>\n",
       "      <td>9656</td>\n",
       "      <td>7561</td>\n",
       "      <td>214</td>\n",
       "      <td>2674</td>\n",
       "      <td>1338</td>\n",
       "    </tr>\n",
       "    <tr>\n",
       "      <th>1</th>\n",
       "      <td>2</td>\n",
       "      <td>Retail</td>\n",
       "      <td>Other</td>\n",
       "      <td>7057</td>\n",
       "      <td>9810</td>\n",
       "      <td>9568</td>\n",
       "      <td>1762</td>\n",
       "      <td>3293</td>\n",
       "      <td>1776</td>\n",
       "    </tr>\n",
       "    <tr>\n",
       "      <th>2</th>\n",
       "      <td>3</td>\n",
       "      <td>Retail</td>\n",
       "      <td>Other</td>\n",
       "      <td>6353</td>\n",
       "      <td>8808</td>\n",
       "      <td>7684</td>\n",
       "      <td>2405</td>\n",
       "      <td>3516</td>\n",
       "      <td>7844</td>\n",
       "    </tr>\n",
       "    <tr>\n",
       "      <th>3</th>\n",
       "      <td>4</td>\n",
       "      <td>Hotel</td>\n",
       "      <td>Other</td>\n",
       "      <td>13265</td>\n",
       "      <td>1196</td>\n",
       "      <td>4221</td>\n",
       "      <td>6404</td>\n",
       "      <td>507</td>\n",
       "      <td>1788</td>\n",
       "    </tr>\n",
       "    <tr>\n",
       "      <th>4</th>\n",
       "      <td>5</td>\n",
       "      <td>Retail</td>\n",
       "      <td>Other</td>\n",
       "      <td>22615</td>\n",
       "      <td>5410</td>\n",
       "      <td>7198</td>\n",
       "      <td>3915</td>\n",
       "      <td>1777</td>\n",
       "      <td>5185</td>\n",
       "    </tr>\n",
       "  </tbody>\n",
       "</table>\n",
       "</div>"
      ],
      "text/plain": [
       "   Buyer/Spender Channel Region  Fresh  Milk  Grocery  Frozen  \\\n",
       "0              1  Retail  Other  12669  9656     7561     214   \n",
       "1              2  Retail  Other   7057  9810     9568    1762   \n",
       "2              3  Retail  Other   6353  8808     7684    2405   \n",
       "3              4   Hotel  Other  13265  1196     4221    6404   \n",
       "4              5  Retail  Other  22615  5410     7198    3915   \n",
       "\n",
       "   Detergents_Paper  Delicatessen  \n",
       "0              2674          1338  \n",
       "1              3293          1776  \n",
       "2              3516          7844  \n",
       "3               507          1788  \n",
       "4              1777          5185  "
      ]
     },
     "execution_count": 4,
     "metadata": {},
     "output_type": "execute_result"
    }
   ],
   "source": [
    "df.head()"
   ]
  },
  {
   "cell_type": "code",
   "execution_count": 5,
   "metadata": {},
   "outputs": [
    {
     "data": {
      "text/html": [
       "<div>\n",
       "<style scoped>\n",
       "    .dataframe tbody tr th:only-of-type {\n",
       "        vertical-align: middle;\n",
       "    }\n",
       "\n",
       "    .dataframe tbody tr th {\n",
       "        vertical-align: top;\n",
       "    }\n",
       "\n",
       "    .dataframe thead th {\n",
       "        text-align: right;\n",
       "    }\n",
       "</style>\n",
       "<table border=\"1\" class=\"dataframe\">\n",
       "  <thead>\n",
       "    <tr style=\"text-align: right;\">\n",
       "      <th></th>\n",
       "      <th>Buyer/Spender</th>\n",
       "      <th>Channel</th>\n",
       "      <th>Region</th>\n",
       "      <th>Fresh</th>\n",
       "      <th>Milk</th>\n",
       "      <th>Grocery</th>\n",
       "      <th>Frozen</th>\n",
       "      <th>Detergents_Paper</th>\n",
       "      <th>Delicatessen</th>\n",
       "    </tr>\n",
       "  </thead>\n",
       "  <tbody>\n",
       "    <tr>\n",
       "      <th>435</th>\n",
       "      <td>436</td>\n",
       "      <td>Hotel</td>\n",
       "      <td>Other</td>\n",
       "      <td>29703</td>\n",
       "      <td>12051</td>\n",
       "      <td>16027</td>\n",
       "      <td>13135</td>\n",
       "      <td>182</td>\n",
       "      <td>2204</td>\n",
       "    </tr>\n",
       "    <tr>\n",
       "      <th>436</th>\n",
       "      <td>437</td>\n",
       "      <td>Hotel</td>\n",
       "      <td>Other</td>\n",
       "      <td>39228</td>\n",
       "      <td>1431</td>\n",
       "      <td>764</td>\n",
       "      <td>4510</td>\n",
       "      <td>93</td>\n",
       "      <td>2346</td>\n",
       "    </tr>\n",
       "    <tr>\n",
       "      <th>437</th>\n",
       "      <td>438</td>\n",
       "      <td>Retail</td>\n",
       "      <td>Other</td>\n",
       "      <td>14531</td>\n",
       "      <td>15488</td>\n",
       "      <td>30243</td>\n",
       "      <td>437</td>\n",
       "      <td>14841</td>\n",
       "      <td>1867</td>\n",
       "    </tr>\n",
       "    <tr>\n",
       "      <th>438</th>\n",
       "      <td>439</td>\n",
       "      <td>Hotel</td>\n",
       "      <td>Other</td>\n",
       "      <td>10290</td>\n",
       "      <td>1981</td>\n",
       "      <td>2232</td>\n",
       "      <td>1038</td>\n",
       "      <td>168</td>\n",
       "      <td>2125</td>\n",
       "    </tr>\n",
       "    <tr>\n",
       "      <th>439</th>\n",
       "      <td>440</td>\n",
       "      <td>Hotel</td>\n",
       "      <td>Other</td>\n",
       "      <td>2787</td>\n",
       "      <td>1698</td>\n",
       "      <td>2510</td>\n",
       "      <td>65</td>\n",
       "      <td>477</td>\n",
       "      <td>52</td>\n",
       "    </tr>\n",
       "  </tbody>\n",
       "</table>\n",
       "</div>"
      ],
      "text/plain": [
       "     Buyer/Spender Channel Region  Fresh   Milk  Grocery  Frozen  \\\n",
       "435            436   Hotel  Other  29703  12051    16027   13135   \n",
       "436            437   Hotel  Other  39228   1431      764    4510   \n",
       "437            438  Retail  Other  14531  15488    30243     437   \n",
       "438            439   Hotel  Other  10290   1981     2232    1038   \n",
       "439            440   Hotel  Other   2787   1698     2510      65   \n",
       "\n",
       "     Detergents_Paper  Delicatessen  \n",
       "435               182          2204  \n",
       "436                93          2346  \n",
       "437             14841          1867  \n",
       "438               168          2125  \n",
       "439               477            52  "
      ]
     },
     "execution_count": 5,
     "metadata": {},
     "output_type": "execute_result"
    }
   ],
   "source": [
    "df.tail()"
   ]
  },
  {
   "cell_type": "code",
   "execution_count": 6,
   "metadata": {},
   "outputs": [],
   "source": [
    "# checking info"
   ]
  },
  {
   "cell_type": "code",
   "execution_count": 7,
   "metadata": {},
   "outputs": [
    {
     "name": "stdout",
     "output_type": "stream",
     "text": [
      "<class 'pandas.core.frame.DataFrame'>\n",
      "RangeIndex: 440 entries, 0 to 439\n",
      "Data columns (total 9 columns):\n",
      " #   Column            Non-Null Count  Dtype \n",
      "---  ------            --------------  ----- \n",
      " 0   Buyer/Spender     440 non-null    int64 \n",
      " 1   Channel           440 non-null    object\n",
      " 2   Region            440 non-null    object\n",
      " 3   Fresh             440 non-null    int64 \n",
      " 4   Milk              440 non-null    int64 \n",
      " 5   Grocery           440 non-null    int64 \n",
      " 6   Frozen            440 non-null    int64 \n",
      " 7   Detergents_Paper  440 non-null    int64 \n",
      " 8   Delicatessen      440 non-null    int64 \n",
      "dtypes: int64(7), object(2)\n",
      "memory usage: 31.1+ KB\n"
     ]
    }
   ],
   "source": [
    "df.info()"
   ]
  },
  {
   "cell_type": "code",
   "execution_count": 8,
   "metadata": {},
   "outputs": [],
   "source": [
    "# Consists of 440 non null value in every column"
   ]
  },
  {
   "cell_type": "code",
   "execution_count": 9,
   "metadata": {},
   "outputs": [
    {
     "data": {
      "text/plain": [
       "array(['Retail', 'Hotel'], dtype=object)"
      ]
     },
     "execution_count": 9,
     "metadata": {},
     "output_type": "execute_result"
    }
   ],
   "source": [
    "df.Channel.unique()"
   ]
  },
  {
   "cell_type": "code",
   "execution_count": 10,
   "metadata": {},
   "outputs": [
    {
     "data": {
      "text/plain": [
       "array(['Other', 'Lisbon', 'Oporto'], dtype=object)"
      ]
     },
     "execution_count": 10,
     "metadata": {},
     "output_type": "execute_result"
    }
   ],
   "source": [
    "df.Region.unique()"
   ]
  },
  {
   "cell_type": "code",
   "execution_count": 11,
   "metadata": {},
   "outputs": [
    {
     "data": {
      "text/plain": [
       "Buyer/Spender       0\n",
       "Channel             0\n",
       "Region              0\n",
       "Fresh               0\n",
       "Milk                0\n",
       "Grocery             0\n",
       "Frozen              0\n",
       "Detergents_Paper    0\n",
       "Delicatessen        0\n",
       "dtype: int64"
      ]
     },
     "execution_count": 11,
     "metadata": {},
     "output_type": "execute_result"
    }
   ],
   "source": [
    "df.isnull().sum()"
   ]
  },
  {
   "cell_type": "code",
   "execution_count": 12,
   "metadata": {},
   "outputs": [],
   "source": [
    "# Checking data spread"
   ]
  },
  {
   "cell_type": "code",
   "execution_count": 13,
   "metadata": {},
   "outputs": [
    {
     "data": {
      "text/html": [
       "<div>\n",
       "<style scoped>\n",
       "    .dataframe tbody tr th:only-of-type {\n",
       "        vertical-align: middle;\n",
       "    }\n",
       "\n",
       "    .dataframe tbody tr th {\n",
       "        vertical-align: top;\n",
       "    }\n",
       "\n",
       "    .dataframe thead th {\n",
       "        text-align: right;\n",
       "    }\n",
       "</style>\n",
       "<table border=\"1\" class=\"dataframe\">\n",
       "  <thead>\n",
       "    <tr style=\"text-align: right;\">\n",
       "      <th></th>\n",
       "      <th>Buyer/Spender</th>\n",
       "      <th>Fresh</th>\n",
       "      <th>Milk</th>\n",
       "      <th>Grocery</th>\n",
       "      <th>Frozen</th>\n",
       "      <th>Detergents_Paper</th>\n",
       "      <th>Delicatessen</th>\n",
       "    </tr>\n",
       "  </thead>\n",
       "  <tbody>\n",
       "    <tr>\n",
       "      <th>count</th>\n",
       "      <td>440.000000</td>\n",
       "      <td>440.000000</td>\n",
       "      <td>440.000000</td>\n",
       "      <td>440.000000</td>\n",
       "      <td>440.000000</td>\n",
       "      <td>440.000000</td>\n",
       "      <td>440.000000</td>\n",
       "    </tr>\n",
       "    <tr>\n",
       "      <th>mean</th>\n",
       "      <td>220.500000</td>\n",
       "      <td>12000.297727</td>\n",
       "      <td>5796.265909</td>\n",
       "      <td>7951.277273</td>\n",
       "      <td>3071.931818</td>\n",
       "      <td>2881.493182</td>\n",
       "      <td>1524.870455</td>\n",
       "    </tr>\n",
       "    <tr>\n",
       "      <th>std</th>\n",
       "      <td>127.161315</td>\n",
       "      <td>12647.328865</td>\n",
       "      <td>7380.377175</td>\n",
       "      <td>9503.162829</td>\n",
       "      <td>4854.673333</td>\n",
       "      <td>4767.854448</td>\n",
       "      <td>2820.105937</td>\n",
       "    </tr>\n",
       "    <tr>\n",
       "      <th>min</th>\n",
       "      <td>1.000000</td>\n",
       "      <td>3.000000</td>\n",
       "      <td>55.000000</td>\n",
       "      <td>3.000000</td>\n",
       "      <td>25.000000</td>\n",
       "      <td>3.000000</td>\n",
       "      <td>3.000000</td>\n",
       "    </tr>\n",
       "    <tr>\n",
       "      <th>25%</th>\n",
       "      <td>110.750000</td>\n",
       "      <td>3127.750000</td>\n",
       "      <td>1533.000000</td>\n",
       "      <td>2153.000000</td>\n",
       "      <td>742.250000</td>\n",
       "      <td>256.750000</td>\n",
       "      <td>408.250000</td>\n",
       "    </tr>\n",
       "    <tr>\n",
       "      <th>50%</th>\n",
       "      <td>220.500000</td>\n",
       "      <td>8504.000000</td>\n",
       "      <td>3627.000000</td>\n",
       "      <td>4755.500000</td>\n",
       "      <td>1526.000000</td>\n",
       "      <td>816.500000</td>\n",
       "      <td>965.500000</td>\n",
       "    </tr>\n",
       "    <tr>\n",
       "      <th>75%</th>\n",
       "      <td>330.250000</td>\n",
       "      <td>16933.750000</td>\n",
       "      <td>7190.250000</td>\n",
       "      <td>10655.750000</td>\n",
       "      <td>3554.250000</td>\n",
       "      <td>3922.000000</td>\n",
       "      <td>1820.250000</td>\n",
       "    </tr>\n",
       "    <tr>\n",
       "      <th>max</th>\n",
       "      <td>440.000000</td>\n",
       "      <td>112151.000000</td>\n",
       "      <td>73498.000000</td>\n",
       "      <td>92780.000000</td>\n",
       "      <td>60869.000000</td>\n",
       "      <td>40827.000000</td>\n",
       "      <td>47943.000000</td>\n",
       "    </tr>\n",
       "  </tbody>\n",
       "</table>\n",
       "</div>"
      ],
      "text/plain": [
       "       Buyer/Spender          Fresh          Milk       Grocery        Frozen  \\\n",
       "count     440.000000     440.000000    440.000000    440.000000    440.000000   \n",
       "mean      220.500000   12000.297727   5796.265909   7951.277273   3071.931818   \n",
       "std       127.161315   12647.328865   7380.377175   9503.162829   4854.673333   \n",
       "min         1.000000       3.000000     55.000000      3.000000     25.000000   \n",
       "25%       110.750000    3127.750000   1533.000000   2153.000000    742.250000   \n",
       "50%       220.500000    8504.000000   3627.000000   4755.500000   1526.000000   \n",
       "75%       330.250000   16933.750000   7190.250000  10655.750000   3554.250000   \n",
       "max       440.000000  112151.000000  73498.000000  92780.000000  60869.000000   \n",
       "\n",
       "       Detergents_Paper  Delicatessen  \n",
       "count        440.000000    440.000000  \n",
       "mean        2881.493182   1524.870455  \n",
       "std         4767.854448   2820.105937  \n",
       "min            3.000000      3.000000  \n",
       "25%          256.750000    408.250000  \n",
       "50%          816.500000    965.500000  \n",
       "75%         3922.000000   1820.250000  \n",
       "max        40827.000000  47943.000000  "
      ]
     },
     "execution_count": 13,
     "metadata": {},
     "output_type": "execute_result"
    }
   ],
   "source": [
    "df.describe()"
   ]
  },
  {
   "cell_type": "markdown",
   "metadata": {},
   "source": [
    "## 1.1 Use methods of descriptive statistics to summarize data. Which Region and which Channel seems to spend more? Which Region and which Channel seems to spend less?"
   ]
  },
  {
   "cell_type": "code",
   "execution_count": 14,
   "metadata": {},
   "outputs": [
    {
     "data": {
      "text/html": [
       "<div>\n",
       "<style scoped>\n",
       "    .dataframe tbody tr th:only-of-type {\n",
       "        vertical-align: middle;\n",
       "    }\n",
       "\n",
       "    .dataframe tbody tr th {\n",
       "        vertical-align: top;\n",
       "    }\n",
       "\n",
       "    .dataframe thead th {\n",
       "        text-align: right;\n",
       "    }\n",
       "</style>\n",
       "<table border=\"1\" class=\"dataframe\">\n",
       "  <thead>\n",
       "    <tr style=\"text-align: right;\">\n",
       "      <th></th>\n",
       "      <th>Channel</th>\n",
       "      <th>Region</th>\n",
       "      <th>Fresh</th>\n",
       "      <th>Milk</th>\n",
       "      <th>Grocery</th>\n",
       "      <th>Frozen</th>\n",
       "      <th>Detergents_Paper</th>\n",
       "      <th>Delicatessen</th>\n",
       "      <th>Total Spend</th>\n",
       "    </tr>\n",
       "    <tr>\n",
       "      <th>Buyer/Spender</th>\n",
       "      <th></th>\n",
       "      <th></th>\n",
       "      <th></th>\n",
       "      <th></th>\n",
       "      <th></th>\n",
       "      <th></th>\n",
       "      <th></th>\n",
       "      <th></th>\n",
       "      <th></th>\n",
       "    </tr>\n",
       "  </thead>\n",
       "  <tbody>\n",
       "    <tr>\n",
       "      <th>1</th>\n",
       "      <td>Retail</td>\n",
       "      <td>Other</td>\n",
       "      <td>12669</td>\n",
       "      <td>9656</td>\n",
       "      <td>7561</td>\n",
       "      <td>214</td>\n",
       "      <td>2674</td>\n",
       "      <td>1338</td>\n",
       "      <td>30100</td>\n",
       "    </tr>\n",
       "    <tr>\n",
       "      <th>2</th>\n",
       "      <td>Retail</td>\n",
       "      <td>Other</td>\n",
       "      <td>7057</td>\n",
       "      <td>9810</td>\n",
       "      <td>9568</td>\n",
       "      <td>1762</td>\n",
       "      <td>3293</td>\n",
       "      <td>1776</td>\n",
       "      <td>28197</td>\n",
       "    </tr>\n",
       "    <tr>\n",
       "      <th>3</th>\n",
       "      <td>Retail</td>\n",
       "      <td>Other</td>\n",
       "      <td>6353</td>\n",
       "      <td>8808</td>\n",
       "      <td>7684</td>\n",
       "      <td>2405</td>\n",
       "      <td>3516</td>\n",
       "      <td>7844</td>\n",
       "      <td>25250</td>\n",
       "    </tr>\n",
       "    <tr>\n",
       "      <th>4</th>\n",
       "      <td>Hotel</td>\n",
       "      <td>Other</td>\n",
       "      <td>13265</td>\n",
       "      <td>1196</td>\n",
       "      <td>4221</td>\n",
       "      <td>6404</td>\n",
       "      <td>507</td>\n",
       "      <td>1788</td>\n",
       "      <td>25086</td>\n",
       "    </tr>\n",
       "    <tr>\n",
       "      <th>5</th>\n",
       "      <td>Retail</td>\n",
       "      <td>Other</td>\n",
       "      <td>22615</td>\n",
       "      <td>5410</td>\n",
       "      <td>7198</td>\n",
       "      <td>3915</td>\n",
       "      <td>1777</td>\n",
       "      <td>5185</td>\n",
       "      <td>39138</td>\n",
       "    </tr>\n",
       "  </tbody>\n",
       "</table>\n",
       "</div>"
      ],
      "text/plain": [
       "              Channel Region  Fresh  Milk  Grocery  Frozen  Detergents_Paper  \\\n",
       "Buyer/Spender                                                                  \n",
       "1              Retail  Other  12669  9656     7561     214              2674   \n",
       "2              Retail  Other   7057  9810     9568    1762              3293   \n",
       "3              Retail  Other   6353  8808     7684    2405              3516   \n",
       "4               Hotel  Other  13265  1196     4221    6404               507   \n",
       "5              Retail  Other  22615  5410     7198    3915              1777   \n",
       "\n",
       "               Delicatessen  Total Spend  \n",
       "Buyer/Spender                             \n",
       "1                      1338        30100  \n",
       "2                      1776        28197  \n",
       "3                      7844        25250  \n",
       "4                      1788        25086  \n",
       "5                      5185        39138  "
      ]
     },
     "execution_count": 14,
     "metadata": {},
     "output_type": "execute_result"
    }
   ],
   "source": [
    "# Setting buyer/Spender as Index\n",
    "df.set_index('Buyer/Spender', inplace = True)\n",
    "# Creating another column total spend\n",
    "df.loc[:,'Total Spend'] = df.Fresh + df.Milk + df.Grocery + df.Frozen \n",
    "+ df.Detergents_Paper + df.Delicatessen\n",
    "df.head()"
   ]
  },
  {
   "cell_type": "code",
   "execution_count": 16,
   "metadata": {},
   "outputs": [
    {
     "data": {
      "text/html": [
       "<div>\n",
       "<style scoped>\n",
       "    .dataframe tbody tr th:only-of-type {\n",
       "        vertical-align: middle;\n",
       "    }\n",
       "\n",
       "    .dataframe tbody tr th {\n",
       "        vertical-align: top;\n",
       "    }\n",
       "\n",
       "    .dataframe thead th {\n",
       "        text-align: right;\n",
       "    }\n",
       "</style>\n",
       "<table border=\"1\" class=\"dataframe\">\n",
       "  <thead>\n",
       "    <tr style=\"text-align: right;\">\n",
       "      <th></th>\n",
       "      <th>Channel</th>\n",
       "      <th>Region</th>\n",
       "      <th>Fresh</th>\n",
       "      <th>Milk</th>\n",
       "      <th>Grocery</th>\n",
       "      <th>Frozen</th>\n",
       "      <th>Detergents_Paper</th>\n",
       "      <th>Delicatessen</th>\n",
       "      <th>Total Spend</th>\n",
       "    </tr>\n",
       "    <tr>\n",
       "      <th>Buyer/Spender</th>\n",
       "      <th></th>\n",
       "      <th></th>\n",
       "      <th></th>\n",
       "      <th></th>\n",
       "      <th></th>\n",
       "      <th></th>\n",
       "      <th></th>\n",
       "      <th></th>\n",
       "      <th></th>\n",
       "    </tr>\n",
       "  </thead>\n",
       "  <tbody>\n",
       "    <tr>\n",
       "      <th>1</th>\n",
       "      <td>Retail</td>\n",
       "      <td>Other</td>\n",
       "      <td>12669</td>\n",
       "      <td>9656</td>\n",
       "      <td>7561</td>\n",
       "      <td>214</td>\n",
       "      <td>2674</td>\n",
       "      <td>1338</td>\n",
       "      <td>30100</td>\n",
       "    </tr>\n",
       "    <tr>\n",
       "      <th>2</th>\n",
       "      <td>Retail</td>\n",
       "      <td>Other</td>\n",
       "      <td>7057</td>\n",
       "      <td>9810</td>\n",
       "      <td>9568</td>\n",
       "      <td>1762</td>\n",
       "      <td>3293</td>\n",
       "      <td>1776</td>\n",
       "      <td>28197</td>\n",
       "    </tr>\n",
       "    <tr>\n",
       "      <th>3</th>\n",
       "      <td>Retail</td>\n",
       "      <td>Other</td>\n",
       "      <td>6353</td>\n",
       "      <td>8808</td>\n",
       "      <td>7684</td>\n",
       "      <td>2405</td>\n",
       "      <td>3516</td>\n",
       "      <td>7844</td>\n",
       "      <td>25250</td>\n",
       "    </tr>\n",
       "    <tr>\n",
       "      <th>4</th>\n",
       "      <td>Hotel</td>\n",
       "      <td>Other</td>\n",
       "      <td>13265</td>\n",
       "      <td>1196</td>\n",
       "      <td>4221</td>\n",
       "      <td>6404</td>\n",
       "      <td>507</td>\n",
       "      <td>1788</td>\n",
       "      <td>25086</td>\n",
       "    </tr>\n",
       "    <tr>\n",
       "      <th>5</th>\n",
       "      <td>Retail</td>\n",
       "      <td>Other</td>\n",
       "      <td>22615</td>\n",
       "      <td>5410</td>\n",
       "      <td>7198</td>\n",
       "      <td>3915</td>\n",
       "      <td>1777</td>\n",
       "      <td>5185</td>\n",
       "      <td>39138</td>\n",
       "    </tr>\n",
       "  </tbody>\n",
       "</table>\n",
       "</div>"
      ],
      "text/plain": [
       "              Channel Region  Fresh  Milk  Grocery  Frozen  Detergents_Paper  \\\n",
       "Buyer/Spender                                                                  \n",
       "1              Retail  Other  12669  9656     7561     214              2674   \n",
       "2              Retail  Other   7057  9810     9568    1762              3293   \n",
       "3              Retail  Other   6353  8808     7684    2405              3516   \n",
       "4               Hotel  Other  13265  1196     4221    6404               507   \n",
       "5              Retail  Other  22615  5410     7198    3915              1777   \n",
       "\n",
       "               Delicatessen  Total Spend  \n",
       "Buyer/Spender                             \n",
       "1                      1338        30100  \n",
       "2                      1776        28197  \n",
       "3                      7844        25250  \n",
       "4                      1788        25086  \n",
       "5                      5185        39138  "
      ]
     },
     "execution_count": 16,
     "metadata": {},
     "output_type": "execute_result"
    }
   ],
   "source": [
    "df.head()"
   ]
  },
  {
   "cell_type": "code",
   "execution_count": 17,
   "metadata": {},
   "outputs": [
    {
     "name": "stdout",
     "output_type": "stream",
     "text": [
      "Hotel     298\n",
      "Retail    142\n",
      "Name: Channel, dtype: int64 \n",
      "\n",
      "Other     316\n",
      "Lisbon     77\n",
      "Oporto     47\n",
      "Name: Region, dtype: int64\n"
     ]
    }
   ],
   "source": [
    "print(df.Channel.value_counts(),'\\n')\n",
    "print(df.Region.value_counts())"
   ]
  },
  {
   "cell_type": "markdown",
   "metadata": {},
   "source": [
    "- 298 customers from Hotel and 142 from Retail\n",
    "- 316 from other, 77 from Lisbon, 47 from Oporto"
   ]
  },
  {
   "cell_type": "code",
   "execution_count": 18,
   "metadata": {},
   "outputs": [],
   "source": [
    "df_region_sum = df.groupby('Region').sum()\n",
    "df_channel_sum = df.groupby('Channel').sum()"
   ]
  },
  {
   "cell_type": "code",
   "execution_count": 19,
   "metadata": {},
   "outputs": [
    {
     "data": {
      "text/html": [
       "<div>\n",
       "<style scoped>\n",
       "    .dataframe tbody tr th:only-of-type {\n",
       "        vertical-align: middle;\n",
       "    }\n",
       "\n",
       "    .dataframe tbody tr th {\n",
       "        vertical-align: top;\n",
       "    }\n",
       "\n",
       "    .dataframe thead th {\n",
       "        text-align: right;\n",
       "    }\n",
       "</style>\n",
       "<table border=\"1\" class=\"dataframe\">\n",
       "  <thead>\n",
       "    <tr style=\"text-align: right;\">\n",
       "      <th></th>\n",
       "      <th>Region</th>\n",
       "      <th>Fresh</th>\n",
       "      <th>Milk</th>\n",
       "      <th>Grocery</th>\n",
       "      <th>Frozen</th>\n",
       "      <th>Detergents_Paper</th>\n",
       "      <th>Delicatessen</th>\n",
       "      <th>Total Spend</th>\n",
       "    </tr>\n",
       "  </thead>\n",
       "  <tbody>\n",
       "    <tr>\n",
       "      <th>0</th>\n",
       "      <td>Lisbon</td>\n",
       "      <td>854833</td>\n",
       "      <td>422454</td>\n",
       "      <td>570037</td>\n",
       "      <td>231026</td>\n",
       "      <td>204136</td>\n",
       "      <td>104327</td>\n",
       "      <td>2078350</td>\n",
       "    </tr>\n",
       "    <tr>\n",
       "      <th>1</th>\n",
       "      <td>Oporto</td>\n",
       "      <td>464721</td>\n",
       "      <td>239144</td>\n",
       "      <td>433274</td>\n",
       "      <td>190132</td>\n",
       "      <td>173311</td>\n",
       "      <td>54506</td>\n",
       "      <td>1327271</td>\n",
       "    </tr>\n",
       "    <tr>\n",
       "      <th>2</th>\n",
       "      <td>Other</td>\n",
       "      <td>3960577</td>\n",
       "      <td>1888759</td>\n",
       "      <td>2495251</td>\n",
       "      <td>930492</td>\n",
       "      <td>890410</td>\n",
       "      <td>512110</td>\n",
       "      <td>9275079</td>\n",
       "    </tr>\n",
       "  </tbody>\n",
       "</table>\n",
       "</div>"
      ],
      "text/plain": [
       "   Region    Fresh     Milk  Grocery  Frozen  Detergents_Paper  Delicatessen  \\\n",
       "0  Lisbon   854833   422454   570037  231026            204136        104327   \n",
       "1  Oporto   464721   239144   433274  190132            173311         54506   \n",
       "2   Other  3960577  1888759  2495251  930492            890410        512110   \n",
       "\n",
       "   Total Spend  \n",
       "0      2078350  \n",
       "1      1327271  \n",
       "2      9275079  "
      ]
     },
     "execution_count": 19,
     "metadata": {},
     "output_type": "execute_result"
    }
   ],
   "source": [
    "df_region_sum.reset_index(inplace = True)\n",
    "df_region_sum"
   ]
  },
  {
   "cell_type": "code",
   "execution_count": 20,
   "metadata": {},
   "outputs": [
    {
     "data": {
      "text/html": [
       "<div>\n",
       "<style scoped>\n",
       "    .dataframe tbody tr th:only-of-type {\n",
       "        vertical-align: middle;\n",
       "    }\n",
       "\n",
       "    .dataframe tbody tr th {\n",
       "        vertical-align: top;\n",
       "    }\n",
       "\n",
       "    .dataframe thead th {\n",
       "        text-align: right;\n",
       "    }\n",
       "</style>\n",
       "<table border=\"1\" class=\"dataframe\">\n",
       "  <thead>\n",
       "    <tr style=\"text-align: right;\">\n",
       "      <th></th>\n",
       "      <th>Channel</th>\n",
       "      <th>Fresh</th>\n",
       "      <th>Milk</th>\n",
       "      <th>Grocery</th>\n",
       "      <th>Frozen</th>\n",
       "      <th>Detergents_Paper</th>\n",
       "      <th>Delicatessen</th>\n",
       "      <th>Total Spend</th>\n",
       "    </tr>\n",
       "  </thead>\n",
       "  <tbody>\n",
       "    <tr>\n",
       "      <th>0</th>\n",
       "      <td>Hotel</td>\n",
       "      <td>4015717</td>\n",
       "      <td>1028614</td>\n",
       "      <td>1180717</td>\n",
       "      <td>1116979</td>\n",
       "      <td>235587</td>\n",
       "      <td>421955</td>\n",
       "      <td>7342027</td>\n",
       "    </tr>\n",
       "    <tr>\n",
       "      <th>1</th>\n",
       "      <td>Retail</td>\n",
       "      <td>1264414</td>\n",
       "      <td>1521743</td>\n",
       "      <td>2317845</td>\n",
       "      <td>234671</td>\n",
       "      <td>1032270</td>\n",
       "      <td>248988</td>\n",
       "      <td>5338673</td>\n",
       "    </tr>\n",
       "  </tbody>\n",
       "</table>\n",
       "</div>"
      ],
      "text/plain": [
       "  Channel    Fresh     Milk  Grocery   Frozen  Detergents_Paper  Delicatessen  \\\n",
       "0   Hotel  4015717  1028614  1180717  1116979            235587        421955   \n",
       "1  Retail  1264414  1521743  2317845   234671           1032270        248988   \n",
       "\n",
       "   Total Spend  \n",
       "0      7342027  \n",
       "1      5338673  "
      ]
     },
     "execution_count": 20,
     "metadata": {},
     "output_type": "execute_result"
    }
   ],
   "source": [
    "df_channel_sum.reset_index(inplace = True)\n",
    "df_channel_sum"
   ]
  },
  {
   "cell_type": "code",
   "execution_count": 21,
   "metadata": {},
   "outputs": [
    {
     "data": {
      "image/png": "[encoded data removed]",
      "text/plain": [
       "<Figure size 936x360 with 2 Axes>"
      ]
     },
     "metadata": {
      "needs_background": "light"
     },
     "output_type": "display_data"
    }
   ],
   "source": [
    "plt.figure(figsize = (13,5))\n",
    "plt.subplot(1,2,1)\n",
    "sns.barplot(df_region_sum.Region, df_region_sum['Total Spend'])\n",
    "plt.subplot(1,2,2)\n",
    "sns.barplot(df_channel_sum.Channel, df_channel_sum['Total Spend']);"
   ]
  },
  {
   "cell_type": "markdown",
   "metadata": {},
   "source": [
    "- If we talk about total expenditure Region wise \"Other\" Region spends most: 10677599 and Oporto spends least: 1555088\n",
    "- If we talk about total expenditure Channel wise: Hotels tend to spend more when compared to Retail."
   ]
  },
  {
   "cell_type": "code",
   "execution_count": 22,
   "metadata": {},
   "outputs": [
    {
     "data": {
      "text/plain": [
       "<matplotlib.axes._subplots.AxesSubplot at 0x214e695bf48>"
      ]
     },
     "execution_count": 22,
     "metadata": {},
     "output_type": "execute_result"
    },
    {
     "data": {
      "image/png": "[encoded data removed]",
      "text/plain": [
       "<Figure size 864x360 with 2 Axes>"
      ]
     },
     "metadata": {
      "needs_background": "light"
     },
     "output_type": "display_data"
    }
   ],
   "source": [
    "plt.figure(figsize = (12,5))\n",
    "plt.subplot(1,2,1)\n",
    "sns.barplot(df.Region, df['Total Spend']);\n",
    "plt.subplot(1,2,2)\n",
    "sns.barplot(df.Channel, df['Total Spend'])"
   ]
  },
  {
   "cell_type": "markdown",
   "metadata": {},
   "source": [
    "## 1.2 There are 6 different varieties of items are considered. Do all varieties show similar behaviour across Region and Channel?"
   ]
  },
  {
   "cell_type": "markdown",
   "metadata": {},
   "source": [
    "- The data needs to be sorted based on region and channel and then describe function can be used to see the distribution\n",
    "- Additional columns of IQR and COV needs to be added"
   ]
  },
  {
   "cell_type": "markdown",
   "metadata": {},
   "source": [
    "#### Sorting based on region"
   ]
  },
  {
   "cell_type": "code",
   "execution_count": 23,
   "metadata": {},
   "outputs": [],
   "source": [
    "df1 = df.groupby('Region').describe()"
   ]
  },
  {
   "cell_type": "code",
   "execution_count": 24,
   "metadata": {},
   "outputs": [],
   "source": [
    "df_r_fresh = df1.Fresh\n",
    "df_r_milk = df1.Milk\n",
    "df_r_groc = df1.Grocery\n",
    "df_r_froz = df1.Frozen\n",
    "df_r_detr = df1.Detergents_Paper\n",
    "df_r_del = df1.Delicatessen"
   ]
  },
  {
   "cell_type": "code",
   "execution_count": 25,
   "metadata": {},
   "outputs": [
    {
     "name": "stderr",
     "output_type": "stream",
     "text": [
      "C:\\Users\\adity\\anaconda3\\lib\\site-packages\\pandas\\core\\indexing.py:844: SettingWithCopyWarning: \n",
      "A value is trying to be set on a copy of a slice from a DataFrame.\n",
      "Try using .loc[row_indexer,col_indexer] = value instead\n",
      "\n",
      "See the caveats in the documentation: https://pandas.pydata.org/pandas-docs/stable/user_guide/indexing.html#returning-a-view-versus-a-copy\n",
      "  self.obj[key] = _infer_fill_value(value)\n",
      "C:\\Users\\adity\\anaconda3\\lib\\site-packages\\pandas\\core\\indexing.py:1047: SettingWithCopyWarning: \n",
      "A value is trying to be set on a copy of a slice from a DataFrame.\n",
      "Try using .loc[row_indexer,col_indexer] = value instead\n",
      "\n",
      "See the caveats in the documentation: https://pandas.pydata.org/pandas-docs/stable/user_guide/indexing.html#returning-a-view-versus-a-copy\n",
      "  self.obj[item_labels[indexer[info_axis]]] = value\n"
     ]
    }
   ],
   "source": [
    "df_r_fresh.loc[:,'IQR'] = df_r_fresh['75%'] -  df_r_fresh['25%']\n",
    "df_r_fresh.loc[:,'COV'] = df_r_fresh['std'] / df_r_fresh['mean']\n"
   ]
  },
  {
   "cell_type": "code",
   "execution_count": 26,
   "metadata": {},
   "outputs": [
    {
     "name": "stdout",
     "output_type": "stream",
     "text": [
      "Fresh distribution across Regions: -\n"
     ]
    },
    {
     "data": {
      "text/html": [
       "<div>\n",
       "<style scoped>\n",
       "    .dataframe tbody tr th:only-of-type {\n",
       "        vertical-align: middle;\n",
       "    }\n",
       "\n",
       "    .dataframe tbody tr th {\n",
       "        vertical-align: top;\n",
       "    }\n",
       "\n",
       "    .dataframe thead th {\n",
       "        text-align: right;\n",
       "    }\n",
       "</style>\n",
       "<table border=\"1\" class=\"dataframe\">\n",
       "  <thead>\n",
       "    <tr style=\"text-align: right;\">\n",
       "      <th></th>\n",
       "      <th>count</th>\n",
       "      <th>mean</th>\n",
       "      <th>std</th>\n",
       "      <th>min</th>\n",
       "      <th>25%</th>\n",
       "      <th>50%</th>\n",
       "      <th>75%</th>\n",
       "      <th>max</th>\n",
       "      <th>IQR</th>\n",
       "      <th>COV</th>\n",
       "    </tr>\n",
       "    <tr>\n",
       "      <th>Region</th>\n",
       "      <th></th>\n",
       "      <th></th>\n",
       "      <th></th>\n",
       "      <th></th>\n",
       "      <th></th>\n",
       "      <th></th>\n",
       "      <th></th>\n",
       "      <th></th>\n",
       "      <th></th>\n",
       "      <th></th>\n",
       "    </tr>\n",
       "  </thead>\n",
       "  <tbody>\n",
       "    <tr>\n",
       "      <th>Lisbon</th>\n",
       "      <td>77.0</td>\n",
       "      <td>11101.727273</td>\n",
       "      <td>11557.438575</td>\n",
       "      <td>18.0</td>\n",
       "      <td>2806.00</td>\n",
       "      <td>7363.0</td>\n",
       "      <td>15218.0</td>\n",
       "      <td>56083.0</td>\n",
       "      <td>12412.00</td>\n",
       "      <td>1.041049</td>\n",
       "    </tr>\n",
       "    <tr>\n",
       "      <th>Oporto</th>\n",
       "      <td>47.0</td>\n",
       "      <td>9887.680851</td>\n",
       "      <td>8387.899211</td>\n",
       "      <td>3.0</td>\n",
       "      <td>2751.50</td>\n",
       "      <td>8090.0</td>\n",
       "      <td>14925.5</td>\n",
       "      <td>32717.0</td>\n",
       "      <td>12174.00</td>\n",
       "      <td>0.848318</td>\n",
       "    </tr>\n",
       "    <tr>\n",
       "      <th>Other</th>\n",
       "      <td>316.0</td>\n",
       "      <td>12533.471519</td>\n",
       "      <td>13389.213115</td>\n",
       "      <td>3.0</td>\n",
       "      <td>3350.75</td>\n",
       "      <td>8752.5</td>\n",
       "      <td>17406.5</td>\n",
       "      <td>112151.0</td>\n",
       "      <td>14055.75</td>\n",
       "      <td>1.068277</td>\n",
       "    </tr>\n",
       "  </tbody>\n",
       "</table>\n",
       "</div>"
      ],
      "text/plain": [
       "        count          mean           std   min      25%     50%      75%  \\\n",
       "Region                                                                      \n",
       "Lisbon   77.0  11101.727273  11557.438575  18.0  2806.00  7363.0  15218.0   \n",
       "Oporto   47.0   9887.680851   8387.899211   3.0  2751.50  8090.0  14925.5   \n",
       "Other   316.0  12533.471519  13389.213115   3.0  3350.75  8752.5  17406.5   \n",
       "\n",
       "             max       IQR       COV  \n",
       "Region                                \n",
       "Lisbon   56083.0  12412.00  1.041049  \n",
       "Oporto   32717.0  12174.00  0.848318  \n",
       "Other   112151.0  14055.75  1.068277  "
      ]
     },
     "execution_count": 26,
     "metadata": {},
     "output_type": "execute_result"
    }
   ],
   "source": [
    "print('Fresh distribution across Regions: -')\n",
    "df_r_fresh"
   ]
  },
  {
   "cell_type": "code",
   "execution_count": 27,
   "metadata": {
    "scrolled": true
   },
   "outputs": [
    {
     "data": {
      "image/png": "[encoded data removed]",
      "text/plain": [
       "<Figure size 432x288 with 4 Axes>"
      ]
     },
     "metadata": {
      "needs_background": "light"
     },
     "output_type": "display_data"
    }
   ],
   "source": [
    "df.hist(by = 'Region', column = 'Fresh');"
   ]
  },
  {
   "cell_type": "markdown",
   "metadata": {},
   "source": [
    "Insights: -\n",
    "- too much insoncsistent in Lisbon and Other"
   ]
  },
  {
   "cell_type": "code",
   "execution_count": 28,
   "metadata": {},
   "outputs": [
    {
     "name": "stderr",
     "output_type": "stream",
     "text": [
      "C:\\Users\\adity\\anaconda3\\lib\\site-packages\\pandas\\core\\indexing.py:844: SettingWithCopyWarning: \n",
      "A value is trying to be set on a copy of a slice from a DataFrame.\n",
      "Try using .loc[row_indexer,col_indexer] = value instead\n",
      "\n",
      "See the caveats in the documentation: https://pandas.pydata.org/pandas-docs/stable/user_guide/indexing.html#returning-a-view-versus-a-copy\n",
      "  self.obj[key] = _infer_fill_value(value)\n",
      "C:\\Users\\adity\\anaconda3\\lib\\site-packages\\pandas\\core\\indexing.py:1047: SettingWithCopyWarning: \n",
      "A value is trying to be set on a copy of a slice from a DataFrame.\n",
      "Try using .loc[row_indexer,col_indexer] = value instead\n",
      "\n",
      "See the caveats in the documentation: https://pandas.pydata.org/pandas-docs/stable/user_guide/indexing.html#returning-a-view-versus-a-copy\n",
      "  self.obj[item_labels[indexer[info_axis]]] = value\n"
     ]
    }
   ],
   "source": [
    "df_r_milk.loc[:,'IQR'] = df_r_milk['75%'] - df_r_milk['25%']"
   ]
  },
  {
   "cell_type": "code",
   "execution_count": 29,
   "metadata": {},
   "outputs": [],
   "source": [
    "df_r_milk.loc[:,'COV'] = df_r_milk['std']/df_r_milk['mean']"
   ]
  },
  {
   "cell_type": "code",
   "execution_count": 30,
   "metadata": {},
   "outputs": [
    {
     "data": {
      "text/html": [
       "<div>\n",
       "<style scoped>\n",
       "    .dataframe tbody tr th:only-of-type {\n",
       "        vertical-align: middle;\n",
       "    }\n",
       "\n",
       "    .dataframe tbody tr th {\n",
       "        vertical-align: top;\n",
       "    }\n",
       "\n",
       "    .dataframe thead th {\n",
       "        text-align: right;\n",
       "    }\n",
       "</style>\n",
       "<table border=\"1\" class=\"dataframe\">\n",
       "  <thead>\n",
       "    <tr style=\"text-align: right;\">\n",
       "      <th></th>\n",
       "      <th>count</th>\n",
       "      <th>mean</th>\n",
       "      <th>std</th>\n",
       "      <th>min</th>\n",
       "      <th>25%</th>\n",
       "      <th>50%</th>\n",
       "      <th>75%</th>\n",
       "      <th>max</th>\n",
       "      <th>IQR</th>\n",
       "      <th>COV</th>\n",
       "    </tr>\n",
       "    <tr>\n",
       "      <th>Region</th>\n",
       "      <th></th>\n",
       "      <th></th>\n",
       "      <th></th>\n",
       "      <th></th>\n",
       "      <th></th>\n",
       "      <th></th>\n",
       "      <th></th>\n",
       "      <th></th>\n",
       "      <th></th>\n",
       "      <th></th>\n",
       "    </tr>\n",
       "  </thead>\n",
       "  <tbody>\n",
       "    <tr>\n",
       "      <th>Lisbon</th>\n",
       "      <td>77.0</td>\n",
       "      <td>5486.415584</td>\n",
       "      <td>5704.856079</td>\n",
       "      <td>258.0</td>\n",
       "      <td>1372.0</td>\n",
       "      <td>3748.0</td>\n",
       "      <td>7503.00</td>\n",
       "      <td>28326.0</td>\n",
       "      <td>6131.00</td>\n",
       "      <td>1.039815</td>\n",
       "    </tr>\n",
       "    <tr>\n",
       "      <th>Oporto</th>\n",
       "      <td>47.0</td>\n",
       "      <td>5088.170213</td>\n",
       "      <td>5826.343145</td>\n",
       "      <td>333.0</td>\n",
       "      <td>1430.5</td>\n",
       "      <td>2374.0</td>\n",
       "      <td>5772.50</td>\n",
       "      <td>25071.0</td>\n",
       "      <td>4342.00</td>\n",
       "      <td>1.145076</td>\n",
       "    </tr>\n",
       "    <tr>\n",
       "      <th>Other</th>\n",
       "      <td>316.0</td>\n",
       "      <td>5977.085443</td>\n",
       "      <td>7935.463443</td>\n",
       "      <td>55.0</td>\n",
       "      <td>1634.0</td>\n",
       "      <td>3684.5</td>\n",
       "      <td>7198.75</td>\n",
       "      <td>73498.0</td>\n",
       "      <td>5564.75</td>\n",
       "      <td>1.327648</td>\n",
       "    </tr>\n",
       "  </tbody>\n",
       "</table>\n",
       "</div>"
      ],
      "text/plain": [
       "        count         mean          std    min     25%     50%      75%  \\\n",
       "Region                                                                    \n",
       "Lisbon   77.0  5486.415584  5704.856079  258.0  1372.0  3748.0  7503.00   \n",
       "Oporto   47.0  5088.170213  5826.343145  333.0  1430.5  2374.0  5772.50   \n",
       "Other   316.0  5977.085443  7935.463443   55.0  1634.0  3684.5  7198.75   \n",
       "\n",
       "            max      IQR       COV  \n",
       "Region                              \n",
       "Lisbon  28326.0  6131.00  1.039815  \n",
       "Oporto  25071.0  4342.00  1.145076  \n",
       "Other   73498.0  5564.75  1.327648  "
      ]
     },
     "execution_count": 30,
     "metadata": {},
     "output_type": "execute_result"
    }
   ],
   "source": [
    "df_r_milk"
   ]
  },
  {
   "cell_type": "code",
   "execution_count": 31,
   "metadata": {},
   "outputs": [
    {
     "data": {
      "image/png": "[encoded data removed]",
      "text/plain": [
       "<Figure size 504x360 with 4 Axes>"
      ]
     },
     "metadata": {
      "needs_background": "light"
     },
     "output_type": "display_data"
    }
   ],
   "source": [
    "df.hist(by = \"Region\", column = 'Milk',figsize = (7,5));"
   ]
  },
  {
   "cell_type": "code",
   "execution_count": 32,
   "metadata": {},
   "outputs": [
    {
     "name": "stderr",
     "output_type": "stream",
     "text": [
      "C:\\Users\\adity\\anaconda3\\lib\\site-packages\\pandas\\core\\indexing.py:844: SettingWithCopyWarning: \n",
      "A value is trying to be set on a copy of a slice from a DataFrame.\n",
      "Try using .loc[row_indexer,col_indexer] = value instead\n",
      "\n",
      "See the caveats in the documentation: https://pandas.pydata.org/pandas-docs/stable/user_guide/indexing.html#returning-a-view-versus-a-copy\n",
      "  self.obj[key] = _infer_fill_value(value)\n",
      "C:\\Users\\adity\\anaconda3\\lib\\site-packages\\pandas\\core\\indexing.py:1047: SettingWithCopyWarning: \n",
      "A value is trying to be set on a copy of a slice from a DataFrame.\n",
      "Try using .loc[row_indexer,col_indexer] = value instead\n",
      "\n",
      "See the caveats in the documentation: https://pandas.pydata.org/pandas-docs/stable/user_guide/indexing.html#returning-a-view-versus-a-copy\n",
      "  self.obj[item_labels[indexer[info_axis]]] = value\n"
     ]
    },
    {
     "data": {
      "text/html": [
       "<div>\n",
       "<style scoped>\n",
       "    .dataframe tbody tr th:only-of-type {\n",
       "        vertical-align: middle;\n",
       "    }\n",
       "\n",
       "    .dataframe tbody tr th {\n",
       "        vertical-align: top;\n",
       "    }\n",
       "\n",
       "    .dataframe thead th {\n",
       "        text-align: right;\n",
       "    }\n",
       "</style>\n",
       "<table border=\"1\" class=\"dataframe\">\n",
       "  <thead>\n",
       "    <tr style=\"text-align: right;\">\n",
       "      <th></th>\n",
       "      <th>count</th>\n",
       "      <th>mean</th>\n",
       "      <th>std</th>\n",
       "      <th>min</th>\n",
       "      <th>25%</th>\n",
       "      <th>50%</th>\n",
       "      <th>75%</th>\n",
       "      <th>max</th>\n",
       "      <th>IQR</th>\n",
       "      <th>COV</th>\n",
       "    </tr>\n",
       "    <tr>\n",
       "      <th>Region</th>\n",
       "      <th></th>\n",
       "      <th></th>\n",
       "      <th></th>\n",
       "      <th></th>\n",
       "      <th></th>\n",
       "      <th></th>\n",
       "      <th></th>\n",
       "      <th></th>\n",
       "      <th></th>\n",
       "      <th></th>\n",
       "    </tr>\n",
       "  </thead>\n",
       "  <tbody>\n",
       "    <tr>\n",
       "      <th>Lisbon</th>\n",
       "      <td>77.0</td>\n",
       "      <td>7403.077922</td>\n",
       "      <td>8496.287728</td>\n",
       "      <td>489.0</td>\n",
       "      <td>2046.0</td>\n",
       "      <td>3838.0</td>\n",
       "      <td>9490.00</td>\n",
       "      <td>39694.0</td>\n",
       "      <td>7444.00</td>\n",
       "      <td>1.147670</td>\n",
       "    </tr>\n",
       "    <tr>\n",
       "      <th>Oporto</th>\n",
       "      <td>47.0</td>\n",
       "      <td>9218.595745</td>\n",
       "      <td>10842.745314</td>\n",
       "      <td>1330.0</td>\n",
       "      <td>2792.5</td>\n",
       "      <td>6114.0</td>\n",
       "      <td>11758.50</td>\n",
       "      <td>67298.0</td>\n",
       "      <td>8966.00</td>\n",
       "      <td>1.176182</td>\n",
       "    </tr>\n",
       "    <tr>\n",
       "      <th>Other</th>\n",
       "      <td>316.0</td>\n",
       "      <td>7896.363924</td>\n",
       "      <td>9537.287778</td>\n",
       "      <td>3.0</td>\n",
       "      <td>2141.5</td>\n",
       "      <td>4732.0</td>\n",
       "      <td>10559.75</td>\n",
       "      <td>92780.0</td>\n",
       "      <td>8418.25</td>\n",
       "      <td>1.207808</td>\n",
       "    </tr>\n",
       "  </tbody>\n",
       "</table>\n",
       "</div>"
      ],
      "text/plain": [
       "        count         mean           std     min     25%     50%       75%  \\\n",
       "Region                                                                       \n",
       "Lisbon   77.0  7403.077922   8496.287728   489.0  2046.0  3838.0   9490.00   \n",
       "Oporto   47.0  9218.595745  10842.745314  1330.0  2792.5  6114.0  11758.50   \n",
       "Other   316.0  7896.363924   9537.287778     3.0  2141.5  4732.0  10559.75   \n",
       "\n",
       "            max      IQR       COV  \n",
       "Region                              \n",
       "Lisbon  39694.0  7444.00  1.147670  \n",
       "Oporto  67298.0  8966.00  1.176182  \n",
       "Other   92780.0  8418.25  1.207808  "
      ]
     },
     "execution_count": 32,
     "metadata": {},
     "output_type": "execute_result"
    }
   ],
   "source": [
    "df_r_groc.loc[:,'IQR'] = df_r_groc['75%'] - df_r_groc['25%']\n",
    "df_r_groc.loc[:,'COV'] = df_r_groc['std']/df_r_groc['mean']\n",
    "df_r_groc"
   ]
  },
  {
   "cell_type": "code",
   "execution_count": 33,
   "metadata": {},
   "outputs": [
    {
     "data": {
      "image/png": "[encoded data removed]",
      "text/plain": [
       "<Figure size 432x432 with 4 Axes>"
      ]
     },
     "metadata": {
      "needs_background": "light"
     },
     "output_type": "display_data"
    }
   ],
   "source": [
    "df.hist(by = 'Region', column = 'Grocery', figsize=(6,6));"
   ]
  },
  {
   "cell_type": "code",
   "execution_count": 34,
   "metadata": {},
   "outputs": [
    {
     "name": "stderr",
     "output_type": "stream",
     "text": [
      "C:\\Users\\adity\\anaconda3\\lib\\site-packages\\pandas\\core\\indexing.py:844: SettingWithCopyWarning: \n",
      "A value is trying to be set on a copy of a slice from a DataFrame.\n",
      "Try using .loc[row_indexer,col_indexer] = value instead\n",
      "\n",
      "See the caveats in the documentation: https://pandas.pydata.org/pandas-docs/stable/user_guide/indexing.html#returning-a-view-versus-a-copy\n",
      "  self.obj[key] = _infer_fill_value(value)\n",
      "C:\\Users\\adity\\anaconda3\\lib\\site-packages\\pandas\\core\\indexing.py:1047: SettingWithCopyWarning: \n",
      "A value is trying to be set on a copy of a slice from a DataFrame.\n",
      "Try using .loc[row_indexer,col_indexer] = value instead\n",
      "\n",
      "See the caveats in the documentation: https://pandas.pydata.org/pandas-docs/stable/user_guide/indexing.html#returning-a-view-versus-a-copy\n",
      "  self.obj[item_labels[indexer[info_axis]]] = value\n"
     ]
    },
    {
     "data": {
      "text/html": [
       "<div>\n",
       "<style scoped>\n",
       "    .dataframe tbody tr th:only-of-type {\n",
       "        vertical-align: middle;\n",
       "    }\n",
       "\n",
       "    .dataframe tbody tr th {\n",
       "        vertical-align: top;\n",
       "    }\n",
       "\n",
       "    .dataframe thead th {\n",
       "        text-align: right;\n",
       "    }\n",
       "</style>\n",
       "<table border=\"1\" class=\"dataframe\">\n",
       "  <thead>\n",
       "    <tr style=\"text-align: right;\">\n",
       "      <th></th>\n",
       "      <th>count</th>\n",
       "      <th>mean</th>\n",
       "      <th>std</th>\n",
       "      <th>min</th>\n",
       "      <th>25%</th>\n",
       "      <th>50%</th>\n",
       "      <th>75%</th>\n",
       "      <th>max</th>\n",
       "      <th>IQR</th>\n",
       "      <th>COV</th>\n",
       "    </tr>\n",
       "    <tr>\n",
       "      <th>Region</th>\n",
       "      <th></th>\n",
       "      <th></th>\n",
       "      <th></th>\n",
       "      <th></th>\n",
       "      <th></th>\n",
       "      <th></th>\n",
       "      <th></th>\n",
       "      <th></th>\n",
       "      <th></th>\n",
       "      <th></th>\n",
       "    </tr>\n",
       "  </thead>\n",
       "  <tbody>\n",
       "    <tr>\n",
       "      <th>Lisbon</th>\n",
       "      <td>77.0</td>\n",
       "      <td>3000.337662</td>\n",
       "      <td>3092.143894</td>\n",
       "      <td>61.0</td>\n",
       "      <td>950.00</td>\n",
       "      <td>1801.0</td>\n",
       "      <td>4324.00</td>\n",
       "      <td>18711.0</td>\n",
       "      <td>3374.0</td>\n",
       "      <td>1.030599</td>\n",
       "    </tr>\n",
       "    <tr>\n",
       "      <th>Oporto</th>\n",
       "      <td>47.0</td>\n",
       "      <td>4045.361702</td>\n",
       "      <td>9151.784954</td>\n",
       "      <td>131.0</td>\n",
       "      <td>811.50</td>\n",
       "      <td>1455.0</td>\n",
       "      <td>3272.00</td>\n",
       "      <td>60869.0</td>\n",
       "      <td>2460.5</td>\n",
       "      <td>2.262291</td>\n",
       "    </tr>\n",
       "    <tr>\n",
       "      <th>Other</th>\n",
       "      <td>316.0</td>\n",
       "      <td>2944.594937</td>\n",
       "      <td>4260.126243</td>\n",
       "      <td>25.0</td>\n",
       "      <td>664.75</td>\n",
       "      <td>1498.0</td>\n",
       "      <td>3354.75</td>\n",
       "      <td>36534.0</td>\n",
       "      <td>2690.0</td>\n",
       "      <td>1.446761</td>\n",
       "    </tr>\n",
       "  </tbody>\n",
       "</table>\n",
       "</div>"
      ],
      "text/plain": [
       "        count         mean          std    min     25%     50%      75%  \\\n",
       "Region                                                                    \n",
       "Lisbon   77.0  3000.337662  3092.143894   61.0  950.00  1801.0  4324.00   \n",
       "Oporto   47.0  4045.361702  9151.784954  131.0  811.50  1455.0  3272.00   \n",
       "Other   316.0  2944.594937  4260.126243   25.0  664.75  1498.0  3354.75   \n",
       "\n",
       "            max     IQR       COV  \n",
       "Region                             \n",
       "Lisbon  18711.0  3374.0  1.030599  \n",
       "Oporto  60869.0  2460.5  2.262291  \n",
       "Other   36534.0  2690.0  1.446761  "
      ]
     },
     "execution_count": 34,
     "metadata": {},
     "output_type": "execute_result"
    }
   ],
   "source": [
    "df_r_froz.loc[:,'IQR'] = df_r_froz.loc[:,'75%']-df_r_froz.loc[:,'25%']\n",
    "df_r_froz.loc[:,'COV'] = df_r_froz.loc[:,'std']/df_r_froz.loc[:,'mean']\n",
    "df_r_froz"
   ]
  },
  {
   "cell_type": "code",
   "execution_count": 35,
   "metadata": {},
   "outputs": [
    {
     "data": {
      "image/png": "[encoded data removed]",
      "text/plain": [
       "<Figure size 360x396 with 4 Axes>"
      ]
     },
     "metadata": {
      "needs_background": "light"
     },
     "output_type": "display_data"
    }
   ],
   "source": [
    "df.hist(by = 'Region', column = 'Frozen',figsize=(5,5.5));"
   ]
  },
  {
   "cell_type": "code",
   "execution_count": 36,
   "metadata": {},
   "outputs": [
    {
     "name": "stderr",
     "output_type": "stream",
     "text": [
      "C:\\Users\\adity\\anaconda3\\lib\\site-packages\\pandas\\core\\indexing.py:844: SettingWithCopyWarning: \n",
      "A value is trying to be set on a copy of a slice from a DataFrame.\n",
      "Try using .loc[row_indexer,col_indexer] = value instead\n",
      "\n",
      "See the caveats in the documentation: https://pandas.pydata.org/pandas-docs/stable/user_guide/indexing.html#returning-a-view-versus-a-copy\n",
      "  self.obj[key] = _infer_fill_value(value)\n",
      "C:\\Users\\adity\\anaconda3\\lib\\site-packages\\pandas\\core\\indexing.py:1047: SettingWithCopyWarning: \n",
      "A value is trying to be set on a copy of a slice from a DataFrame.\n",
      "Try using .loc[row_indexer,col_indexer] = value instead\n",
      "\n",
      "See the caveats in the documentation: https://pandas.pydata.org/pandas-docs/stable/user_guide/indexing.html#returning-a-view-versus-a-copy\n",
      "  self.obj[item_labels[indexer[info_axis]]] = value\n"
     ]
    },
    {
     "data": {
      "text/html": [
       "<div>\n",
       "<style scoped>\n",
       "    .dataframe tbody tr th:only-of-type {\n",
       "        vertical-align: middle;\n",
       "    }\n",
       "\n",
       "    .dataframe tbody tr th {\n",
       "        vertical-align: top;\n",
       "    }\n",
       "\n",
       "    .dataframe thead th {\n",
       "        text-align: right;\n",
       "    }\n",
       "</style>\n",
       "<table border=\"1\" class=\"dataframe\">\n",
       "  <thead>\n",
       "    <tr style=\"text-align: right;\">\n",
       "      <th></th>\n",
       "      <th>count</th>\n",
       "      <th>mean</th>\n",
       "      <th>std</th>\n",
       "      <th>min</th>\n",
       "      <th>25%</th>\n",
       "      <th>50%</th>\n",
       "      <th>75%</th>\n",
       "      <th>max</th>\n",
       "      <th>IQR</th>\n",
       "      <th>COV</th>\n",
       "    </tr>\n",
       "    <tr>\n",
       "      <th>Region</th>\n",
       "      <th></th>\n",
       "      <th></th>\n",
       "      <th></th>\n",
       "      <th></th>\n",
       "      <th></th>\n",
       "      <th></th>\n",
       "      <th></th>\n",
       "      <th></th>\n",
       "      <th></th>\n",
       "      <th></th>\n",
       "    </tr>\n",
       "  </thead>\n",
       "  <tbody>\n",
       "    <tr>\n",
       "      <th>Lisbon</th>\n",
       "      <td>77.0</td>\n",
       "      <td>2651.116883</td>\n",
       "      <td>4208.462708</td>\n",
       "      <td>5.0</td>\n",
       "      <td>284.00</td>\n",
       "      <td>737.0</td>\n",
       "      <td>3593.00</td>\n",
       "      <td>19410.0</td>\n",
       "      <td>3309.0</td>\n",
       "      <td>1.587430</td>\n",
       "    </tr>\n",
       "    <tr>\n",
       "      <th>Oporto</th>\n",
       "      <td>47.0</td>\n",
       "      <td>3687.468085</td>\n",
       "      <td>6514.717668</td>\n",
       "      <td>15.0</td>\n",
       "      <td>282.50</td>\n",
       "      <td>811.0</td>\n",
       "      <td>4324.50</td>\n",
       "      <td>38102.0</td>\n",
       "      <td>4042.0</td>\n",
       "      <td>1.766718</td>\n",
       "    </tr>\n",
       "    <tr>\n",
       "      <th>Other</th>\n",
       "      <td>316.0</td>\n",
       "      <td>2817.753165</td>\n",
       "      <td>4593.051613</td>\n",
       "      <td>3.0</td>\n",
       "      <td>251.25</td>\n",
       "      <td>856.0</td>\n",
       "      <td>3875.75</td>\n",
       "      <td>40827.0</td>\n",
       "      <td>3624.5</td>\n",
       "      <td>1.630040</td>\n",
       "    </tr>\n",
       "  </tbody>\n",
       "</table>\n",
       "</div>"
      ],
      "text/plain": [
       "        count         mean          std   min     25%    50%      75%  \\\n",
       "Region                                                                  \n",
       "Lisbon   77.0  2651.116883  4208.462708   5.0  284.00  737.0  3593.00   \n",
       "Oporto   47.0  3687.468085  6514.717668  15.0  282.50  811.0  4324.50   \n",
       "Other   316.0  2817.753165  4593.051613   3.0  251.25  856.0  3875.75   \n",
       "\n",
       "            max     IQR       COV  \n",
       "Region                             \n",
       "Lisbon  19410.0  3309.0  1.587430  \n",
       "Oporto  38102.0  4042.0  1.766718  \n",
       "Other   40827.0  3624.5  1.630040  "
      ]
     },
     "execution_count": 36,
     "metadata": {},
     "output_type": "execute_result"
    }
   ],
   "source": [
    "df_r_detr.loc[:,'IQR'] = df_r_detr.loc[:,'75%'] - df_r_detr.loc[:,'25%']\n",
    "df_r_detr.loc[:,'COV'] = df_r_detr.loc[:,'std']/df_r_detr.loc[:,'mean']\n",
    "df_r_detr"
   ]
  },
  {
   "cell_type": "code",
   "execution_count": 37,
   "metadata": {},
   "outputs": [
    {
     "data": {
      "image/png": "[encoded data removed]",
      "text/plain": [
       "<Figure size 360x381.6 with 4 Axes>"
      ]
     },
     "metadata": {
      "needs_background": "light"
     },
     "output_type": "display_data"
    }
   ],
   "source": [
    "df.hist(by = 'Region', column = 'Detergents_Paper', figsize=(5,5.3));"
   ]
  },
  {
   "cell_type": "code",
   "execution_count": 38,
   "metadata": {},
   "outputs": [
    {
     "name": "stderr",
     "output_type": "stream",
     "text": [
      "C:\\Users\\adity\\anaconda3\\lib\\site-packages\\pandas\\core\\indexing.py:844: SettingWithCopyWarning: \n",
      "A value is trying to be set on a copy of a slice from a DataFrame.\n",
      "Try using .loc[row_indexer,col_indexer] = value instead\n",
      "\n",
      "See the caveats in the documentation: https://pandas.pydata.org/pandas-docs/stable/user_guide/indexing.html#returning-a-view-versus-a-copy\n",
      "  self.obj[key] = _infer_fill_value(value)\n",
      "C:\\Users\\adity\\anaconda3\\lib\\site-packages\\pandas\\core\\indexing.py:1047: SettingWithCopyWarning: \n",
      "A value is trying to be set on a copy of a slice from a DataFrame.\n",
      "Try using .loc[row_indexer,col_indexer] = value instead\n",
      "\n",
      "See the caveats in the documentation: https://pandas.pydata.org/pandas-docs/stable/user_guide/indexing.html#returning-a-view-versus-a-copy\n",
      "  self.obj[item_labels[indexer[info_axis]]] = value\n"
     ]
    },
    {
     "data": {
      "text/html": [
       "<div>\n",
       "<style scoped>\n",
       "    .dataframe tbody tr th:only-of-type {\n",
       "        vertical-align: middle;\n",
       "    }\n",
       "\n",
       "    .dataframe tbody tr th {\n",
       "        vertical-align: top;\n",
       "    }\n",
       "\n",
       "    .dataframe thead th {\n",
       "        text-align: right;\n",
       "    }\n",
       "</style>\n",
       "<table border=\"1\" class=\"dataframe\">\n",
       "  <thead>\n",
       "    <tr style=\"text-align: right;\">\n",
       "      <th></th>\n",
       "      <th>count</th>\n",
       "      <th>mean</th>\n",
       "      <th>std</th>\n",
       "      <th>min</th>\n",
       "      <th>25%</th>\n",
       "      <th>50%</th>\n",
       "      <th>75%</th>\n",
       "      <th>max</th>\n",
       "      <th>IQR</th>\n",
       "      <th>COV</th>\n",
       "    </tr>\n",
       "    <tr>\n",
       "      <th>Region</th>\n",
       "      <th></th>\n",
       "      <th></th>\n",
       "      <th></th>\n",
       "      <th></th>\n",
       "      <th></th>\n",
       "      <th></th>\n",
       "      <th></th>\n",
       "      <th></th>\n",
       "      <th></th>\n",
       "      <th></th>\n",
       "    </tr>\n",
       "  </thead>\n",
       "  <tbody>\n",
       "    <tr>\n",
       "      <th>Lisbon</th>\n",
       "      <td>77.0</td>\n",
       "      <td>1354.896104</td>\n",
       "      <td>1345.423340</td>\n",
       "      <td>7.0</td>\n",
       "      <td>548.0</td>\n",
       "      <td>806.0</td>\n",
       "      <td>1775.00</td>\n",
       "      <td>6854.0</td>\n",
       "      <td>1227.00</td>\n",
       "      <td>0.993008</td>\n",
       "    </tr>\n",
       "    <tr>\n",
       "      <th>Oporto</th>\n",
       "      <td>47.0</td>\n",
       "      <td>1159.702128</td>\n",
       "      <td>1050.739841</td>\n",
       "      <td>51.0</td>\n",
       "      <td>540.5</td>\n",
       "      <td>898.0</td>\n",
       "      <td>1538.50</td>\n",
       "      <td>5609.0</td>\n",
       "      <td>998.00</td>\n",
       "      <td>0.906043</td>\n",
       "    </tr>\n",
       "    <tr>\n",
       "      <th>Other</th>\n",
       "      <td>316.0</td>\n",
       "      <td>1620.601266</td>\n",
       "      <td>3232.581660</td>\n",
       "      <td>3.0</td>\n",
       "      <td>402.0</td>\n",
       "      <td>994.0</td>\n",
       "      <td>1832.75</td>\n",
       "      <td>47943.0</td>\n",
       "      <td>1430.75</td>\n",
       "      <td>1.994680</td>\n",
       "    </tr>\n",
       "  </tbody>\n",
       "</table>\n",
       "</div>"
      ],
      "text/plain": [
       "        count         mean          std   min    25%    50%      75%      max  \\\n",
       "Region                                                                          \n",
       "Lisbon   77.0  1354.896104  1345.423340   7.0  548.0  806.0  1775.00   6854.0   \n",
       "Oporto   47.0  1159.702128  1050.739841  51.0  540.5  898.0  1538.50   5609.0   \n",
       "Other   316.0  1620.601266  3232.581660   3.0  402.0  994.0  1832.75  47943.0   \n",
       "\n",
       "            IQR       COV  \n",
       "Region                     \n",
       "Lisbon  1227.00  0.993008  \n",
       "Oporto   998.00  0.906043  \n",
       "Other   1430.75  1.994680  "
      ]
     },
     "execution_count": 38,
     "metadata": {},
     "output_type": "execute_result"
    }
   ],
   "source": [
    "df_r_del.loc[:,'IQR'] = df_r_del.loc[:,'75%'] - df_r_del.loc[:,'25%']\n",
    "df_r_del.loc[:,'COV'] = df_r_del.loc[:,'std']/df_r_del.loc[:,'mean']\n",
    "df_r_del"
   ]
  },
  {
   "cell_type": "code",
   "execution_count": 39,
   "metadata": {},
   "outputs": [
    {
     "data": {
      "image/png": "[encoded data removed]",
      "text/plain": [
       "<Figure size 360x396 with 4 Axes>"
      ]
     },
     "metadata": {
      "needs_background": "light"
     },
     "output_type": "display_data"
    }
   ],
   "source": [
    "df.hist(by = 'Region', column = 'Delicatessen', figsize=(5,5.5));"
   ]
  },
  {
   "cell_type": "markdown",
   "metadata": {},
   "source": [
    "#### Sorting based on channel"
   ]
  },
  {
   "cell_type": "code",
   "execution_count": 40,
   "metadata": {},
   "outputs": [],
   "source": [
    "df2 = df.groupby('Channel').describe()"
   ]
  },
  {
   "cell_type": "code",
   "execution_count": 41,
   "metadata": {},
   "outputs": [],
   "source": [
    "df2_c_fresh = df2.Fresh\n",
    "df2_c_milk = df2.Milk\n",
    "df2_c_groc = df2.Grocery\n",
    "df2_c_froz = df2.Frozen\n",
    "df2_c_det = df2.Detergents_Paper\n",
    "df2_c_del = df2.Delicatessen"
   ]
  },
  {
   "cell_type": "code",
   "execution_count": 42,
   "metadata": {},
   "outputs": [
    {
     "name": "stderr",
     "output_type": "stream",
     "text": [
      "C:\\Users\\adity\\anaconda3\\lib\\site-packages\\pandas\\core\\indexing.py:844: SettingWithCopyWarning: \n",
      "A value is trying to be set on a copy of a slice from a DataFrame.\n",
      "Try using .loc[row_indexer,col_indexer] = value instead\n",
      "\n",
      "See the caveats in the documentation: https://pandas.pydata.org/pandas-docs/stable/user_guide/indexing.html#returning-a-view-versus-a-copy\n",
      "  self.obj[key] = _infer_fill_value(value)\n",
      "C:\\Users\\adity\\anaconda3\\lib\\site-packages\\pandas\\core\\indexing.py:1047: SettingWithCopyWarning: \n",
      "A value is trying to be set on a copy of a slice from a DataFrame.\n",
      "Try using .loc[row_indexer,col_indexer] = value instead\n",
      "\n",
      "See the caveats in the documentation: https://pandas.pydata.org/pandas-docs/stable/user_guide/indexing.html#returning-a-view-versus-a-copy\n",
      "  self.obj[item_labels[indexer[info_axis]]] = value\n"
     ]
    },
    {
     "data": {
      "text/html": [
       "<div>\n",
       "<style scoped>\n",
       "    .dataframe tbody tr th:only-of-type {\n",
       "        vertical-align: middle;\n",
       "    }\n",
       "\n",
       "    .dataframe tbody tr th {\n",
       "        vertical-align: top;\n",
       "    }\n",
       "\n",
       "    .dataframe thead th {\n",
       "        text-align: right;\n",
       "    }\n",
       "</style>\n",
       "<table border=\"1\" class=\"dataframe\">\n",
       "  <thead>\n",
       "    <tr style=\"text-align: right;\">\n",
       "      <th></th>\n",
       "      <th>count</th>\n",
       "      <th>mean</th>\n",
       "      <th>std</th>\n",
       "      <th>min</th>\n",
       "      <th>25%</th>\n",
       "      <th>50%</th>\n",
       "      <th>75%</th>\n",
       "      <th>max</th>\n",
       "      <th>IQR</th>\n",
       "      <th>COV</th>\n",
       "    </tr>\n",
       "    <tr>\n",
       "      <th>Channel</th>\n",
       "      <th></th>\n",
       "      <th></th>\n",
       "      <th></th>\n",
       "      <th></th>\n",
       "      <th></th>\n",
       "      <th></th>\n",
       "      <th></th>\n",
       "      <th></th>\n",
       "      <th></th>\n",
       "      <th></th>\n",
       "    </tr>\n",
       "  </thead>\n",
       "  <tbody>\n",
       "    <tr>\n",
       "      <th>Hotel</th>\n",
       "      <td>298.0</td>\n",
       "      <td>13475.560403</td>\n",
       "      <td>13831.687502</td>\n",
       "      <td>3.0</td>\n",
       "      <td>4070.25</td>\n",
       "      <td>9581.5</td>\n",
       "      <td>18274.75</td>\n",
       "      <td>112151.0</td>\n",
       "      <td>14204.5</td>\n",
       "      <td>1.026428</td>\n",
       "    </tr>\n",
       "    <tr>\n",
       "      <th>Retail</th>\n",
       "      <td>142.0</td>\n",
       "      <td>8904.323944</td>\n",
       "      <td>8987.714750</td>\n",
       "      <td>18.0</td>\n",
       "      <td>2347.75</td>\n",
       "      <td>5993.5</td>\n",
       "      <td>12229.75</td>\n",
       "      <td>44466.0</td>\n",
       "      <td>9882.0</td>\n",
       "      <td>1.009365</td>\n",
       "    </tr>\n",
       "  </tbody>\n",
       "</table>\n",
       "</div>"
      ],
      "text/plain": [
       "         count          mean           std   min      25%     50%       75%  \\\n",
       "Channel                                                                       \n",
       "Hotel    298.0  13475.560403  13831.687502   3.0  4070.25  9581.5  18274.75   \n",
       "Retail   142.0   8904.323944   8987.714750  18.0  2347.75  5993.5  12229.75   \n",
       "\n",
       "              max      IQR       COV  \n",
       "Channel                               \n",
       "Hotel    112151.0  14204.5  1.026428  \n",
       "Retail    44466.0   9882.0  1.009365  "
      ]
     },
     "execution_count": 42,
     "metadata": {},
     "output_type": "execute_result"
    }
   ],
   "source": [
    "df2_c_fresh.loc[:,'IQR'] = df2_c_fresh.loc[:,'75%'] - df2_c_fresh.loc[:,'25%']\n",
    "df2_c_fresh.loc[:,'COV'] = df2_c_fresh.loc[:,'std']/df2_c_fresh.loc[:,'mean']\n",
    "df2_c_fresh"
   ]
  },
  {
   "cell_type": "code",
   "execution_count": 43,
   "metadata": {},
   "outputs": [
    {
     "data": {
      "image/png": "[encoded data removed]",
      "text/plain": [
       "<Figure size 360x216 with 2 Axes>"
      ]
     },
     "metadata": {
      "needs_background": "light"
     },
     "output_type": "display_data"
    }
   ],
   "source": [
    "df.hist(by = 'Channel', column = 'Fresh', figsize = (5,3));"
   ]
  },
  {
   "cell_type": "code",
   "execution_count": 44,
   "metadata": {},
   "outputs": [
    {
     "name": "stderr",
     "output_type": "stream",
     "text": [
      "C:\\Users\\adity\\anaconda3\\lib\\site-packages\\pandas\\core\\indexing.py:844: SettingWithCopyWarning: \n",
      "A value is trying to be set on a copy of a slice from a DataFrame.\n",
      "Try using .loc[row_indexer,col_indexer] = value instead\n",
      "\n",
      "See the caveats in the documentation: https://pandas.pydata.org/pandas-docs/stable/user_guide/indexing.html#returning-a-view-versus-a-copy\n",
      "  self.obj[key] = _infer_fill_value(value)\n",
      "C:\\Users\\adity\\anaconda3\\lib\\site-packages\\pandas\\core\\indexing.py:1047: SettingWithCopyWarning: \n",
      "A value is trying to be set on a copy of a slice from a DataFrame.\n",
      "Try using .loc[row_indexer,col_indexer] = value instead\n",
      "\n",
      "See the caveats in the documentation: https://pandas.pydata.org/pandas-docs/stable/user_guide/indexing.html#returning-a-view-versus-a-copy\n",
      "  self.obj[item_labels[indexer[info_axis]]] = value\n"
     ]
    },
    {
     "data": {
      "text/html": [
       "<div>\n",
       "<style scoped>\n",
       "    .dataframe tbody tr th:only-of-type {\n",
       "        vertical-align: middle;\n",
       "    }\n",
       "\n",
       "    .dataframe tbody tr th {\n",
       "        vertical-align: top;\n",
       "    }\n",
       "\n",
       "    .dataframe thead th {\n",
       "        text-align: right;\n",
       "    }\n",
       "</style>\n",
       "<table border=\"1\" class=\"dataframe\">\n",
       "  <thead>\n",
       "    <tr style=\"text-align: right;\">\n",
       "      <th></th>\n",
       "      <th>count</th>\n",
       "      <th>mean</th>\n",
       "      <th>std</th>\n",
       "      <th>min</th>\n",
       "      <th>25%</th>\n",
       "      <th>50%</th>\n",
       "      <th>75%</th>\n",
       "      <th>max</th>\n",
       "      <th>IQR</th>\n",
       "      <th>COV</th>\n",
       "    </tr>\n",
       "    <tr>\n",
       "      <th>Channel</th>\n",
       "      <th></th>\n",
       "      <th></th>\n",
       "      <th></th>\n",
       "      <th></th>\n",
       "      <th></th>\n",
       "      <th></th>\n",
       "      <th></th>\n",
       "      <th></th>\n",
       "      <th></th>\n",
       "      <th></th>\n",
       "    </tr>\n",
       "  </thead>\n",
       "  <tbody>\n",
       "    <tr>\n",
       "      <th>Hotel</th>\n",
       "      <td>298.0</td>\n",
       "      <td>3451.724832</td>\n",
       "      <td>4352.165571</td>\n",
       "      <td>55.0</td>\n",
       "      <td>1164.5</td>\n",
       "      <td>2157.0</td>\n",
       "      <td>4029.50</td>\n",
       "      <td>43950.0</td>\n",
       "      <td>2865.00</td>\n",
       "      <td>1.260867</td>\n",
       "    </tr>\n",
       "    <tr>\n",
       "      <th>Retail</th>\n",
       "      <td>142.0</td>\n",
       "      <td>10716.500000</td>\n",
       "      <td>9679.631351</td>\n",
       "      <td>928.0</td>\n",
       "      <td>5938.0</td>\n",
       "      <td>7812.0</td>\n",
       "      <td>12162.75</td>\n",
       "      <td>73498.0</td>\n",
       "      <td>6224.75</td>\n",
       "      <td>0.903246</td>\n",
       "    </tr>\n",
       "  </tbody>\n",
       "</table>\n",
       "</div>"
      ],
      "text/plain": [
       "         count          mean          std    min     25%     50%       75%  \\\n",
       "Channel                                                                      \n",
       "Hotel    298.0   3451.724832  4352.165571   55.0  1164.5  2157.0   4029.50   \n",
       "Retail   142.0  10716.500000  9679.631351  928.0  5938.0  7812.0  12162.75   \n",
       "\n",
       "             max      IQR       COV  \n",
       "Channel                              \n",
       "Hotel    43950.0  2865.00  1.260867  \n",
       "Retail   73498.0  6224.75  0.903246  "
      ]
     },
     "execution_count": 44,
     "metadata": {},
     "output_type": "execute_result"
    }
   ],
   "source": [
    "df2_c_milk.loc[:,'IQR'] = df2_c_milk['75%'] - df2_c_milk['25%']\n",
    "df2_c_milk.loc[:,'COV'] = df2_c_milk['std']/df2_c_milk['mean']\n",
    "df2_c_milk\n"
   ]
  },
  {
   "cell_type": "code",
   "execution_count": 45,
   "metadata": {},
   "outputs": [
    {
     "data": {
      "image/png": "[encoded data removed]",
      "text/plain": [
       "<Figure size 360x216 with 2 Axes>"
      ]
     },
     "metadata": {
      "needs_background": "light"
     },
     "output_type": "display_data"
    }
   ],
   "source": [
    "df.hist(by = 'Channel', column = 'Milk', figsize = (5,3));"
   ]
  },
  {
   "cell_type": "code",
   "execution_count": 46,
   "metadata": {},
   "outputs": [
    {
     "name": "stderr",
     "output_type": "stream",
     "text": [
      "C:\\Users\\adity\\anaconda3\\lib\\site-packages\\pandas\\core\\indexing.py:844: SettingWithCopyWarning: \n",
      "A value is trying to be set on a copy of a slice from a DataFrame.\n",
      "Try using .loc[row_indexer,col_indexer] = value instead\n",
      "\n",
      "See the caveats in the documentation: https://pandas.pydata.org/pandas-docs/stable/user_guide/indexing.html#returning-a-view-versus-a-copy\n",
      "  self.obj[key] = _infer_fill_value(value)\n",
      "C:\\Users\\adity\\anaconda3\\lib\\site-packages\\pandas\\core\\indexing.py:1047: SettingWithCopyWarning: \n",
      "A value is trying to be set on a copy of a slice from a DataFrame.\n",
      "Try using .loc[row_indexer,col_indexer] = value instead\n",
      "\n",
      "See the caveats in the documentation: https://pandas.pydata.org/pandas-docs/stable/user_guide/indexing.html#returning-a-view-versus-a-copy\n",
      "  self.obj[item_labels[indexer[info_axis]]] = value\n"
     ]
    },
    {
     "data": {
      "text/html": [
       "<div>\n",
       "<style scoped>\n",
       "    .dataframe tbody tr th:only-of-type {\n",
       "        vertical-align: middle;\n",
       "    }\n",
       "\n",
       "    .dataframe tbody tr th {\n",
       "        vertical-align: top;\n",
       "    }\n",
       "\n",
       "    .dataframe thead th {\n",
       "        text-align: right;\n",
       "    }\n",
       "</style>\n",
       "<table border=\"1\" class=\"dataframe\">\n",
       "  <thead>\n",
       "    <tr style=\"text-align: right;\">\n",
       "      <th></th>\n",
       "      <th>count</th>\n",
       "      <th>mean</th>\n",
       "      <th>std</th>\n",
       "      <th>min</th>\n",
       "      <th>25%</th>\n",
       "      <th>50%</th>\n",
       "      <th>75%</th>\n",
       "      <th>max</th>\n",
       "      <th>IQR</th>\n",
       "      <th>COV</th>\n",
       "    </tr>\n",
       "    <tr>\n",
       "      <th>Channel</th>\n",
       "      <th></th>\n",
       "      <th></th>\n",
       "      <th></th>\n",
       "      <th></th>\n",
       "      <th></th>\n",
       "      <th></th>\n",
       "      <th></th>\n",
       "      <th></th>\n",
       "      <th></th>\n",
       "      <th></th>\n",
       "    </tr>\n",
       "  </thead>\n",
       "  <tbody>\n",
       "    <tr>\n",
       "      <th>Hotel</th>\n",
       "      <td>298.0</td>\n",
       "      <td>3962.137584</td>\n",
       "      <td>3545.513391</td>\n",
       "      <td>3.0</td>\n",
       "      <td>1703.75</td>\n",
       "      <td>2684.0</td>\n",
       "      <td>5076.75</td>\n",
       "      <td>21042.0</td>\n",
       "      <td>3373.00</td>\n",
       "      <td>0.894849</td>\n",
       "    </tr>\n",
       "    <tr>\n",
       "      <th>Retail</th>\n",
       "      <td>142.0</td>\n",
       "      <td>16322.852113</td>\n",
       "      <td>12267.318094</td>\n",
       "      <td>2743.0</td>\n",
       "      <td>9245.25</td>\n",
       "      <td>12390.0</td>\n",
       "      <td>20183.50</td>\n",
       "      <td>92780.0</td>\n",
       "      <td>10938.25</td>\n",
       "      <td>0.751543</td>\n",
       "    </tr>\n",
       "  </tbody>\n",
       "</table>\n",
       "</div>"
      ],
      "text/plain": [
       "         count          mean           std     min      25%      50%  \\\n",
       "Channel                                                                \n",
       "Hotel    298.0   3962.137584   3545.513391     3.0  1703.75   2684.0   \n",
       "Retail   142.0  16322.852113  12267.318094  2743.0  9245.25  12390.0   \n",
       "\n",
       "              75%      max       IQR       COV  \n",
       "Channel                                         \n",
       "Hotel     5076.75  21042.0   3373.00  0.894849  \n",
       "Retail   20183.50  92780.0  10938.25  0.751543  "
      ]
     },
     "execution_count": 46,
     "metadata": {},
     "output_type": "execute_result"
    }
   ],
   "source": [
    "df2_c_groc.loc[:,'IQR'] = df2_c_groc['75%'] - df2_c_groc['25%']\n",
    "df2_c_groc.loc[:,'COV'] = df2_c_groc['std']/df2_c_groc['mean']\n",
    "df2_c_groc"
   ]
  },
  {
   "cell_type": "code",
   "execution_count": 47,
   "metadata": {},
   "outputs": [
    {
     "data": {
      "image/png": "[encoded data removed]",
      "text/plain": [
       "<Figure size 360x216 with 2 Axes>"
      ]
     },
     "metadata": {
      "needs_background": "light"
     },
     "output_type": "display_data"
    }
   ],
   "source": [
    "df.hist(by = 'Channel', column = 'Grocery', figsize = (5,3));"
   ]
  },
  {
   "cell_type": "code",
   "execution_count": 48,
   "metadata": {},
   "outputs": [
    {
     "name": "stderr",
     "output_type": "stream",
     "text": [
      "C:\\Users\\adity\\anaconda3\\lib\\site-packages\\pandas\\core\\indexing.py:844: SettingWithCopyWarning: \n",
      "A value is trying to be set on a copy of a slice from a DataFrame.\n",
      "Try using .loc[row_indexer,col_indexer] = value instead\n",
      "\n",
      "See the caveats in the documentation: https://pandas.pydata.org/pandas-docs/stable/user_guide/indexing.html#returning-a-view-versus-a-copy\n",
      "  self.obj[key] = _infer_fill_value(value)\n",
      "C:\\Users\\adity\\anaconda3\\lib\\site-packages\\pandas\\core\\indexing.py:1047: SettingWithCopyWarning: \n",
      "A value is trying to be set on a copy of a slice from a DataFrame.\n",
      "Try using .loc[row_indexer,col_indexer] = value instead\n",
      "\n",
      "See the caveats in the documentation: https://pandas.pydata.org/pandas-docs/stable/user_guide/indexing.html#returning-a-view-versus-a-copy\n",
      "  self.obj[item_labels[indexer[info_axis]]] = value\n"
     ]
    },
    {
     "data": {
      "text/html": [
       "<div>\n",
       "<style scoped>\n",
       "    .dataframe tbody tr th:only-of-type {\n",
       "        vertical-align: middle;\n",
       "    }\n",
       "\n",
       "    .dataframe tbody tr th {\n",
       "        vertical-align: top;\n",
       "    }\n",
       "\n",
       "    .dataframe thead th {\n",
       "        text-align: right;\n",
       "    }\n",
       "</style>\n",
       "<table border=\"1\" class=\"dataframe\">\n",
       "  <thead>\n",
       "    <tr style=\"text-align: right;\">\n",
       "      <th></th>\n",
       "      <th>count</th>\n",
       "      <th>mean</th>\n",
       "      <th>std</th>\n",
       "      <th>min</th>\n",
       "      <th>25%</th>\n",
       "      <th>50%</th>\n",
       "      <th>75%</th>\n",
       "      <th>max</th>\n",
       "      <th>IQR</th>\n",
       "      <th>COV</th>\n",
       "    </tr>\n",
       "    <tr>\n",
       "      <th>Channel</th>\n",
       "      <th></th>\n",
       "      <th></th>\n",
       "      <th></th>\n",
       "      <th></th>\n",
       "      <th></th>\n",
       "      <th></th>\n",
       "      <th></th>\n",
       "      <th></th>\n",
       "      <th></th>\n",
       "      <th></th>\n",
       "    </tr>\n",
       "  </thead>\n",
       "  <tbody>\n",
       "    <tr>\n",
       "      <th>Hotel</th>\n",
       "      <td>298.0</td>\n",
       "      <td>3748.251678</td>\n",
       "      <td>5643.912500</td>\n",
       "      <td>25.0</td>\n",
       "      <td>830.00</td>\n",
       "      <td>2057.5</td>\n",
       "      <td>4558.75</td>\n",
       "      <td>60869.0</td>\n",
       "      <td>3728.75</td>\n",
       "      <td>1.505745</td>\n",
       "    </tr>\n",
       "    <tr>\n",
       "      <th>Retail</th>\n",
       "      <td>142.0</td>\n",
       "      <td>1652.612676</td>\n",
       "      <td>1812.803662</td>\n",
       "      <td>33.0</td>\n",
       "      <td>534.25</td>\n",
       "      <td>1081.0</td>\n",
       "      <td>2146.75</td>\n",
       "      <td>11559.0</td>\n",
       "      <td>1612.50</td>\n",
       "      <td>1.096932</td>\n",
       "    </tr>\n",
       "  </tbody>\n",
       "</table>\n",
       "</div>"
      ],
      "text/plain": [
       "         count         mean          std   min     25%     50%      75%  \\\n",
       "Channel                                                                   \n",
       "Hotel    298.0  3748.251678  5643.912500  25.0  830.00  2057.5  4558.75   \n",
       "Retail   142.0  1652.612676  1812.803662  33.0  534.25  1081.0  2146.75   \n",
       "\n",
       "             max      IQR       COV  \n",
       "Channel                              \n",
       "Hotel    60869.0  3728.75  1.505745  \n",
       "Retail   11559.0  1612.50  1.096932  "
      ]
     },
     "execution_count": 48,
     "metadata": {},
     "output_type": "execute_result"
    }
   ],
   "source": [
    "df2_c_froz.loc[:,'IQR'] = df2_c_froz.loc[:,'75%'] - df2_c_froz.loc[:,'25%']\n",
    "df2_c_froz.loc[:,'COV'] = df2_c_froz.loc[:,'std']/df2_c_froz.loc[:,'mean']\n",
    "df2_c_froz"
   ]
  },
  {
   "cell_type": "code",
   "execution_count": 49,
   "metadata": {},
   "outputs": [
    {
     "data": {
      "image/png": "[encoded data removed]",
      "text/plain": [
       "<Figure size 360x216 with 2 Axes>"
      ]
     },
     "metadata": {
      "needs_background": "light"
     },
     "output_type": "display_data"
    }
   ],
   "source": [
    "df.hist(by = 'Channel', column = 'Frozen', figsize = (5,3));"
   ]
  },
  {
   "cell_type": "code",
   "execution_count": 50,
   "metadata": {},
   "outputs": [
    {
     "name": "stderr",
     "output_type": "stream",
     "text": [
      "C:\\Users\\adity\\anaconda3\\lib\\site-packages\\pandas\\core\\indexing.py:844: SettingWithCopyWarning: \n",
      "A value is trying to be set on a copy of a slice from a DataFrame.\n",
      "Try using .loc[row_indexer,col_indexer] = value instead\n",
      "\n",
      "See the caveats in the documentation: https://pandas.pydata.org/pandas-docs/stable/user_guide/indexing.html#returning-a-view-versus-a-copy\n",
      "  self.obj[key] = _infer_fill_value(value)\n",
      "C:\\Users\\adity\\anaconda3\\lib\\site-packages\\pandas\\core\\indexing.py:1047: SettingWithCopyWarning: \n",
      "A value is trying to be set on a copy of a slice from a DataFrame.\n",
      "Try using .loc[row_indexer,col_indexer] = value instead\n",
      "\n",
      "See the caveats in the documentation: https://pandas.pydata.org/pandas-docs/stable/user_guide/indexing.html#returning-a-view-versus-a-copy\n",
      "  self.obj[item_labels[indexer[info_axis]]] = value\n"
     ]
    },
    {
     "data": {
      "text/html": [
       "<div>\n",
       "<style scoped>\n",
       "    .dataframe tbody tr th:only-of-type {\n",
       "        vertical-align: middle;\n",
       "    }\n",
       "\n",
       "    .dataframe tbody tr th {\n",
       "        vertical-align: top;\n",
       "    }\n",
       "\n",
       "    .dataframe thead th {\n",
       "        text-align: right;\n",
       "    }\n",
       "</style>\n",
       "<table border=\"1\" class=\"dataframe\">\n",
       "  <thead>\n",
       "    <tr style=\"text-align: right;\">\n",
       "      <th></th>\n",
       "      <th>count</th>\n",
       "      <th>mean</th>\n",
       "      <th>std</th>\n",
       "      <th>min</th>\n",
       "      <th>25%</th>\n",
       "      <th>50%</th>\n",
       "      <th>75%</th>\n",
       "      <th>max</th>\n",
       "      <th>IQR</th>\n",
       "      <th>COV</th>\n",
       "    </tr>\n",
       "    <tr>\n",
       "      <th>Channel</th>\n",
       "      <th></th>\n",
       "      <th></th>\n",
       "      <th></th>\n",
       "      <th></th>\n",
       "      <th></th>\n",
       "      <th></th>\n",
       "      <th></th>\n",
       "      <th></th>\n",
       "      <th></th>\n",
       "      <th></th>\n",
       "    </tr>\n",
       "  </thead>\n",
       "  <tbody>\n",
       "    <tr>\n",
       "      <th>Hotel</th>\n",
       "      <td>298.0</td>\n",
       "      <td>790.560403</td>\n",
       "      <td>1104.093673</td>\n",
       "      <td>3.0</td>\n",
       "      <td>183.25</td>\n",
       "      <td>385.5</td>\n",
       "      <td>899.5</td>\n",
       "      <td>6907.0</td>\n",
       "      <td>716.25</td>\n",
       "      <td>1.396596</td>\n",
       "    </tr>\n",
       "    <tr>\n",
       "      <th>Retail</th>\n",
       "      <td>142.0</td>\n",
       "      <td>7269.507042</td>\n",
       "      <td>6291.089697</td>\n",
       "      <td>332.0</td>\n",
       "      <td>3683.50</td>\n",
       "      <td>5614.5</td>\n",
       "      <td>8662.5</td>\n",
       "      <td>40827.0</td>\n",
       "      <td>4979.00</td>\n",
       "      <td>0.865408</td>\n",
       "    </tr>\n",
       "  </tbody>\n",
       "</table>\n",
       "</div>"
      ],
      "text/plain": [
       "         count         mean          std    min      25%     50%     75%  \\\n",
       "Channel                                                                    \n",
       "Hotel    298.0   790.560403  1104.093673    3.0   183.25   385.5   899.5   \n",
       "Retail   142.0  7269.507042  6291.089697  332.0  3683.50  5614.5  8662.5   \n",
       "\n",
       "             max      IQR       COV  \n",
       "Channel                              \n",
       "Hotel     6907.0   716.25  1.396596  \n",
       "Retail   40827.0  4979.00  0.865408  "
      ]
     },
     "execution_count": 50,
     "metadata": {},
     "output_type": "execute_result"
    }
   ],
   "source": [
    "df2_c_det.loc[:,'IQR'] = df2_c_det.loc[:,'75%'] - df2_c_det.loc[:,'25%']\n",
    "df2_c_det.loc[:,'COV'] = df2_c_det.loc[:,'std'] / df2_c_det.loc[:,'mean']\n",
    "df2_c_det"
   ]
  },
  {
   "cell_type": "code",
   "execution_count": 51,
   "metadata": {},
   "outputs": [
    {
     "data": {
      "image/png": "[encoded data removed]",
      "text/plain": [
       "<Figure size 360x216 with 2 Axes>"
      ]
     },
     "metadata": {
      "needs_background": "light"
     },
     "output_type": "display_data"
    }
   ],
   "source": [
    "df.hist(by = 'Channel', column = 'Detergents_Paper', figsize = (5,3));"
   ]
  },
  {
   "cell_type": "code",
   "execution_count": 52,
   "metadata": {},
   "outputs": [
    {
     "name": "stderr",
     "output_type": "stream",
     "text": [
      "C:\\Users\\adity\\anaconda3\\lib\\site-packages\\pandas\\core\\indexing.py:844: SettingWithCopyWarning: \n",
      "A value is trying to be set on a copy of a slice from a DataFrame.\n",
      "Try using .loc[row_indexer,col_indexer] = value instead\n",
      "\n",
      "See the caveats in the documentation: https://pandas.pydata.org/pandas-docs/stable/user_guide/indexing.html#returning-a-view-versus-a-copy\n",
      "  self.obj[key] = _infer_fill_value(value)\n",
      "C:\\Users\\adity\\anaconda3\\lib\\site-packages\\pandas\\core\\indexing.py:1047: SettingWithCopyWarning: \n",
      "A value is trying to be set on a copy of a slice from a DataFrame.\n",
      "Try using .loc[row_indexer,col_indexer] = value instead\n",
      "\n",
      "See the caveats in the documentation: https://pandas.pydata.org/pandas-docs/stable/user_guide/indexing.html#returning-a-view-versus-a-copy\n",
      "  self.obj[item_labels[indexer[info_axis]]] = value\n"
     ]
    },
    {
     "data": {
      "text/html": [
       "<div>\n",
       "<style scoped>\n",
       "    .dataframe tbody tr th:only-of-type {\n",
       "        vertical-align: middle;\n",
       "    }\n",
       "\n",
       "    .dataframe tbody tr th {\n",
       "        vertical-align: top;\n",
       "    }\n",
       "\n",
       "    .dataframe thead th {\n",
       "        text-align: right;\n",
       "    }\n",
       "</style>\n",
       "<table border=\"1\" class=\"dataframe\">\n",
       "  <thead>\n",
       "    <tr style=\"text-align: right;\">\n",
       "      <th></th>\n",
       "      <th>count</th>\n",
       "      <th>mean</th>\n",
       "      <th>std</th>\n",
       "      <th>min</th>\n",
       "      <th>25%</th>\n",
       "      <th>50%</th>\n",
       "      <th>75%</th>\n",
       "      <th>max</th>\n",
       "      <th>IQR</th>\n",
       "      <th>COV</th>\n",
       "    </tr>\n",
       "    <tr>\n",
       "      <th>Channel</th>\n",
       "      <th></th>\n",
       "      <th></th>\n",
       "      <th></th>\n",
       "      <th></th>\n",
       "      <th></th>\n",
       "      <th></th>\n",
       "      <th></th>\n",
       "      <th></th>\n",
       "      <th></th>\n",
       "      <th></th>\n",
       "    </tr>\n",
       "  </thead>\n",
       "  <tbody>\n",
       "    <tr>\n",
       "      <th>Hotel</th>\n",
       "      <td>298.0</td>\n",
       "      <td>1415.956376</td>\n",
       "      <td>3147.426922</td>\n",
       "      <td>3.0</td>\n",
       "      <td>379.00</td>\n",
       "      <td>821.0</td>\n",
       "      <td>1548.0</td>\n",
       "      <td>47943.0</td>\n",
       "      <td>1169.00</td>\n",
       "      <td>2.222828</td>\n",
       "    </tr>\n",
       "    <tr>\n",
       "      <th>Retail</th>\n",
       "      <td>142.0</td>\n",
       "      <td>1753.436620</td>\n",
       "      <td>1953.797047</td>\n",
       "      <td>3.0</td>\n",
       "      <td>566.75</td>\n",
       "      <td>1350.0</td>\n",
       "      <td>2156.0</td>\n",
       "      <td>16523.0</td>\n",
       "      <td>1589.25</td>\n",
       "      <td>1.114267</td>\n",
       "    </tr>\n",
       "  </tbody>\n",
       "</table>\n",
       "</div>"
      ],
      "text/plain": [
       "         count         mean          std  min     25%     50%     75%  \\\n",
       "Channel                                                                 \n",
       "Hotel    298.0  1415.956376  3147.426922  3.0  379.00   821.0  1548.0   \n",
       "Retail   142.0  1753.436620  1953.797047  3.0  566.75  1350.0  2156.0   \n",
       "\n",
       "             max      IQR       COV  \n",
       "Channel                              \n",
       "Hotel    47943.0  1169.00  2.222828  \n",
       "Retail   16523.0  1589.25  1.114267  "
      ]
     },
     "execution_count": 52,
     "metadata": {},
     "output_type": "execute_result"
    }
   ],
   "source": [
    "df2_c_del.loc[:,'IQR'] = df2_c_del.loc[:,'75%'] - df2_c_del.loc[:,'25%']\n",
    "df2_c_del.loc[:,'COV'] = df2_c_del.loc[:,'std'] / df2_c_del.loc[:,'mean']\n",
    "df2_c_del"
   ]
  },
  {
   "cell_type": "code",
   "execution_count": 53,
   "metadata": {},
   "outputs": [
    {
     "data": {
      "image/png": "[encoded data removed]",
      "text/plain": [
       "<Figure size 360x216 with 2 Axes>"
      ]
     },
     "metadata": {
      "needs_background": "light"
     },
     "output_type": "display_data"
    }
   ],
   "source": [
    "df.hist(by = 'Channel', column = 'Delicatessen', figsize = (5,3));\n"
   ]
  },
  {
   "cell_type": "code",
   "execution_count": 54,
   "metadata": {},
   "outputs": [],
   "source": [
    "df_lisbon = df[df['Region']==\"Lisbon\"]\n",
    "df_oporto = df[df['Region']==\"Oporto\"]\n",
    "df_other = df[df['Region'] == \"Other\"]\n"
   ]
  },
  {
   "cell_type": "code",
   "execution_count": 55,
   "metadata": {},
   "outputs": [],
   "source": [
    "df_lisbon_des = df_lisbon.describe().T\n",
    "df_oporto_des = df_oporto.describe().T\n",
    "df_other_des = df_other.describe().T"
   ]
  },
  {
   "cell_type": "markdown",
   "metadata": {},
   "source": [
    "### Region wise distribution of variables-\n"
   ]
  },
  {
   "cell_type": "code",
   "execution_count": 56,
   "metadata": {},
   "outputs": [],
   "source": [
    "df_lisbon_des.loc[:,'IQR'] = df_lisbon_des['75%']-df_lisbon_des['25%']"
   ]
  },
  {
   "cell_type": "code",
   "execution_count": 57,
   "metadata": {},
   "outputs": [],
   "source": [
    "df_lisbon_des.loc[:,'COV'] = df_lisbon_des['std']/df_lisbon_des['mean']"
   ]
  },
  {
   "cell_type": "code",
   "execution_count": 58,
   "metadata": {},
   "outputs": [
    {
     "data": {
      "text/html": [
       "<div>\n",
       "<style scoped>\n",
       "    .dataframe tbody tr th:only-of-type {\n",
       "        vertical-align: middle;\n",
       "    }\n",
       "\n",
       "    .dataframe tbody tr th {\n",
       "        vertical-align: top;\n",
       "    }\n",
       "\n",
       "    .dataframe thead th {\n",
       "        text-align: right;\n",
       "    }\n",
       "</style>\n",
       "<table border=\"1\" class=\"dataframe\">\n",
       "  <thead>\n",
       "    <tr style=\"text-align: right;\">\n",
       "      <th></th>\n",
       "      <th>count</th>\n",
       "      <th>mean</th>\n",
       "      <th>std</th>\n",
       "      <th>min</th>\n",
       "      <th>25%</th>\n",
       "      <th>50%</th>\n",
       "      <th>75%</th>\n",
       "      <th>max</th>\n",
       "      <th>IQR</th>\n",
       "      <th>COV</th>\n",
       "    </tr>\n",
       "  </thead>\n",
       "  <tbody>\n",
       "    <tr>\n",
       "      <th>Fresh</th>\n",
       "      <td>77.0</td>\n",
       "      <td>11101.727273</td>\n",
       "      <td>11557.438575</td>\n",
       "      <td>18.0</td>\n",
       "      <td>2806.0</td>\n",
       "      <td>7363.0</td>\n",
       "      <td>15218.0</td>\n",
       "      <td>56083.0</td>\n",
       "      <td>12412.0</td>\n",
       "      <td>1.041049</td>\n",
       "    </tr>\n",
       "    <tr>\n",
       "      <th>Milk</th>\n",
       "      <td>77.0</td>\n",
       "      <td>5486.415584</td>\n",
       "      <td>5704.856079</td>\n",
       "      <td>258.0</td>\n",
       "      <td>1372.0</td>\n",
       "      <td>3748.0</td>\n",
       "      <td>7503.0</td>\n",
       "      <td>28326.0</td>\n",
       "      <td>6131.0</td>\n",
       "      <td>1.039815</td>\n",
       "    </tr>\n",
       "    <tr>\n",
       "      <th>Grocery</th>\n",
       "      <td>77.0</td>\n",
       "      <td>7403.077922</td>\n",
       "      <td>8496.287728</td>\n",
       "      <td>489.0</td>\n",
       "      <td>2046.0</td>\n",
       "      <td>3838.0</td>\n",
       "      <td>9490.0</td>\n",
       "      <td>39694.0</td>\n",
       "      <td>7444.0</td>\n",
       "      <td>1.147670</td>\n",
       "    </tr>\n",
       "    <tr>\n",
       "      <th>Frozen</th>\n",
       "      <td>77.0</td>\n",
       "      <td>3000.337662</td>\n",
       "      <td>3092.143894</td>\n",
       "      <td>61.0</td>\n",
       "      <td>950.0</td>\n",
       "      <td>1801.0</td>\n",
       "      <td>4324.0</td>\n",
       "      <td>18711.0</td>\n",
       "      <td>3374.0</td>\n",
       "      <td>1.030599</td>\n",
       "    </tr>\n",
       "    <tr>\n",
       "      <th>Detergents_Paper</th>\n",
       "      <td>77.0</td>\n",
       "      <td>2651.116883</td>\n",
       "      <td>4208.462708</td>\n",
       "      <td>5.0</td>\n",
       "      <td>284.0</td>\n",
       "      <td>737.0</td>\n",
       "      <td>3593.0</td>\n",
       "      <td>19410.0</td>\n",
       "      <td>3309.0</td>\n",
       "      <td>1.587430</td>\n",
       "    </tr>\n",
       "    <tr>\n",
       "      <th>Delicatessen</th>\n",
       "      <td>77.0</td>\n",
       "      <td>1354.896104</td>\n",
       "      <td>1345.423340</td>\n",
       "      <td>7.0</td>\n",
       "      <td>548.0</td>\n",
       "      <td>806.0</td>\n",
       "      <td>1775.0</td>\n",
       "      <td>6854.0</td>\n",
       "      <td>1227.0</td>\n",
       "      <td>0.993008</td>\n",
       "    </tr>\n",
       "    <tr>\n",
       "      <th>Total Spend</th>\n",
       "      <td>77.0</td>\n",
       "      <td>26991.558442</td>\n",
       "      <td>17177.387886</td>\n",
       "      <td>3953.0</td>\n",
       "      <td>16194.0</td>\n",
       "      <td>21802.0</td>\n",
       "      <td>34738.0</td>\n",
       "      <td>84875.0</td>\n",
       "      <td>18544.0</td>\n",
       "      <td>0.636399</td>\n",
       "    </tr>\n",
       "  </tbody>\n",
       "</table>\n",
       "</div>"
      ],
      "text/plain": [
       "                  count          mean           std     min      25%      50%  \\\n",
       "Fresh              77.0  11101.727273  11557.438575    18.0   2806.0   7363.0   \n",
       "Milk               77.0   5486.415584   5704.856079   258.0   1372.0   3748.0   \n",
       "Grocery            77.0   7403.077922   8496.287728   489.0   2046.0   3838.0   \n",
       "Frozen             77.0   3000.337662   3092.143894    61.0    950.0   1801.0   \n",
       "Detergents_Paper   77.0   2651.116883   4208.462708     5.0    284.0    737.0   \n",
       "Delicatessen       77.0   1354.896104   1345.423340     7.0    548.0    806.0   \n",
       "Total Spend        77.0  26991.558442  17177.387886  3953.0  16194.0  21802.0   \n",
       "\n",
       "                      75%      max      IQR       COV  \n",
       "Fresh             15218.0  56083.0  12412.0  1.041049  \n",
       "Milk               7503.0  28326.0   6131.0  1.039815  \n",
       "Grocery            9490.0  39694.0   7444.0  1.147670  \n",
       "Frozen             4324.0  18711.0   3374.0  1.030599  \n",
       "Detergents_Paper   3593.0  19410.0   3309.0  1.587430  \n",
       "Delicatessen       1775.0   6854.0   1227.0  0.993008  \n",
       "Total Spend       34738.0  84875.0  18544.0  0.636399  "
      ]
     },
     "execution_count": 58,
     "metadata": {},
     "output_type": "execute_result"
    }
   ],
   "source": [
    "df_lisbon_des"
   ]
  },
  {
   "cell_type": "code",
   "execution_count": 59,
   "metadata": {},
   "outputs": [
    {
     "name": "stdout",
     "output_type": "stream",
     "text": [
      "\t\t\t\tLISBON DISTRIBUTION\n"
     ]
    },
    {
     "data": {
      "image/png": "[encoded data removed]",
      "text/plain": [
       "<Figure size 720x720 with 9 Axes>"
      ]
     },
     "metadata": {
      "needs_background": "light"
     },
     "output_type": "display_data"
    }
   ],
   "source": [
    "print('\\t\\t\\t\\tLISBON DISTRIBUTION')\n",
    "df_lisbon.hist(figsize = (10,10));"
   ]
  },
  {
   "cell_type": "code",
   "execution_count": 60,
   "metadata": {},
   "outputs": [],
   "source": [
    "df_oporto_des.loc[:,'IQR'] = df_oporto_des['75%']-df_oporto_des['25%']"
   ]
  },
  {
   "cell_type": "code",
   "execution_count": 61,
   "metadata": {},
   "outputs": [],
   "source": [
    "df_oporto_des.loc[:,'COV'] = df_oporto_des['std']/df_oporto_des['mean']"
   ]
  },
  {
   "cell_type": "code",
   "execution_count": 62,
   "metadata": {},
   "outputs": [
    {
     "name": "stdout",
     "output_type": "stream",
     "text": [
      "OPORTO DISTRIBUTION\n"
     ]
    },
    {
     "data": {
      "text/html": [
       "<div>\n",
       "<style scoped>\n",
       "    .dataframe tbody tr th:only-of-type {\n",
       "        vertical-align: middle;\n",
       "    }\n",
       "\n",
       "    .dataframe tbody tr th {\n",
       "        vertical-align: top;\n",
       "    }\n",
       "\n",
       "    .dataframe thead th {\n",
       "        text-align: right;\n",
       "    }\n",
       "</style>\n",
       "<table border=\"1\" class=\"dataframe\">\n",
       "  <thead>\n",
       "    <tr style=\"text-align: right;\">\n",
       "      <th></th>\n",
       "      <th>count</th>\n",
       "      <th>mean</th>\n",
       "      <th>std</th>\n",
       "      <th>min</th>\n",
       "      <th>25%</th>\n",
       "      <th>50%</th>\n",
       "      <th>75%</th>\n",
       "      <th>max</th>\n",
       "      <th>IQR</th>\n",
       "      <th>COV</th>\n",
       "    </tr>\n",
       "  </thead>\n",
       "  <tbody>\n",
       "    <tr>\n",
       "      <th>Fresh</th>\n",
       "      <td>47.0</td>\n",
       "      <td>9887.680851</td>\n",
       "      <td>8387.899211</td>\n",
       "      <td>3.0</td>\n",
       "      <td>2751.5</td>\n",
       "      <td>8090.0</td>\n",
       "      <td>14925.5</td>\n",
       "      <td>32717.0</td>\n",
       "      <td>12174.0</td>\n",
       "      <td>0.848318</td>\n",
       "    </tr>\n",
       "    <tr>\n",
       "      <th>Milk</th>\n",
       "      <td>47.0</td>\n",
       "      <td>5088.170213</td>\n",
       "      <td>5826.343145</td>\n",
       "      <td>333.0</td>\n",
       "      <td>1430.5</td>\n",
       "      <td>2374.0</td>\n",
       "      <td>5772.5</td>\n",
       "      <td>25071.0</td>\n",
       "      <td>4342.0</td>\n",
       "      <td>1.145076</td>\n",
       "    </tr>\n",
       "    <tr>\n",
       "      <th>Grocery</th>\n",
       "      <td>47.0</td>\n",
       "      <td>9218.595745</td>\n",
       "      <td>10842.745314</td>\n",
       "      <td>1330.0</td>\n",
       "      <td>2792.5</td>\n",
       "      <td>6114.0</td>\n",
       "      <td>11758.5</td>\n",
       "      <td>67298.0</td>\n",
       "      <td>8966.0</td>\n",
       "      <td>1.176182</td>\n",
       "    </tr>\n",
       "    <tr>\n",
       "      <th>Frozen</th>\n",
       "      <td>47.0</td>\n",
       "      <td>4045.361702</td>\n",
       "      <td>9151.784954</td>\n",
       "      <td>131.0</td>\n",
       "      <td>811.5</td>\n",
       "      <td>1455.0</td>\n",
       "      <td>3272.0</td>\n",
       "      <td>60869.0</td>\n",
       "      <td>2460.5</td>\n",
       "      <td>2.262291</td>\n",
       "    </tr>\n",
       "    <tr>\n",
       "      <th>Detergents_Paper</th>\n",
       "      <td>47.0</td>\n",
       "      <td>3687.468085</td>\n",
       "      <td>6514.717668</td>\n",
       "      <td>15.0</td>\n",
       "      <td>282.5</td>\n",
       "      <td>811.0</td>\n",
       "      <td>4324.5</td>\n",
       "      <td>38102.0</td>\n",
       "      <td>4042.0</td>\n",
       "      <td>1.766718</td>\n",
       "    </tr>\n",
       "    <tr>\n",
       "      <th>Delicatessen</th>\n",
       "      <td>47.0</td>\n",
       "      <td>1159.702128</td>\n",
       "      <td>1050.739841</td>\n",
       "      <td>51.0</td>\n",
       "      <td>540.5</td>\n",
       "      <td>898.0</td>\n",
       "      <td>1538.5</td>\n",
       "      <td>5609.0</td>\n",
       "      <td>998.0</td>\n",
       "      <td>0.906043</td>\n",
       "    </tr>\n",
       "    <tr>\n",
       "      <th>Total Spend</th>\n",
       "      <td>47.0</td>\n",
       "      <td>28239.808511</td>\n",
       "      <td>19986.523609</td>\n",
       "      <td>3519.0</td>\n",
       "      <td>18529.0</td>\n",
       "      <td>23500.0</td>\n",
       "      <td>31399.0</td>\n",
       "      <td>123996.0</td>\n",
       "      <td>12870.0</td>\n",
       "      <td>0.707743</td>\n",
       "    </tr>\n",
       "  </tbody>\n",
       "</table>\n",
       "</div>"
      ],
      "text/plain": [
       "                  count          mean           std     min      25%      50%  \\\n",
       "Fresh              47.0   9887.680851   8387.899211     3.0   2751.5   8090.0   \n",
       "Milk               47.0   5088.170213   5826.343145   333.0   1430.5   2374.0   \n",
       "Grocery            47.0   9218.595745  10842.745314  1330.0   2792.5   6114.0   \n",
       "Frozen             47.0   4045.361702   9151.784954   131.0    811.5   1455.0   \n",
       "Detergents_Paper   47.0   3687.468085   6514.717668    15.0    282.5    811.0   \n",
       "Delicatessen       47.0   1159.702128   1050.739841    51.0    540.5    898.0   \n",
       "Total Spend        47.0  28239.808511  19986.523609  3519.0  18529.0  23500.0   \n",
       "\n",
       "                      75%       max      IQR       COV  \n",
       "Fresh             14925.5   32717.0  12174.0  0.848318  \n",
       "Milk               5772.5   25071.0   4342.0  1.145076  \n",
       "Grocery           11758.5   67298.0   8966.0  1.176182  \n",
       "Frozen             3272.0   60869.0   2460.5  2.262291  \n",
       "Detergents_Paper   4324.5   38102.0   4042.0  1.766718  \n",
       "Delicatessen       1538.5    5609.0    998.0  0.906043  \n",
       "Total Spend       31399.0  123996.0  12870.0  0.707743  "
      ]
     },
     "execution_count": 62,
     "metadata": {},
     "output_type": "execute_result"
    }
   ],
   "source": [
    "print('OPORTO DISTRIBUTION')\n",
    "df_oporto_des"
   ]
  },
  {
   "cell_type": "code",
   "execution_count": 63,
   "metadata": {},
   "outputs": [
    {
     "name": "stdout",
     "output_type": "stream",
     "text": [
      "\t\t\t\tOPORTP distribution\n"
     ]
    },
    {
     "data": {
      "image/png": "[encoded data removed]",
      "text/plain": [
       "<Figure size 720x720 with 9 Axes>"
      ]
     },
     "metadata": {
      "needs_background": "light"
     },
     "output_type": "display_data"
    }
   ],
   "source": [
    "print('\\t\\t\\t\\tOPORTP distribution')\n",
    "df_oporto.hist(figsize = (10,10));"
   ]
  },
  {
   "cell_type": "code",
   "execution_count": 64,
   "metadata": {},
   "outputs": [
    {
     "name": "stdout",
     "output_type": "stream",
     "text": [
      "OTHER DISTRIBUTION\n"
     ]
    },
    {
     "data": {
      "text/html": [
       "<div>\n",
       "<style scoped>\n",
       "    .dataframe tbody tr th:only-of-type {\n",
       "        vertical-align: middle;\n",
       "    }\n",
       "\n",
       "    .dataframe tbody tr th {\n",
       "        vertical-align: top;\n",
       "    }\n",
       "\n",
       "    .dataframe thead th {\n",
       "        text-align: right;\n",
       "    }\n",
       "</style>\n",
       "<table border=\"1\" class=\"dataframe\">\n",
       "  <thead>\n",
       "    <tr style=\"text-align: right;\">\n",
       "      <th></th>\n",
       "      <th>count</th>\n",
       "      <th>mean</th>\n",
       "      <th>std</th>\n",
       "      <th>min</th>\n",
       "      <th>25%</th>\n",
       "      <th>50%</th>\n",
       "      <th>75%</th>\n",
       "      <th>max</th>\n",
       "      <th>IQR</th>\n",
       "      <th>COV</th>\n",
       "    </tr>\n",
       "  </thead>\n",
       "  <tbody>\n",
       "    <tr>\n",
       "      <th>Fresh</th>\n",
       "      <td>316.0</td>\n",
       "      <td>12533.471519</td>\n",
       "      <td>13389.213115</td>\n",
       "      <td>3.0</td>\n",
       "      <td>3350.75</td>\n",
       "      <td>8752.5</td>\n",
       "      <td>17406.50</td>\n",
       "      <td>112151.0</td>\n",
       "      <td>14055.75</td>\n",
       "      <td>1.068277</td>\n",
       "    </tr>\n",
       "    <tr>\n",
       "      <th>Milk</th>\n",
       "      <td>316.0</td>\n",
       "      <td>5977.085443</td>\n",
       "      <td>7935.463443</td>\n",
       "      <td>55.0</td>\n",
       "      <td>1634.00</td>\n",
       "      <td>3684.5</td>\n",
       "      <td>7198.75</td>\n",
       "      <td>73498.0</td>\n",
       "      <td>5564.75</td>\n",
       "      <td>1.327648</td>\n",
       "    </tr>\n",
       "    <tr>\n",
       "      <th>Grocery</th>\n",
       "      <td>316.0</td>\n",
       "      <td>7896.363924</td>\n",
       "      <td>9537.287778</td>\n",
       "      <td>3.0</td>\n",
       "      <td>2141.50</td>\n",
       "      <td>4732.0</td>\n",
       "      <td>10559.75</td>\n",
       "      <td>92780.0</td>\n",
       "      <td>8418.25</td>\n",
       "      <td>1.207808</td>\n",
       "    </tr>\n",
       "    <tr>\n",
       "      <th>Frozen</th>\n",
       "      <td>316.0</td>\n",
       "      <td>2944.594937</td>\n",
       "      <td>4260.126243</td>\n",
       "      <td>25.0</td>\n",
       "      <td>664.75</td>\n",
       "      <td>1498.0</td>\n",
       "      <td>3354.75</td>\n",
       "      <td>36534.0</td>\n",
       "      <td>2690.00</td>\n",
       "      <td>1.446761</td>\n",
       "    </tr>\n",
       "    <tr>\n",
       "      <th>Detergents_Paper</th>\n",
       "      <td>316.0</td>\n",
       "      <td>2817.753165</td>\n",
       "      <td>4593.051613</td>\n",
       "      <td>3.0</td>\n",
       "      <td>251.25</td>\n",
       "      <td>856.0</td>\n",
       "      <td>3875.75</td>\n",
       "      <td>40827.0</td>\n",
       "      <td>3624.50</td>\n",
       "      <td>1.630040</td>\n",
       "    </tr>\n",
       "    <tr>\n",
       "      <th>Delicatessen</th>\n",
       "      <td>316.0</td>\n",
       "      <td>1620.601266</td>\n",
       "      <td>3232.581660</td>\n",
       "      <td>3.0</td>\n",
       "      <td>402.00</td>\n",
       "      <td>994.0</td>\n",
       "      <td>1832.75</td>\n",
       "      <td>47943.0</td>\n",
       "      <td>1430.75</td>\n",
       "      <td>1.994680</td>\n",
       "    </tr>\n",
       "    <tr>\n",
       "      <th>Total Spend</th>\n",
       "      <td>316.0</td>\n",
       "      <td>29351.515823</td>\n",
       "      <td>23618.538900</td>\n",
       "      <td>889.0</td>\n",
       "      <td>15133.50</td>\n",
       "      <td>24198.5</td>\n",
       "      <td>35878.25</td>\n",
       "      <td>176671.0</td>\n",
       "      <td>20744.75</td>\n",
       "      <td>0.804679</td>\n",
       "    </tr>\n",
       "  </tbody>\n",
       "</table>\n",
       "</div>"
      ],
      "text/plain": [
       "                  count          mean           std    min       25%      50%  \\\n",
       "Fresh             316.0  12533.471519  13389.213115    3.0   3350.75   8752.5   \n",
       "Milk              316.0   5977.085443   7935.463443   55.0   1634.00   3684.5   \n",
       "Grocery           316.0   7896.363924   9537.287778    3.0   2141.50   4732.0   \n",
       "Frozen            316.0   2944.594937   4260.126243   25.0    664.75   1498.0   \n",
       "Detergents_Paper  316.0   2817.753165   4593.051613    3.0    251.25    856.0   \n",
       "Delicatessen      316.0   1620.601266   3232.581660    3.0    402.00    994.0   \n",
       "Total Spend       316.0  29351.515823  23618.538900  889.0  15133.50  24198.5   \n",
       "\n",
       "                       75%       max       IQR       COV  \n",
       "Fresh             17406.50  112151.0  14055.75  1.068277  \n",
       "Milk               7198.75   73498.0   5564.75  1.327648  \n",
       "Grocery           10559.75   92780.0   8418.25  1.207808  \n",
       "Frozen             3354.75   36534.0   2690.00  1.446761  \n",
       "Detergents_Paper   3875.75   40827.0   3624.50  1.630040  \n",
       "Delicatessen       1832.75   47943.0   1430.75  1.994680  \n",
       "Total Spend       35878.25  176671.0  20744.75  0.804679  "
      ]
     },
     "execution_count": 64,
     "metadata": {},
     "output_type": "execute_result"
    }
   ],
   "source": [
    "df_other_des.loc[:,'IQR'] = df_other_des['75%']-df_other_des['25%']\n",
    "df_other_des.loc[:,'COV'] = df_other_des['std']/df_other_des['mean']\n",
    "print('OTHER DISTRIBUTION')\n",
    "df_other_des"
   ]
  },
  {
   "cell_type": "code",
   "execution_count": 65,
   "metadata": {},
   "outputs": [
    {
     "name": "stdout",
     "output_type": "stream",
     "text": [
      "\t\t\t\tOTHER DISTRIBUTION\n"
     ]
    },
    {
     "data": {
      "image/png": "[encoded data removed]",
      "text/plain": [
       "<Figure size 720x720 with 9 Axes>"
      ]
     },
     "metadata": {
      "needs_background": "light"
     },
     "output_type": "display_data"
    }
   ],
   "source": [
    "print(\"\\t\\t\\t\\tOTHER DISTRIBUTION\")\n",
    "df_other.hist(figsize = (10,10));"
   ]
  },
  {
   "cell_type": "markdown",
   "metadata": {},
   "source": [
    "### Channel wise distribution of variables"
   ]
  },
  {
   "cell_type": "code",
   "execution_count": 66,
   "metadata": {},
   "outputs": [],
   "source": [
    "df_hotel = df[df.Channel == \"Hotel\"]\n",
    "df_retail = df[df.Channel == \"Retail\"]"
   ]
  },
  {
   "cell_type": "code",
   "execution_count": 67,
   "metadata": {},
   "outputs": [],
   "source": [
    "df_hotel_des = df_hotel.describe().T\n",
    "df_retail_des = df_retail.describe().T"
   ]
  },
  {
   "cell_type": "code",
   "execution_count": 68,
   "metadata": {},
   "outputs": [],
   "source": [
    "df_hotel_des.loc[:,'IQR'] = df_hotel_des['75%'] - df_hotel_des['25%']\n",
    "df_hotel_des.loc[:,'COV'] = df_hotel_des['std']/df_hotel_des['mean']"
   ]
  },
  {
   "cell_type": "code",
   "execution_count": 69,
   "metadata": {},
   "outputs": [
    {
     "name": "stdout",
     "output_type": "stream",
     "text": [
      "HOTEL DISTRIBUTION\n"
     ]
    },
    {
     "data": {
      "text/html": [
       "<div>\n",
       "<style scoped>\n",
       "    .dataframe tbody tr th:only-of-type {\n",
       "        vertical-align: middle;\n",
       "    }\n",
       "\n",
       "    .dataframe tbody tr th {\n",
       "        vertical-align: top;\n",
       "    }\n",
       "\n",
       "    .dataframe thead th {\n",
       "        text-align: right;\n",
       "    }\n",
       "</style>\n",
       "<table border=\"1\" class=\"dataframe\">\n",
       "  <thead>\n",
       "    <tr style=\"text-align: right;\">\n",
       "      <th></th>\n",
       "      <th>count</th>\n",
       "      <th>mean</th>\n",
       "      <th>std</th>\n",
       "      <th>min</th>\n",
       "      <th>25%</th>\n",
       "      <th>50%</th>\n",
       "      <th>75%</th>\n",
       "      <th>max</th>\n",
       "      <th>IQR</th>\n",
       "      <th>COV</th>\n",
       "    </tr>\n",
       "  </thead>\n",
       "  <tbody>\n",
       "    <tr>\n",
       "      <th>Fresh</th>\n",
       "      <td>298.0</td>\n",
       "      <td>13475.560403</td>\n",
       "      <td>13831.687502</td>\n",
       "      <td>3.0</td>\n",
       "      <td>4070.25</td>\n",
       "      <td>9581.5</td>\n",
       "      <td>18274.75</td>\n",
       "      <td>112151.0</td>\n",
       "      <td>14204.50</td>\n",
       "      <td>1.026428</td>\n",
       "    </tr>\n",
       "    <tr>\n",
       "      <th>Milk</th>\n",
       "      <td>298.0</td>\n",
       "      <td>3451.724832</td>\n",
       "      <td>4352.165571</td>\n",
       "      <td>55.0</td>\n",
       "      <td>1164.50</td>\n",
       "      <td>2157.0</td>\n",
       "      <td>4029.50</td>\n",
       "      <td>43950.0</td>\n",
       "      <td>2865.00</td>\n",
       "      <td>1.260867</td>\n",
       "    </tr>\n",
       "    <tr>\n",
       "      <th>Grocery</th>\n",
       "      <td>298.0</td>\n",
       "      <td>3962.137584</td>\n",
       "      <td>3545.513391</td>\n",
       "      <td>3.0</td>\n",
       "      <td>1703.75</td>\n",
       "      <td>2684.0</td>\n",
       "      <td>5076.75</td>\n",
       "      <td>21042.0</td>\n",
       "      <td>3373.00</td>\n",
       "      <td>0.894849</td>\n",
       "    </tr>\n",
       "    <tr>\n",
       "      <th>Frozen</th>\n",
       "      <td>298.0</td>\n",
       "      <td>3748.251678</td>\n",
       "      <td>5643.912500</td>\n",
       "      <td>25.0</td>\n",
       "      <td>830.00</td>\n",
       "      <td>2057.5</td>\n",
       "      <td>4558.75</td>\n",
       "      <td>60869.0</td>\n",
       "      <td>3728.75</td>\n",
       "      <td>1.505745</td>\n",
       "    </tr>\n",
       "    <tr>\n",
       "      <th>Detergents_Paper</th>\n",
       "      <td>298.0</td>\n",
       "      <td>790.560403</td>\n",
       "      <td>1104.093673</td>\n",
       "      <td>3.0</td>\n",
       "      <td>183.25</td>\n",
       "      <td>385.5</td>\n",
       "      <td>899.50</td>\n",
       "      <td>6907.0</td>\n",
       "      <td>716.25</td>\n",
       "      <td>1.396596</td>\n",
       "    </tr>\n",
       "    <tr>\n",
       "      <th>Delicatessen</th>\n",
       "      <td>298.0</td>\n",
       "      <td>1415.956376</td>\n",
       "      <td>3147.426922</td>\n",
       "      <td>3.0</td>\n",
       "      <td>379.00</td>\n",
       "      <td>821.0</td>\n",
       "      <td>1548.00</td>\n",
       "      <td>47943.0</td>\n",
       "      <td>1169.00</td>\n",
       "      <td>2.222828</td>\n",
       "    </tr>\n",
       "    <tr>\n",
       "      <th>Total Spend</th>\n",
       "      <td>298.0</td>\n",
       "      <td>24637.674497</td>\n",
       "      <td>20222.156623</td>\n",
       "      <td>889.0</td>\n",
       "      <td>12257.75</td>\n",
       "      <td>19478.5</td>\n",
       "      <td>30083.75</td>\n",
       "      <td>176671.0</td>\n",
       "      <td>17826.00</td>\n",
       "      <td>0.820782</td>\n",
       "    </tr>\n",
       "  </tbody>\n",
       "</table>\n",
       "</div>"
      ],
      "text/plain": [
       "                  count          mean           std    min       25%      50%  \\\n",
       "Fresh             298.0  13475.560403  13831.687502    3.0   4070.25   9581.5   \n",
       "Milk              298.0   3451.724832   4352.165571   55.0   1164.50   2157.0   \n",
       "Grocery           298.0   3962.137584   3545.513391    3.0   1703.75   2684.0   \n",
       "Frozen            298.0   3748.251678   5643.912500   25.0    830.00   2057.5   \n",
       "Detergents_Paper  298.0    790.560403   1104.093673    3.0    183.25    385.5   \n",
       "Delicatessen      298.0   1415.956376   3147.426922    3.0    379.00    821.0   \n",
       "Total Spend       298.0  24637.674497  20222.156623  889.0  12257.75  19478.5   \n",
       "\n",
       "                       75%       max       IQR       COV  \n",
       "Fresh             18274.75  112151.0  14204.50  1.026428  \n",
       "Milk               4029.50   43950.0   2865.00  1.260867  \n",
       "Grocery            5076.75   21042.0   3373.00  0.894849  \n",
       "Frozen             4558.75   60869.0   3728.75  1.505745  \n",
       "Detergents_Paper    899.50    6907.0    716.25  1.396596  \n",
       "Delicatessen       1548.00   47943.0   1169.00  2.222828  \n",
       "Total Spend       30083.75  176671.0  17826.00  0.820782  "
      ]
     },
     "execution_count": 69,
     "metadata": {},
     "output_type": "execute_result"
    }
   ],
   "source": [
    "print('HOTEL DISTRIBUTION')\n",
    "df_hotel_des"
   ]
  },
  {
   "cell_type": "code",
   "execution_count": 70,
   "metadata": {
    "scrolled": true
   },
   "outputs": [
    {
     "name": "stdout",
     "output_type": "stream",
     "text": [
      "\t\t\t\tHOTEL DISTRIBUTION\n"
     ]
    },
    {
     "data": {
      "image/png": "[encoded data removed]",
      "text/plain": [
       "<Figure size 720x720 with 9 Axes>"
      ]
     },
     "metadata": {
      "needs_background": "light"
     },
     "output_type": "display_data"
    }
   ],
   "source": [
    "print('\\t\\t\\t\\tHOTEL DISTRIBUTION')\n",
    "df_hotel.hist(figsize = (10,10));"
   ]
  },
  {
   "cell_type": "code",
   "execution_count": 71,
   "metadata": {},
   "outputs": [
    {
     "name": "stdout",
     "output_type": "stream",
     "text": [
      "RETAIL DISTRIBUTION\n"
     ]
    },
    {
     "data": {
      "text/html": [
       "<div>\n",
       "<style scoped>\n",
       "    .dataframe tbody tr th:only-of-type {\n",
       "        vertical-align: middle;\n",
       "    }\n",
       "\n",
       "    .dataframe tbody tr th {\n",
       "        vertical-align: top;\n",
       "    }\n",
       "\n",
       "    .dataframe thead th {\n",
       "        text-align: right;\n",
       "    }\n",
       "</style>\n",
       "<table border=\"1\" class=\"dataframe\">\n",
       "  <thead>\n",
       "    <tr style=\"text-align: right;\">\n",
       "      <th></th>\n",
       "      <th>count</th>\n",
       "      <th>mean</th>\n",
       "      <th>std</th>\n",
       "      <th>min</th>\n",
       "      <th>25%</th>\n",
       "      <th>50%</th>\n",
       "      <th>75%</th>\n",
       "      <th>max</th>\n",
       "      <th>IQR</th>\n",
       "      <th>COV</th>\n",
       "    </tr>\n",
       "  </thead>\n",
       "  <tbody>\n",
       "    <tr>\n",
       "      <th>Fresh</th>\n",
       "      <td>142.0</td>\n",
       "      <td>8904.323944</td>\n",
       "      <td>8987.714750</td>\n",
       "      <td>18.0</td>\n",
       "      <td>2347.75</td>\n",
       "      <td>5993.5</td>\n",
       "      <td>12229.75</td>\n",
       "      <td>44466.0</td>\n",
       "      <td>9882.00</td>\n",
       "      <td>1.009365</td>\n",
       "    </tr>\n",
       "    <tr>\n",
       "      <th>Milk</th>\n",
       "      <td>142.0</td>\n",
       "      <td>10716.500000</td>\n",
       "      <td>9679.631351</td>\n",
       "      <td>928.0</td>\n",
       "      <td>5938.00</td>\n",
       "      <td>7812.0</td>\n",
       "      <td>12162.75</td>\n",
       "      <td>73498.0</td>\n",
       "      <td>6224.75</td>\n",
       "      <td>0.903246</td>\n",
       "    </tr>\n",
       "    <tr>\n",
       "      <th>Grocery</th>\n",
       "      <td>142.0</td>\n",
       "      <td>16322.852113</td>\n",
       "      <td>12267.318094</td>\n",
       "      <td>2743.0</td>\n",
       "      <td>9245.25</td>\n",
       "      <td>12390.0</td>\n",
       "      <td>20183.50</td>\n",
       "      <td>92780.0</td>\n",
       "      <td>10938.25</td>\n",
       "      <td>0.751543</td>\n",
       "    </tr>\n",
       "    <tr>\n",
       "      <th>Frozen</th>\n",
       "      <td>142.0</td>\n",
       "      <td>1652.612676</td>\n",
       "      <td>1812.803662</td>\n",
       "      <td>33.0</td>\n",
       "      <td>534.25</td>\n",
       "      <td>1081.0</td>\n",
       "      <td>2146.75</td>\n",
       "      <td>11559.0</td>\n",
       "      <td>1612.50</td>\n",
       "      <td>1.096932</td>\n",
       "    </tr>\n",
       "    <tr>\n",
       "      <th>Detergents_Paper</th>\n",
       "      <td>142.0</td>\n",
       "      <td>7269.507042</td>\n",
       "      <td>6291.089697</td>\n",
       "      <td>332.0</td>\n",
       "      <td>3683.50</td>\n",
       "      <td>5614.5</td>\n",
       "      <td>8662.50</td>\n",
       "      <td>40827.0</td>\n",
       "      <td>4979.00</td>\n",
       "      <td>0.865408</td>\n",
       "    </tr>\n",
       "    <tr>\n",
       "      <th>Delicatessen</th>\n",
       "      <td>142.0</td>\n",
       "      <td>1753.436620</td>\n",
       "      <td>1953.797047</td>\n",
       "      <td>3.0</td>\n",
       "      <td>566.75</td>\n",
       "      <td>1350.0</td>\n",
       "      <td>2156.00</td>\n",
       "      <td>16523.0</td>\n",
       "      <td>1589.25</td>\n",
       "      <td>1.114267</td>\n",
       "    </tr>\n",
       "    <tr>\n",
       "      <th>Total Spend</th>\n",
       "      <td>142.0</td>\n",
       "      <td>37596.288732</td>\n",
       "      <td>23711.757409</td>\n",
       "      <td>10902.0</td>\n",
       "      <td>23778.50</td>\n",
       "      <td>30614.0</td>\n",
       "      <td>42577.75</td>\n",
       "      <td>162078.0</td>\n",
       "      <td>18799.25</td>\n",
       "      <td>0.630694</td>\n",
       "    </tr>\n",
       "  </tbody>\n",
       "</table>\n",
       "</div>"
      ],
      "text/plain": [
       "                  count          mean           std      min       25%  \\\n",
       "Fresh             142.0   8904.323944   8987.714750     18.0   2347.75   \n",
       "Milk              142.0  10716.500000   9679.631351    928.0   5938.00   \n",
       "Grocery           142.0  16322.852113  12267.318094   2743.0   9245.25   \n",
       "Frozen            142.0   1652.612676   1812.803662     33.0    534.25   \n",
       "Detergents_Paper  142.0   7269.507042   6291.089697    332.0   3683.50   \n",
       "Delicatessen      142.0   1753.436620   1953.797047      3.0    566.75   \n",
       "Total Spend       142.0  37596.288732  23711.757409  10902.0  23778.50   \n",
       "\n",
       "                      50%       75%       max       IQR       COV  \n",
       "Fresh              5993.5  12229.75   44466.0   9882.00  1.009365  \n",
       "Milk               7812.0  12162.75   73498.0   6224.75  0.903246  \n",
       "Grocery           12390.0  20183.50   92780.0  10938.25  0.751543  \n",
       "Frozen             1081.0   2146.75   11559.0   1612.50  1.096932  \n",
       "Detergents_Paper   5614.5   8662.50   40827.0   4979.00  0.865408  \n",
       "Delicatessen       1350.0   2156.00   16523.0   1589.25  1.114267  \n",
       "Total Spend       30614.0  42577.75  162078.0  18799.25  0.630694  "
      ]
     },
     "execution_count": 71,
     "metadata": {},
     "output_type": "execute_result"
    }
   ],
   "source": [
    "df_retail_des.loc[:,'IQR'] = df_retail_des['75%'] - df_retail_des['25%']\n",
    "df_retail_des.loc[:,'COV'] = df_retail_des['std'] / df_retail_des['mean']\n",
    "print('RETAIL DISTRIBUTION')\n",
    "df_retail_des"
   ]
  },
  {
   "cell_type": "code",
   "execution_count": 72,
   "metadata": {
    "scrolled": true
   },
   "outputs": [
    {
     "name": "stdout",
     "output_type": "stream",
     "text": [
      "\t\t\t\tRETAIL DISTRIBUTION\n"
     ]
    },
    {
     "data": {
      "image/png": "[encoded data removed]",
      "text/plain": [
       "<Figure size 720x720 with 9 Axes>"
      ]
     },
     "metadata": {
      "needs_background": "light"
     },
     "output_type": "display_data"
    }
   ],
   "source": [
    "print('\\t\\t\\t\\tRETAIL DISTRIBUTION')\n",
    "df_retail.hist(figsize = (10,10));"
   ]
  },
  {
   "cell_type": "markdown",
   "metadata": {},
   "source": [
    "## 1.3 On the basis of descriptive measure of variability, which item shows the most inconsistent behavior? Which items show the least inconsistent behaviour?"
   ]
  },
  {
   "cell_type": "code",
   "execution_count": 73,
   "metadata": {},
   "outputs": [],
   "source": [
    "df_des = df.describe().T\n",
    "df_des.loc[:,'IQR'] = df_des['75%'] - df_des['25%']"
   ]
  },
  {
   "cell_type": "code",
   "execution_count": 74,
   "metadata": {},
   "outputs": [],
   "source": [
    "df_des.loc[:,'COV'] = df_des['std']/df_des['mean']"
   ]
  },
  {
   "cell_type": "code",
   "execution_count": 75,
   "metadata": {},
   "outputs": [
    {
     "data": {
      "text/html": [
       "<div>\n",
       "<style scoped>\n",
       "    .dataframe tbody tr th:only-of-type {\n",
       "        vertical-align: middle;\n",
       "    }\n",
       "\n",
       "    .dataframe tbody tr th {\n",
       "        vertical-align: top;\n",
       "    }\n",
       "\n",
       "    .dataframe thead th {\n",
       "        text-align: right;\n",
       "    }\n",
       "</style>\n",
       "<table border=\"1\" class=\"dataframe\">\n",
       "  <thead>\n",
       "    <tr style=\"text-align: right;\">\n",
       "      <th></th>\n",
       "      <th>std</th>\n",
       "      <th>mean</th>\n",
       "      <th>IQR</th>\n",
       "      <th>COV</th>\n",
       "    </tr>\n",
       "  </thead>\n",
       "  <tbody>\n",
       "    <tr>\n",
       "      <th>Delicatessen</th>\n",
       "      <td>2820.105937</td>\n",
       "      <td>1524.870455</td>\n",
       "      <td>1412.00</td>\n",
       "      <td>1.849407</td>\n",
       "    </tr>\n",
       "    <tr>\n",
       "      <th>Detergents_Paper</th>\n",
       "      <td>4767.854448</td>\n",
       "      <td>2881.493182</td>\n",
       "      <td>3665.25</td>\n",
       "      <td>1.654647</td>\n",
       "    </tr>\n",
       "    <tr>\n",
       "      <th>Frozen</th>\n",
       "      <td>4854.673333</td>\n",
       "      <td>3071.931818</td>\n",
       "      <td>2812.00</td>\n",
       "      <td>1.580332</td>\n",
       "    </tr>\n",
       "    <tr>\n",
       "      <th>Milk</th>\n",
       "      <td>7380.377175</td>\n",
       "      <td>5796.265909</td>\n",
       "      <td>5657.25</td>\n",
       "      <td>1.273299</td>\n",
       "    </tr>\n",
       "    <tr>\n",
       "      <th>Grocery</th>\n",
       "      <td>9503.162829</td>\n",
       "      <td>7951.277273</td>\n",
       "      <td>8502.75</td>\n",
       "      <td>1.195174</td>\n",
       "    </tr>\n",
       "    <tr>\n",
       "      <th>Fresh</th>\n",
       "      <td>12647.328865</td>\n",
       "      <td>12000.297727</td>\n",
       "      <td>13806.00</td>\n",
       "      <td>1.053918</td>\n",
       "    </tr>\n",
       "    <tr>\n",
       "      <th>Total Spend</th>\n",
       "      <td>22226.860894</td>\n",
       "      <td>28819.772727</td>\n",
       "      <td>19667.00</td>\n",
       "      <td>0.771237</td>\n",
       "    </tr>\n",
       "  </tbody>\n",
       "</table>\n",
       "</div>"
      ],
      "text/plain": [
       "                           std          mean       IQR       COV\n",
       "Delicatessen       2820.105937   1524.870455   1412.00  1.849407\n",
       "Detergents_Paper   4767.854448   2881.493182   3665.25  1.654647\n",
       "Frozen             4854.673333   3071.931818   2812.00  1.580332\n",
       "Milk               7380.377175   5796.265909   5657.25  1.273299\n",
       "Grocery            9503.162829   7951.277273   8502.75  1.195174\n",
       "Fresh             12647.328865  12000.297727  13806.00  1.053918\n",
       "Total Spend       22226.860894  28819.772727  19667.00  0.771237"
      ]
     },
     "execution_count": 75,
     "metadata": {},
     "output_type": "execute_result"
    }
   ],
   "source": [
    "df_des[['std','mean','IQR','COV']].sort_values(by = \"COV\", ascending = False)"
   ]
  },
  {
   "cell_type": "code",
   "execution_count": 76,
   "metadata": {
    "scrolled": true
   },
   "outputs": [
    {
     "name": "stdout",
     "output_type": "stream",
     "text": [
      "\t\t\t\t\tDISTRIBUTION OF VARIABLES\n"
     ]
    },
    {
     "data": {
      "image/png": "[encoded data removed]",
      "text/plain": [
       "<Figure size 864x864 with 6 Axes>"
      ]
     },
     "metadata": {
      "needs_background": "light"
     },
     "output_type": "display_data"
    }
   ],
   "source": [
    "print('\\t\\t\\t\\t\\tDISTRIBUTION OF VARIABLES')\n",
    "\n",
    "plt.figure(figsize = (12,12))\n",
    "plt.subplot(3,2,1)\n",
    "sns.distplot(df.Fresh)\n",
    "plt.subplot(3,2,2)\n",
    "sns.distplot(df.Milk)\n",
    "plt.subplot(3,2,3)\n",
    "sns.distplot(df.Grocery)\n",
    "plt.subplot(3,2,4)\n",
    "sns.distplot(df.Frozen)\n",
    "plt.subplot(3,2,5)\n",
    "sns.distplot(df.Detergents_Paper)\n",
    "plt.subplot(3,2,6)\n",
    "sns.distplot(df.Delicatessen)\n",
    "plt.show()"
   ]
  },
  {
   "cell_type": "markdown",
   "metadata": {},
   "source": [
    "Insights\n",
    "- Delicasteen is the most inconsistent\n",
    "- Fresh is the most inconsistent"
   ]
  },
  {
   "cell_type": "markdown",
   "metadata": {},
   "source": [
    "## 1.4 Are there any outliers in the data?"
   ]
  },
  {
   "cell_type": "markdown",
   "metadata": {},
   "source": [
    "Using boxplots to check outliers"
   ]
  },
  {
   "cell_type": "code",
   "execution_count": 77,
   "metadata": {},
   "outputs": [
    {
     "name": "stdout",
     "output_type": "stream",
     "text": [
      "\t\t\t\t\t\tDETECTING OUTLIERS\n"
     ]
    },
    {
     "data": {
      "image/png": "[encoded data removed]",
      "text/plain": [
       "<Figure size 1080x576 with 6 Axes>"
      ]
     },
     "metadata": {
      "needs_background": "light"
     },
     "output_type": "display_data"
    }
   ],
   "source": [
    "print('\\t\\t\\t\\t\\t\\tDETECTING OUTLIERS')\n",
    "plt.figure(figsize = (15,8))\n",
    "plt.subplot(2,3,1)\n",
    "sns.boxplot(df.Fresh)\n",
    "plt.subplot(2,3,2)\n",
    "sns.boxplot(df.Milk)\n",
    "plt.subplot(2,3,3)\n",
    "sns.boxplot(df.Grocery)\n",
    "plt.subplot(2,3,4)\n",
    "sns.boxplot(df.Frozen)\n",
    "plt.subplot(2,3,5)\n",
    "sns.boxplot(df.Detergents_Paper)\n",
    "plt.subplot(2,3,6)\n",
    "sns.boxplot(df.Delicatessen)\n",
    "plt.show()"
   ]
  },
  {
   "cell_type": "markdown",
   "metadata": {},
   "source": [
    "## 1.5 On the basis of this report, what are the recommendations?"
   ]
  },
  {
   "cell_type": "markdown",
   "metadata": {},
   "source": [
    "Cross tabs are made to better understand the distribution of customers across region and channel.\n",
    "Since the data is too inconsistent, the median values can be looked for insights, as mean is often deceptive.\n",
    "Countplot and barplots can be visualized for better appeal."
   ]
  },
  {
   "cell_type": "code",
   "execution_count": 78,
   "metadata": {},
   "outputs": [
    {
     "data": {
      "text/html": [
       "<div>\n",
       "<style scoped>\n",
       "    .dataframe tbody tr th:only-of-type {\n",
       "        vertical-align: middle;\n",
       "    }\n",
       "\n",
       "    .dataframe tbody tr th {\n",
       "        vertical-align: top;\n",
       "    }\n",
       "\n",
       "    .dataframe thead th {\n",
       "        text-align: right;\n",
       "    }\n",
       "</style>\n",
       "<table border=\"1\" class=\"dataframe\">\n",
       "  <thead>\n",
       "    <tr style=\"text-align: right;\">\n",
       "      <th>Channel</th>\n",
       "      <th>Hotel</th>\n",
       "      <th>Retail</th>\n",
       "      <th>All</th>\n",
       "    </tr>\n",
       "    <tr>\n",
       "      <th>Region</th>\n",
       "      <th></th>\n",
       "      <th></th>\n",
       "      <th></th>\n",
       "    </tr>\n",
       "  </thead>\n",
       "  <tbody>\n",
       "    <tr>\n",
       "      <th>Lisbon</th>\n",
       "      <td>59</td>\n",
       "      <td>18</td>\n",
       "      <td>77</td>\n",
       "    </tr>\n",
       "    <tr>\n",
       "      <th>Oporto</th>\n",
       "      <td>28</td>\n",
       "      <td>19</td>\n",
       "      <td>47</td>\n",
       "    </tr>\n",
       "    <tr>\n",
       "      <th>Other</th>\n",
       "      <td>211</td>\n",
       "      <td>105</td>\n",
       "      <td>316</td>\n",
       "    </tr>\n",
       "    <tr>\n",
       "      <th>All</th>\n",
       "      <td>298</td>\n",
       "      <td>142</td>\n",
       "      <td>440</td>\n",
       "    </tr>\n",
       "  </tbody>\n",
       "</table>\n",
       "</div>"
      ],
      "text/plain": [
       "Channel  Hotel  Retail  All\n",
       "Region                     \n",
       "Lisbon      59      18   77\n",
       "Oporto      28      19   47\n",
       "Other      211     105  316\n",
       "All        298     142  440"
      ]
     },
     "execution_count": 78,
     "metadata": {},
     "output_type": "execute_result"
    }
   ],
   "source": [
    "df_cross = pd.crosstab(df.Region, df.Channel, margins=True)\n",
    "df_cross"
   ]
  },
  {
   "cell_type": "code",
   "execution_count": 79,
   "metadata": {},
   "outputs": [
    {
     "data": {
      "text/html": [
       "<div>\n",
       "<style scoped>\n",
       "    .dataframe tbody tr th:only-of-type {\n",
       "        vertical-align: middle;\n",
       "    }\n",
       "\n",
       "    .dataframe tbody tr th {\n",
       "        vertical-align: top;\n",
       "    }\n",
       "\n",
       "    .dataframe thead th {\n",
       "        text-align: right;\n",
       "    }\n",
       "</style>\n",
       "<table border=\"1\" class=\"dataframe\">\n",
       "  <thead>\n",
       "    <tr style=\"text-align: right;\">\n",
       "      <th>Channel</th>\n",
       "      <th>Hotel</th>\n",
       "      <th>Retail</th>\n",
       "    </tr>\n",
       "    <tr>\n",
       "      <th>Region</th>\n",
       "      <th></th>\n",
       "      <th></th>\n",
       "    </tr>\n",
       "  </thead>\n",
       "  <tbody>\n",
       "    <tr>\n",
       "      <th>Lisbon</th>\n",
       "      <td>1411629</td>\n",
       "      <td>666721</td>\n",
       "    </tr>\n",
       "    <tr>\n",
       "      <th>Oporto</th>\n",
       "      <td>674669</td>\n",
       "      <td>652602</td>\n",
       "    </tr>\n",
       "    <tr>\n",
       "      <th>Other</th>\n",
       "      <td>5255729</td>\n",
       "      <td>4019350</td>\n",
       "    </tr>\n",
       "  </tbody>\n",
       "</table>\n",
       "</div>"
      ],
      "text/plain": [
       "Channel    Hotel   Retail\n",
       "Region                   \n",
       "Lisbon   1411629   666721\n",
       "Oporto    674669   652602\n",
       "Other    5255729  4019350"
      ]
     },
     "execution_count": 79,
     "metadata": {},
     "output_type": "execute_result"
    }
   ],
   "source": [
    "df_cross_sum = pd.pivot_table(df, 'Total Spend' , index = ['Region'], columns = ['Channel'], aggfunc = 'sum')\n",
    "df_cross_sum"
   ]
  },
  {
   "cell_type": "code",
   "execution_count": 80,
   "metadata": {},
   "outputs": [
    {
     "data": {
      "text/html": [
       "<div>\n",
       "<style scoped>\n",
       "    .dataframe tbody tr th:only-of-type {\n",
       "        vertical-align: middle;\n",
       "    }\n",
       "\n",
       "    .dataframe tbody tr th {\n",
       "        vertical-align: top;\n",
       "    }\n",
       "\n",
       "    .dataframe thead th {\n",
       "        text-align: right;\n",
       "    }\n",
       "</style>\n",
       "<table border=\"1\" class=\"dataframe\">\n",
       "  <thead>\n",
       "    <tr style=\"text-align: right;\">\n",
       "      <th>Channel</th>\n",
       "      <th>Hotel</th>\n",
       "      <th>Retail</th>\n",
       "    </tr>\n",
       "    <tr>\n",
       "      <th>Region</th>\n",
       "      <th></th>\n",
       "      <th></th>\n",
       "    </tr>\n",
       "  </thead>\n",
       "  <tbody>\n",
       "    <tr>\n",
       "      <th>Lisbon</th>\n",
       "      <td>20245</td>\n",
       "      <td>35324</td>\n",
       "    </tr>\n",
       "    <tr>\n",
       "      <th>Oporto</th>\n",
       "      <td>20867</td>\n",
       "      <td>29875</td>\n",
       "    </tr>\n",
       "    <tr>\n",
       "      <th>Other</th>\n",
       "      <td>18609</td>\n",
       "      <td>30124</td>\n",
       "    </tr>\n",
       "  </tbody>\n",
       "</table>\n",
       "</div>"
      ],
      "text/plain": [
       "Channel  Hotel  Retail\n",
       "Region                \n",
       "Lisbon   20245   35324\n",
       "Oporto   20867   29875\n",
       "Other    18609   30124"
      ]
     },
     "execution_count": 80,
     "metadata": {},
     "output_type": "execute_result"
    }
   ],
   "source": [
    "df_cross_med = pd.pivot_table(df, 'Total Spend' , index = ['Region'], \n",
    "                              columns = ['Channel'], aggfunc = 'median')\n",
    "df_cross_med"
   ]
  },
  {
   "cell_type": "code",
   "execution_count": 81,
   "metadata": {},
   "outputs": [
    {
     "data": {
      "image/png": "[encoded data removed]",
      "text/plain": [
       "<Figure size 432x288 with 1 Axes>"
      ]
     },
     "metadata": {
      "needs_background": "light"
     },
     "output_type": "display_data"
    }
   ],
   "source": [
    "plt.title('COUNT PLOT')\n",
    "sns.countplot(df.Region, hue = df.Channel);"
   ]
  },
  {
   "cell_type": "code",
   "execution_count": 82,
   "metadata": {},
   "outputs": [
    {
     "data": {
      "text/html": [
       "<div>\n",
       "<style scoped>\n",
       "    .dataframe tbody tr th:only-of-type {\n",
       "        vertical-align: middle;\n",
       "    }\n",
       "\n",
       "    .dataframe tbody tr th {\n",
       "        vertical-align: top;\n",
       "    }\n",
       "\n",
       "    .dataframe thead th {\n",
       "        text-align: right;\n",
       "    }\n",
       "</style>\n",
       "<table border=\"1\" class=\"dataframe\">\n",
       "  <thead>\n",
       "    <tr style=\"text-align: right;\">\n",
       "      <th>Channel</th>\n",
       "      <th>Region</th>\n",
       "      <th>Hotel</th>\n",
       "      <th>Retail</th>\n",
       "    </tr>\n",
       "  </thead>\n",
       "  <tbody>\n",
       "    <tr>\n",
       "      <th>0</th>\n",
       "      <td>Lisbon</td>\n",
       "      <td>20245</td>\n",
       "      <td>35324</td>\n",
       "    </tr>\n",
       "    <tr>\n",
       "      <th>1</th>\n",
       "      <td>Oporto</td>\n",
       "      <td>20867</td>\n",
       "      <td>29875</td>\n",
       "    </tr>\n",
       "    <tr>\n",
       "      <th>2</th>\n",
       "      <td>Other</td>\n",
       "      <td>18609</td>\n",
       "      <td>30124</td>\n",
       "    </tr>\n",
       "  </tbody>\n",
       "</table>\n",
       "</div>"
      ],
      "text/plain": [
       "Channel  Region  Hotel  Retail\n",
       "0        Lisbon  20245   35324\n",
       "1        Oporto  20867   29875\n",
       "2         Other  18609   30124"
      ]
     },
     "execution_count": 82,
     "metadata": {},
     "output_type": "execute_result"
    }
   ],
   "source": [
    "df_cross_med.reset_index(inplace = True)\n",
    "df_cross_med"
   ]
  },
  {
   "cell_type": "code",
   "execution_count": 83,
   "metadata": {},
   "outputs": [
    {
     "name": "stdout",
     "output_type": "stream",
     "text": [
      "\t\t\t\t\t\t\tMEDIAN EXPENDITURE\n"
     ]
    },
    {
     "data": {
      "image/png": "[encoded data removed]",
      "text/plain": [
       "<Figure size 1080x360 with 2 Axes>"
      ]
     },
     "metadata": {
      "needs_background": "light"
     },
     "output_type": "display_data"
    }
   ],
   "source": [
    "print('\\t\\t\\t\\t\\t\\t\\tMEDIAN EXPENDITURE')\n",
    "\n",
    "plt.figure(figsize = (15,5))\n",
    "plt.subplot(1,2,1)\n",
    "sns.barplot(df_cross_med.Region, df_cross_med.Hotel);\n",
    "plt.subplot(1,2,2)\n",
    "sns.barplot(df_cross_med.Region, df_cross_med.Retail);"
   ]
  },
  {
   "cell_type": "code",
   "execution_count": null,
   "metadata": {},
   "outputs": [],
   "source": []
  }
 ],
 "metadata": {
  "kernelspec": {
   "display_name": "Python 3",
   "language": "python",
   "name": "python3"
  },
  "language_info": {
   "codemirror_mode": {
    "name": "ipython",
    "version": 3
   },
   "file_extension": ".py",
   "mimetype": "text/x-python",
   "name": "python",
   "nbconvert_exporter": "python",
   "pygments_lexer": "ipython3",
   "version": "3.7.6"
  }
 },
 "nbformat": 4,
 "nbformat_minor": 4
}
