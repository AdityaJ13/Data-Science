{
 "cells": [
  {
   "cell_type": "code",
   "execution_count": 2,
   "metadata": {},
   "outputs": [],
   "source": [
    "import pandas as pd\n",
    "import numpy as np\n",
    "import matplotlib.pyplot as plt\n",
    "import seaborn as sns\n",
    "from sklearn.metrics import confusion_matrix, classification_report, roc_auc_score,roc_curve\n",
    "from sklearn.model_selection import train_test_split\n",
    "from sklearn.linear_model import LogisticRegression\n",
    "from sklearn.discriminant_analysis import LinearDiscriminantAnalysis"
   ]
  },
  {
   "cell_type": "markdown",
   "metadata": {},
   "source": [
    "# 2.1 Data Ingestion: Read the dataset. Do the descriptive statistics and do null value condition check, write an inference on it. Perform Univariate and Bivariate Analysis. Do exploratory data analysis."
   ]
  },
  {
   "cell_type": "code",
   "execution_count": 3,
   "metadata": {},
   "outputs": [],
   "source": [
    "df = pd.read_csv('Holiday_Package-1.csv')\n",
    "df = df.iloc[:,1::]"
   ]
  },
  {
   "cell_type": "code",
   "execution_count": 4,
   "metadata": {},
   "outputs": [
    {
     "data": {
      "text/html": [
       "<div>\n",
       "<style scoped>\n",
       "    .dataframe tbody tr th:only-of-type {\n",
       "        vertical-align: middle;\n",
       "    }\n",
       "\n",
       "    .dataframe tbody tr th {\n",
       "        vertical-align: top;\n",
       "    }\n",
       "\n",
       "    .dataframe thead th {\n",
       "        text-align: right;\n",
       "    }\n",
       "</style>\n",
       "<table border=\"1\" class=\"dataframe\">\n",
       "  <thead>\n",
       "    <tr style=\"text-align: right;\">\n",
       "      <th></th>\n",
       "      <th>Holliday_Package</th>\n",
       "      <th>Salary</th>\n",
       "      <th>age</th>\n",
       "      <th>educ</th>\n",
       "      <th>no_young_children</th>\n",
       "      <th>no_older_children</th>\n",
       "      <th>foreign</th>\n",
       "    </tr>\n",
       "  </thead>\n",
       "  <tbody>\n",
       "    <tr>\n",
       "      <th>0</th>\n",
       "      <td>no</td>\n",
       "      <td>48412</td>\n",
       "      <td>30</td>\n",
       "      <td>8</td>\n",
       "      <td>1</td>\n",
       "      <td>1</td>\n",
       "      <td>no</td>\n",
       "    </tr>\n",
       "    <tr>\n",
       "      <th>1</th>\n",
       "      <td>yes</td>\n",
       "      <td>37207</td>\n",
       "      <td>45</td>\n",
       "      <td>8</td>\n",
       "      <td>0</td>\n",
       "      <td>1</td>\n",
       "      <td>no</td>\n",
       "    </tr>\n",
       "    <tr>\n",
       "      <th>2</th>\n",
       "      <td>no</td>\n",
       "      <td>58022</td>\n",
       "      <td>46</td>\n",
       "      <td>9</td>\n",
       "      <td>0</td>\n",
       "      <td>0</td>\n",
       "      <td>no</td>\n",
       "    </tr>\n",
       "    <tr>\n",
       "      <th>3</th>\n",
       "      <td>no</td>\n",
       "      <td>66503</td>\n",
       "      <td>31</td>\n",
       "      <td>11</td>\n",
       "      <td>2</td>\n",
       "      <td>0</td>\n",
       "      <td>no</td>\n",
       "    </tr>\n",
       "    <tr>\n",
       "      <th>4</th>\n",
       "      <td>no</td>\n",
       "      <td>66734</td>\n",
       "      <td>44</td>\n",
       "      <td>12</td>\n",
       "      <td>0</td>\n",
       "      <td>2</td>\n",
       "      <td>no</td>\n",
       "    </tr>\n",
       "  </tbody>\n",
       "</table>\n",
       "</div>"
      ],
      "text/plain": [
       "  Holliday_Package  Salary  age  educ  no_young_children  no_older_children  \\\n",
       "0               no   48412   30     8                  1                  1   \n",
       "1              yes   37207   45     8                  0                  1   \n",
       "2               no   58022   46     9                  0                  0   \n",
       "3               no   66503   31    11                  2                  0   \n",
       "4               no   66734   44    12                  0                  2   \n",
       "\n",
       "  foreign  \n",
       "0      no  \n",
       "1      no  \n",
       "2      no  \n",
       "3      no  \n",
       "4      no  "
      ]
     },
     "execution_count": 4,
     "metadata": {},
     "output_type": "execute_result"
    }
   ],
   "source": [
    "df.head()"
   ]
  },
  {
   "cell_type": "markdown",
   "metadata": {},
   "source": [
    "#### NULL VALUE CHECK AND DESCRIPTIVE ANALYSIS"
   ]
  },
  {
   "cell_type": "code",
   "execution_count": 5,
   "metadata": {},
   "outputs": [
    {
     "name": "stdout",
     "output_type": "stream",
     "text": [
      "<class 'pandas.core.frame.DataFrame'>\n",
      "RangeIndex: 872 entries, 0 to 871\n",
      "Data columns (total 7 columns):\n",
      " #   Column             Non-Null Count  Dtype \n",
      "---  ------             --------------  ----- \n",
      " 0   Holliday_Package   872 non-null    object\n",
      " 1   Salary             872 non-null    int64 \n",
      " 2   age                872 non-null    int64 \n",
      " 3   educ               872 non-null    int64 \n",
      " 4   no_young_children  872 non-null    int64 \n",
      " 5   no_older_children  872 non-null    int64 \n",
      " 6   foreign            872 non-null    object\n",
      "dtypes: int64(5), object(2)\n",
      "memory usage: 47.8+ KB\n"
     ]
    }
   ],
   "source": [
    "df.info()"
   ]
  },
  {
   "cell_type": "code",
   "execution_count": 6,
   "metadata": {},
   "outputs": [
    {
     "data": {
      "text/html": [
       "<div>\n",
       "<style scoped>\n",
       "    .dataframe tbody tr th:only-of-type {\n",
       "        vertical-align: middle;\n",
       "    }\n",
       "\n",
       "    .dataframe tbody tr th {\n",
       "        vertical-align: top;\n",
       "    }\n",
       "\n",
       "    .dataframe thead th {\n",
       "        text-align: right;\n",
       "    }\n",
       "</style>\n",
       "<table border=\"1\" class=\"dataframe\">\n",
       "  <thead>\n",
       "    <tr style=\"text-align: right;\">\n",
       "      <th></th>\n",
       "      <th>Data Types</th>\n",
       "    </tr>\n",
       "  </thead>\n",
       "  <tbody>\n",
       "    <tr>\n",
       "      <th>Holliday_Package</th>\n",
       "      <td>object</td>\n",
       "    </tr>\n",
       "    <tr>\n",
       "      <th>Salary</th>\n",
       "      <td>int64</td>\n",
       "    </tr>\n",
       "    <tr>\n",
       "      <th>age</th>\n",
       "      <td>int64</td>\n",
       "    </tr>\n",
       "    <tr>\n",
       "      <th>educ</th>\n",
       "      <td>int64</td>\n",
       "    </tr>\n",
       "    <tr>\n",
       "      <th>no_young_children</th>\n",
       "      <td>int64</td>\n",
       "    </tr>\n",
       "    <tr>\n",
       "      <th>no_older_children</th>\n",
       "      <td>int64</td>\n",
       "    </tr>\n",
       "    <tr>\n",
       "      <th>foreign</th>\n",
       "      <td>object</td>\n",
       "    </tr>\n",
       "  </tbody>\n",
       "</table>\n",
       "</div>"
      ],
      "text/plain": [
       "                  Data Types\n",
       "Holliday_Package      object\n",
       "Salary                 int64\n",
       "age                    int64\n",
       "educ                   int64\n",
       "no_young_children      int64\n",
       "no_older_children      int64\n",
       "foreign               object"
      ]
     },
     "execution_count": 6,
     "metadata": {},
     "output_type": "execute_result"
    }
   ],
   "source": [
    "pd.DataFrame(df.dtypes, columns = ['Data Types'])"
   ]
  },
  {
   "cell_type": "code",
   "execution_count": 7,
   "metadata": {},
   "outputs": [
    {
     "data": {
      "text/html": [
       "<div>\n",
       "<style scoped>\n",
       "    .dataframe tbody tr th:only-of-type {\n",
       "        vertical-align: middle;\n",
       "    }\n",
       "\n",
       "    .dataframe tbody tr th {\n",
       "        vertical-align: top;\n",
       "    }\n",
       "\n",
       "    .dataframe thead th {\n",
       "        text-align: right;\n",
       "    }\n",
       "</style>\n",
       "<table border=\"1\" class=\"dataframe\">\n",
       "  <thead>\n",
       "    <tr style=\"text-align: right;\">\n",
       "      <th></th>\n",
       "      <th>Missing Values</th>\n",
       "    </tr>\n",
       "  </thead>\n",
       "  <tbody>\n",
       "    <tr>\n",
       "      <th>Holliday_Package</th>\n",
       "      <td>0</td>\n",
       "    </tr>\n",
       "    <tr>\n",
       "      <th>Salary</th>\n",
       "      <td>0</td>\n",
       "    </tr>\n",
       "    <tr>\n",
       "      <th>age</th>\n",
       "      <td>0</td>\n",
       "    </tr>\n",
       "    <tr>\n",
       "      <th>educ</th>\n",
       "      <td>0</td>\n",
       "    </tr>\n",
       "    <tr>\n",
       "      <th>no_young_children</th>\n",
       "      <td>0</td>\n",
       "    </tr>\n",
       "    <tr>\n",
       "      <th>no_older_children</th>\n",
       "      <td>0</td>\n",
       "    </tr>\n",
       "    <tr>\n",
       "      <th>foreign</th>\n",
       "      <td>0</td>\n",
       "    </tr>\n",
       "  </tbody>\n",
       "</table>\n",
       "</div>"
      ],
      "text/plain": [
       "                   Missing Values\n",
       "Holliday_Package                0\n",
       "Salary                          0\n",
       "age                             0\n",
       "educ                            0\n",
       "no_young_children               0\n",
       "no_older_children               0\n",
       "foreign                         0"
      ]
     },
     "execution_count": 7,
     "metadata": {},
     "output_type": "execute_result"
    }
   ],
   "source": [
    "pd.DataFrame(df.isnull().sum(), columns = ['Missing Values'])"
   ]
  },
  {
   "cell_type": "code",
   "execution_count": 8,
   "metadata": {},
   "outputs": [
    {
     "name": "stdout",
     "output_type": "stream",
     "text": [
      "Shape of data is: 872  x  7\n"
     ]
    }
   ],
   "source": [
    "print('Shape of data is:',df.shape[0],' x ',df.shape[1])"
   ]
  },
  {
   "cell_type": "code",
   "execution_count": 9,
   "metadata": {},
   "outputs": [
    {
     "name": "stdout",
     "output_type": "stream",
     "text": [
      "Duplicates in the data: 0\n"
     ]
    }
   ],
   "source": [
    "print('Duplicates in the data:', df.duplicated().sum())"
   ]
  },
  {
   "cell_type": "markdown",
   "metadata": {},
   "source": [
    "#### Summary"
   ]
  },
  {
   "cell_type": "code",
   "execution_count": 10,
   "metadata": {},
   "outputs": [
    {
     "data": {
      "text/html": [
       "<div>\n",
       "<style scoped>\n",
       "    .dataframe tbody tr th:only-of-type {\n",
       "        vertical-align: middle;\n",
       "    }\n",
       "\n",
       "    .dataframe tbody tr th {\n",
       "        vertical-align: top;\n",
       "    }\n",
       "\n",
       "    .dataframe thead th {\n",
       "        text-align: right;\n",
       "    }\n",
       "</style>\n",
       "<table border=\"1\" class=\"dataframe\">\n",
       "  <thead>\n",
       "    <tr style=\"text-align: right;\">\n",
       "      <th></th>\n",
       "      <th>Salary</th>\n",
       "      <th>age</th>\n",
       "      <th>educ</th>\n",
       "      <th>no_young_children</th>\n",
       "      <th>no_older_children</th>\n",
       "    </tr>\n",
       "  </thead>\n",
       "  <tbody>\n",
       "    <tr>\n",
       "      <th>count</th>\n",
       "      <td>872.000000</td>\n",
       "      <td>872.000000</td>\n",
       "      <td>872.000000</td>\n",
       "      <td>872.000000</td>\n",
       "      <td>872.000000</td>\n",
       "    </tr>\n",
       "    <tr>\n",
       "      <th>mean</th>\n",
       "      <td>47729.172018</td>\n",
       "      <td>39.955275</td>\n",
       "      <td>9.307339</td>\n",
       "      <td>0.311927</td>\n",
       "      <td>0.982798</td>\n",
       "    </tr>\n",
       "    <tr>\n",
       "      <th>std</th>\n",
       "      <td>23418.668531</td>\n",
       "      <td>10.551675</td>\n",
       "      <td>3.036259</td>\n",
       "      <td>0.612870</td>\n",
       "      <td>1.086786</td>\n",
       "    </tr>\n",
       "    <tr>\n",
       "      <th>min</th>\n",
       "      <td>1322.000000</td>\n",
       "      <td>20.000000</td>\n",
       "      <td>1.000000</td>\n",
       "      <td>0.000000</td>\n",
       "      <td>0.000000</td>\n",
       "    </tr>\n",
       "    <tr>\n",
       "      <th>25%</th>\n",
       "      <td>35324.000000</td>\n",
       "      <td>32.000000</td>\n",
       "      <td>8.000000</td>\n",
       "      <td>0.000000</td>\n",
       "      <td>0.000000</td>\n",
       "    </tr>\n",
       "    <tr>\n",
       "      <th>50%</th>\n",
       "      <td>41903.500000</td>\n",
       "      <td>39.000000</td>\n",
       "      <td>9.000000</td>\n",
       "      <td>0.000000</td>\n",
       "      <td>1.000000</td>\n",
       "    </tr>\n",
       "    <tr>\n",
       "      <th>75%</th>\n",
       "      <td>53469.500000</td>\n",
       "      <td>48.000000</td>\n",
       "      <td>12.000000</td>\n",
       "      <td>0.000000</td>\n",
       "      <td>2.000000</td>\n",
       "    </tr>\n",
       "    <tr>\n",
       "      <th>max</th>\n",
       "      <td>236961.000000</td>\n",
       "      <td>62.000000</td>\n",
       "      <td>21.000000</td>\n",
       "      <td>3.000000</td>\n",
       "      <td>6.000000</td>\n",
       "    </tr>\n",
       "  </tbody>\n",
       "</table>\n",
       "</div>"
      ],
      "text/plain": [
       "              Salary         age        educ  no_young_children  \\\n",
       "count     872.000000  872.000000  872.000000         872.000000   \n",
       "mean    47729.172018   39.955275    9.307339           0.311927   \n",
       "std     23418.668531   10.551675    3.036259           0.612870   \n",
       "min      1322.000000   20.000000    1.000000           0.000000   \n",
       "25%     35324.000000   32.000000    8.000000           0.000000   \n",
       "50%     41903.500000   39.000000    9.000000           0.000000   \n",
       "75%     53469.500000   48.000000   12.000000           0.000000   \n",
       "max    236961.000000   62.000000   21.000000           3.000000   \n",
       "\n",
       "       no_older_children  \n",
       "count         872.000000  \n",
       "mean            0.982798  \n",
       "std             1.086786  \n",
       "min             0.000000  \n",
       "25%             0.000000  \n",
       "50%             1.000000  \n",
       "75%             2.000000  \n",
       "max             6.000000  "
      ]
     },
     "execution_count": 10,
     "metadata": {},
     "output_type": "execute_result"
    }
   ],
   "source": [
    "df.describe()"
   ]
  },
  {
   "cell_type": "markdown",
   "metadata": {},
   "source": [
    "#### Checking unique values"
   ]
  },
  {
   "cell_type": "code",
   "execution_count": 11,
   "metadata": {},
   "outputs": [
    {
     "data": {
      "text/plain": [
       "no     471\n",
       "yes    401\n",
       "Name: Holliday_Package, dtype: int64"
      ]
     },
     "execution_count": 11,
     "metadata": {},
     "output_type": "execute_result"
    }
   ],
   "source": [
    "df['Holliday_Package'].value_counts()"
   ]
  },
  {
   "cell_type": "code",
   "execution_count": 12,
   "metadata": {},
   "outputs": [
    {
     "data": {
      "text/plain": [
       "no     656\n",
       "yes    216\n",
       "Name: foreign, dtype: int64"
      ]
     },
     "execution_count": 12,
     "metadata": {},
     "output_type": "execute_result"
    }
   ],
   "source": [
    "df['foreign'].value_counts()"
   ]
  },
  {
   "cell_type": "markdown",
   "metadata": {},
   "source": [
    "- The target variable here is no: as we wish to figure out the ones who have not taken the holiday package"
   ]
  },
  {
   "cell_type": "code",
   "execution_count": 13,
   "metadata": {},
   "outputs": [
    {
     "data": {
      "text/plain": [
       "0    393\n",
       "2    208\n",
       "1    198\n",
       "3     55\n",
       "4     14\n",
       "6      2\n",
       "5      2\n",
       "Name: no_older_children, dtype: int64"
      ]
     },
     "execution_count": 13,
     "metadata": {},
     "output_type": "execute_result"
    }
   ],
   "source": [
    "df['no_older_children'].value_counts()"
   ]
  },
  {
   "cell_type": "code",
   "execution_count": 14,
   "metadata": {},
   "outputs": [
    {
     "data": {
      "text/plain": [
       "0    665\n",
       "1    147\n",
       "2     55\n",
       "3      5\n",
       "Name: no_young_children, dtype: int64"
      ]
     },
     "execution_count": 14,
     "metadata": {},
     "output_type": "execute_result"
    }
   ],
   "source": [
    "df['no_young_children'].value_counts()"
   ]
  },
  {
   "cell_type": "markdown",
   "metadata": {},
   "source": [
    "- Young children: <7 yrs of age\n",
    "- Older children: 7 and above"
   ]
  },
  {
   "cell_type": "markdown",
   "metadata": {},
   "source": [
    "#### Univariate analysis"
   ]
  },
  {
   "cell_type": "code",
   "execution_count": 15,
   "metadata": {},
   "outputs": [],
   "source": [
    "def univariate(col):\n",
    "    print('Description of',col,' is: -')\n",
    "    print(df[col].describe())\n",
    "    print(' ')\n",
    "    print('-----------------------------------------------------------')\n",
    "    print(\"Mean is: \", df[col].mean())\n",
    "    print(\"Median is: \", df[col].median())\n",
    "    print(\"Mode is: \", df[col].mode()[0])\n",
    "    print('-----------------------------------------------------------')\n",
    "    print(\" \")\n",
    "    \n",
    "    print(\"Distribution of \", col, ' is: -')\n",
    "    \n",
    "    sns.displot(x = df[col], kde = True, height = 3.5)\n",
    "    plt.axvline(x = df[col].mean(), color = 'green',label = 'mean')\n",
    "    plt.axvline(x = df[col].median(), color = 'red', label = 'median')\n",
    "    plt.axvline(x = df[col].mode()[0], color = 'yellow', label = 'mode')\n",
    "    plt.legend()\n",
    "    plt.show()\n",
    "    \n",
    "    print('-----------------------------------------------------------')\n",
    "    print(' ')\n",
    "    print('Boxplot of',col,' is: -')\n",
    "    plt.figure(figsize = (4,3))\n",
    "    sns.boxplot(x = df[col],width = .6)\n",
    "    plt.show()\n",
    "    print('-----------------------------------------------------------')\n",
    "    print('-----------------------------------------------------------')\n",
    "    print(' ')"
   ]
  },
  {
   "cell_type": "code",
   "execution_count": 16,
   "metadata": {},
   "outputs": [
    {
     "name": "stdout",
     "output_type": "stream",
     "text": [
      "Description of Salary  is: -\n",
      "count       872.000000\n",
      "mean      47729.172018\n",
      "std       23418.668531\n",
      "min        1322.000000\n",
      "25%       35324.000000\n",
      "50%       41903.500000\n",
      "75%       53469.500000\n",
      "max      236961.000000\n",
      "Name: Salary, dtype: float64\n",
      " \n",
      "-----------------------------------------------------------\n",
      "Mean is:  47729.172018348625\n",
      "Median is:  41903.5\n",
      "Mode is:  32197\n",
      "-----------------------------------------------------------\n",
      " \n",
      "Distribution of  Salary  is: -\n"
     ]
    },
    {
     "data": {
      "image/png": "[encoded data removed]",
      "text/plain": [
       "<Figure size 252x252 with 1 Axes>"
      ]
     },
     "metadata": {
      "needs_background": "light"
     },
     "output_type": "display_data"
    },
    {
     "name": "stdout",
     "output_type": "stream",
     "text": [
      "-----------------------------------------------------------\n",
      " \n",
      "Boxplot of Salary  is: -\n"
     ]
    },
    {
     "data": {
      "image/png": "[encoded data removed]",
      "text/plain": [
       "<Figure size 288x216 with 1 Axes>"
      ]
     },
     "metadata": {
      "needs_background": "light"
     },
     "output_type": "display_data"
    },
    {
     "name": "stdout",
     "output_type": "stream",
     "text": [
      "-----------------------------------------------------------\n",
      "-----------------------------------------------------------\n",
      " \n",
      "Description of age  is: -\n",
      "count    872.000000\n",
      "mean      39.955275\n",
      "std       10.551675\n",
      "min       20.000000\n",
      "25%       32.000000\n",
      "50%       39.000000\n",
      "75%       48.000000\n",
      "max       62.000000\n",
      "Name: age, dtype: float64\n",
      " \n",
      "-----------------------------------------------------------\n",
      "Mean is:  39.955275229357795\n",
      "Median is:  39.0\n",
      "Mode is:  44\n",
      "-----------------------------------------------------------\n",
      " \n",
      "Distribution of  age  is: -\n"
     ]
    },
    {
     "data": {
      "image/png": "[encoded data removed]",
      "text/plain": [
       "<Figure size 252x252 with 1 Axes>"
      ]
     },
     "metadata": {
      "needs_background": "light"
     },
     "output_type": "display_data"
    },
    {
     "name": "stdout",
     "output_type": "stream",
     "text": [
      "-----------------------------------------------------------\n",
      " \n",
      "Boxplot of age  is: -\n"
     ]
    },
    {
     "data": {
      "image/png": "[encoded data removed]",
      "text/plain": [
       "<Figure size 288x216 with 1 Axes>"
      ]
     },
     "metadata": {
      "needs_background": "light"
     },
     "output_type": "display_data"
    },
    {
     "name": "stdout",
     "output_type": "stream",
     "text": [
      "-----------------------------------------------------------\n",
      "-----------------------------------------------------------\n",
      " \n",
      "Description of educ  is: -\n",
      "count    872.000000\n",
      "mean       9.307339\n",
      "std        3.036259\n",
      "min        1.000000\n",
      "25%        8.000000\n",
      "50%        9.000000\n",
      "75%       12.000000\n",
      "max       21.000000\n",
      "Name: educ, dtype: float64\n",
      " \n",
      "-----------------------------------------------------------\n",
      "Mean is:  9.307339449541285\n",
      "Median is:  9.0\n",
      "Mode is:  8\n",
      "-----------------------------------------------------------\n",
      " \n",
      "Distribution of  educ  is: -\n"
     ]
    },
    {
     "data": {
      "image/png": "[encoded data removed]",
      "text/plain": [
       "<Figure size 252x252 with 1 Axes>"
      ]
     },
     "metadata": {
      "needs_background": "light"
     },
     "output_type": "display_data"
    },
    {
     "name": "stdout",
     "output_type": "stream",
     "text": [
      "-----------------------------------------------------------\n",
      " \n",
      "Boxplot of educ  is: -\n"
     ]
    },
    {
     "data": {
      "image/png": "[encoded data removed]",
      "text/plain": [
       "<Figure size 288x216 with 1 Axes>"
      ]
     },
     "metadata": {
      "needs_background": "light"
     },
     "output_type": "display_data"
    },
    {
     "name": "stdout",
     "output_type": "stream",
     "text": [
      "-----------------------------------------------------------\n",
      "-----------------------------------------------------------\n",
      " \n",
      "Description of no_young_children  is: -\n",
      "count    872.000000\n",
      "mean       0.311927\n",
      "std        0.612870\n",
      "min        0.000000\n",
      "25%        0.000000\n",
      "50%        0.000000\n",
      "75%        0.000000\n",
      "max        3.000000\n",
      "Name: no_young_children, dtype: float64\n",
      " \n",
      "-----------------------------------------------------------\n",
      "Mean is:  0.3119266055045872\n",
      "Median is:  0.0\n",
      "Mode is:  0\n",
      "-----------------------------------------------------------\n",
      " \n",
      "Distribution of  no_young_children  is: -\n"
     ]
    },
    {
     "data": {
      "image/png": "[encoded data removed]",
      "text/plain": [
       "<Figure size 252x252 with 1 Axes>"
      ]
     },
     "metadata": {
      "needs_background": "light"
     },
     "output_type": "display_data"
    },
    {
     "name": "stdout",
     "output_type": "stream",
     "text": [
      "-----------------------------------------------------------\n",
      " \n",
      "Boxplot of no_young_children  is: -\n"
     ]
    },
    {
     "data": {
      "image/png": "[encoded data removed]",
      "text/plain": [
       "<Figure size 288x216 with 1 Axes>"
      ]
     },
     "metadata": {
      "needs_background": "light"
     },
     "output_type": "display_data"
    },
    {
     "name": "stdout",
     "output_type": "stream",
     "text": [
      "-----------------------------------------------------------\n",
      "-----------------------------------------------------------\n",
      " \n",
      "Description of no_older_children  is: -\n",
      "count    872.000000\n",
      "mean       0.982798\n",
      "std        1.086786\n",
      "min        0.000000\n",
      "25%        0.000000\n",
      "50%        1.000000\n",
      "75%        2.000000\n",
      "max        6.000000\n",
      "Name: no_older_children, dtype: float64\n",
      " \n",
      "-----------------------------------------------------------\n",
      "Mean is:  0.9827981651376146\n",
      "Median is:  1.0\n",
      "Mode is:  0\n",
      "-----------------------------------------------------------\n",
      " \n",
      "Distribution of  no_older_children  is: -\n"
     ]
    },
    {
     "data": {
      "image/png": "[encoded data removed]",
      "text/plain": [
       "<Figure size 252x252 with 1 Axes>"
      ]
     },
     "metadata": {
      "needs_background": "light"
     },
     "output_type": "display_data"
    },
    {
     "name": "stdout",
     "output_type": "stream",
     "text": [
      "-----------------------------------------------------------\n",
      " \n",
      "Boxplot of no_older_children  is: -\n"
     ]
    },
    {
     "data": {
      "image/png": "[encoded data removed]",
      "text/plain": [
       "<Figure size 288x216 with 1 Axes>"
      ]
     },
     "metadata": {
      "needs_background": "light"
     },
     "output_type": "display_data"
    },
    {
     "name": "stdout",
     "output_type": "stream",
     "text": [
      "-----------------------------------------------------------\n",
      "-----------------------------------------------------------\n",
      " \n"
     ]
    }
   ],
   "source": [
    "for i in df.columns:\n",
    "    if(df[i].dtype != 'object'):\n",
    "        univariate(i)\n",
    "        "
   ]
  },
  {
   "cell_type": "markdown",
   "metadata": {},
   "source": [
    "#### Bivariate"
   ]
  },
  {
   "cell_type": "code",
   "execution_count": 17,
   "metadata": {},
   "outputs": [
    {
     "data": {
      "text/plain": [
       "<seaborn.axisgrid.PairGrid at 0x1b4bcadd048>"
      ]
     },
     "execution_count": 17,
     "metadata": {},
     "output_type": "execute_result"
    },
    {
     "data": {
      "image/png": "[encoded data removed]",
      "text/plain": [
       "<Figure size 994.875x900 with 30 Axes>"
      ]
     },
     "metadata": {
      "needs_background": "light"
     },
     "output_type": "display_data"
    }
   ],
   "source": [
    "sns.pairplot(data = df, diag_kind = 'kde', hue = 'Holliday_Package')"
   ]
  },
  {
   "cell_type": "code",
   "execution_count": 18,
   "metadata": {},
   "outputs": [
    {
     "data": {
      "image/png": "[encoded data removed]",
      "text/plain": [
       "<Figure size 504x432 with 1 Axes>"
      ]
     },
     "metadata": {
      "needs_background": "light"
     },
     "output_type": "display_data"
    },
    {
     "data": {
      "image/png": "[encoded data removed]",
      "text/plain": [
       "<Figure size 504x432 with 1 Axes>"
      ]
     },
     "metadata": {
      "needs_background": "light"
     },
     "output_type": "display_data"
    },
    {
     "data": {
      "image/png": "[encoded data removed]",
      "text/plain": [
       "<Figure size 504x432 with 1 Axes>"
      ]
     },
     "metadata": {
      "needs_background": "light"
     },
     "output_type": "display_data"
    },
    {
     "data": {
      "image/png": "[encoded data removed]",
      "text/plain": [
       "<Figure size 504x432 with 1 Axes>"
      ]
     },
     "metadata": {
      "needs_background": "light"
     },
     "output_type": "display_data"
    },
    {
     "data": {
      "image/png": "[encoded data removed]",
      "text/plain": [
       "<Figure size 504x432 with 1 Axes>"
      ]
     },
     "metadata": {
      "needs_background": "light"
     },
     "output_type": "display_data"
    }
   ],
   "source": [
    "def boxplot(col):\n",
    "    plt.figure(figsize = (7,6))\n",
    "    sns.boxplot(y = df[col], x = df['Holliday_Package'])\n",
    "    plt.show()\n",
    "\n",
    "    \n",
    "for i in df.columns:\n",
    "    if(df[i].dtype!='object'):\n",
    "        boxplot(i)"
   ]
  },
  {
   "cell_type": "markdown",
   "metadata": {},
   "source": [
    "- No of children are discrete, they can be converted to categorical"
   ]
  },
  {
   "cell_type": "code",
   "execution_count": 19,
   "metadata": {},
   "outputs": [
    {
     "data": {
      "image/png": "[encoded data removed]",
      "text/plain": [
       "<Figure size 720x504 with 1 Axes>"
      ]
     },
     "metadata": {
      "needs_background": "light"
     },
     "output_type": "display_data"
    }
   ],
   "source": [
    "plt.figure(figsize = (10,7))\n",
    "sns.boxplot(x = df.Holliday_Package, y = df.Salary, hue = df.foreign);"
   ]
  },
  {
   "cell_type": "code",
   "execution_count": 20,
   "metadata": {},
   "outputs": [
    {
     "data": {
      "image/png": "[encoded data removed]",
      "text/plain": [
       "<Figure size 720x504 with 1 Axes>"
      ]
     },
     "metadata": {
      "needs_background": "light"
     },
     "output_type": "display_data"
    }
   ],
   "source": [
    "plt.figure(figsize = (10,7))\n",
    "sns.boxplot(x = df.Holliday_Package, y = df.age, hue = df.foreign);"
   ]
  },
  {
   "cell_type": "code",
   "execution_count": 21,
   "metadata": {},
   "outputs": [
    {
     "data": {
      "image/png": "[encoded data removed]",
      "text/plain": [
       "<Figure size 720x504 with 1 Axes>"
      ]
     },
     "metadata": {
      "needs_background": "light"
     },
     "output_type": "display_data"
    }
   ],
   "source": [
    "plt.figure(figsize = (10,7))\n",
    "sns.boxplot(x = df.Holliday_Package, y = df.educ, hue = df.foreign);"
   ]
  },
  {
   "cell_type": "code",
   "execution_count": 22,
   "metadata": {},
   "outputs": [
    {
     "data": {
      "image/png": "[encoded data removed]",
      "text/plain": [
       "<Figure size 720x504 with 1 Axes>"
      ]
     },
     "metadata": {
      "needs_background": "light"
     },
     "output_type": "display_data"
    }
   ],
   "source": [
    "plt.figure(figsize = (10,7))\n",
    "sns.boxplot(x = df.Holliday_Package, y = df.no_older_children, hue = df.foreign);"
   ]
  },
  {
   "cell_type": "code",
   "execution_count": 23,
   "metadata": {},
   "outputs": [
    {
     "data": {
      "image/png": "[encoded data removed]",
      "text/plain": [
       "<Figure size 720x504 with 1 Axes>"
      ]
     },
     "metadata": {
      "needs_background": "light"
     },
     "output_type": "display_data"
    }
   ],
   "source": [
    "plt.figure(figsize = (10,7))\n",
    "sns.boxplot(x = df.Holliday_Package, y = df.no_young_children, hue = df.foreign);"
   ]
  },
  {
   "cell_type": "code",
   "execution_count": 24,
   "metadata": {},
   "outputs": [
    {
     "data": {
      "text/html": [
       "<div>\n",
       "<style scoped>\n",
       "    .dataframe tbody tr th:only-of-type {\n",
       "        vertical-align: middle;\n",
       "    }\n",
       "\n",
       "    .dataframe tbody tr th {\n",
       "        vertical-align: top;\n",
       "    }\n",
       "\n",
       "    .dataframe thead th {\n",
       "        text-align: right;\n",
       "    }\n",
       "</style>\n",
       "<table border=\"1\" class=\"dataframe\">\n",
       "  <thead>\n",
       "    <tr style=\"text-align: right;\">\n",
       "      <th>foreign</th>\n",
       "      <th>no</th>\n",
       "      <th>yes</th>\n",
       "    </tr>\n",
       "    <tr>\n",
       "      <th>Holliday_Package</th>\n",
       "      <th></th>\n",
       "      <th></th>\n",
       "    </tr>\n",
       "  </thead>\n",
       "  <tbody>\n",
       "    <tr>\n",
       "      <th>no</th>\n",
       "      <td>402</td>\n",
       "      <td>69</td>\n",
       "    </tr>\n",
       "    <tr>\n",
       "      <th>yes</th>\n",
       "      <td>254</td>\n",
       "      <td>147</td>\n",
       "    </tr>\n",
       "  </tbody>\n",
       "</table>\n",
       "</div>"
      ],
      "text/plain": [
       "foreign            no  yes\n",
       "Holliday_Package          \n",
       "no                402   69\n",
       "yes               254  147"
      ]
     },
     "execution_count": 24,
     "metadata": {},
     "output_type": "execute_result"
    }
   ],
   "source": [
    "pd.crosstab(df.Holliday_Package, df.foreign)"
   ]
  },
  {
   "cell_type": "code",
   "execution_count": 25,
   "metadata": {},
   "outputs": [],
   "source": [
    "df['no_older_children'] = pd.Categorical(df['no_older_children'])\n",
    "df['no_young_children'] = pd.Categorical(df['no_young_children'])"
   ]
  },
  {
   "cell_type": "markdown",
   "metadata": {},
   "source": [
    "# 2.2 Do not scale the data. Encode the data (having string values) for Modelling. Data Split: Split the data into train and test (70:30). Apply Logistic Regression and LDA (linear discriminant analysis)."
   ]
  },
  {
   "cell_type": "code",
   "execution_count": 26,
   "metadata": {},
   "outputs": [
    {
     "data": {
      "text/plain": [
       "no     0.540138\n",
       "yes    0.459862\n",
       "Name: Holliday_Package, dtype: float64"
      ]
     },
     "execution_count": 26,
     "metadata": {},
     "output_type": "execute_result"
    }
   ],
   "source": [
    "df.Holliday_Package.value_counts(normalize = True)"
   ]
  },
  {
   "cell_type": "code",
   "execution_count": 27,
   "metadata": {},
   "outputs": [
    {
     "data": {
      "text/plain": [
       "<AxesSubplot:xlabel='Holliday_Package', ylabel='count'>"
      ]
     },
     "execution_count": 27,
     "metadata": {},
     "output_type": "execute_result"
    },
    {
     "data": {
      "image/png": "[encoded data removed]",
      "text/plain": [
       "<Figure size 432x288 with 1 Axes>"
      ]
     },
     "metadata": {
      "needs_background": "light"
     },
     "output_type": "display_data"
    }
   ],
   "source": [
    "sns.countplot(x = df.Holliday_Package)"
   ]
  },
  {
   "cell_type": "markdown",
   "metadata": {},
   "source": [
    "- We need to treat outliers in the salary column"
   ]
  },
  {
   "cell_type": "code",
   "execution_count": 28,
   "metadata": {},
   "outputs": [
    {
     "data": {
      "text/html": [
       "<div>\n",
       "<style scoped>\n",
       "    .dataframe tbody tr th:only-of-type {\n",
       "        vertical-align: middle;\n",
       "    }\n",
       "\n",
       "    .dataframe tbody tr th {\n",
       "        vertical-align: top;\n",
       "    }\n",
       "\n",
       "    .dataframe thead th {\n",
       "        text-align: right;\n",
       "    }\n",
       "</style>\n",
       "<table border=\"1\" class=\"dataframe\">\n",
       "  <thead>\n",
       "    <tr style=\"text-align: right;\">\n",
       "      <th></th>\n",
       "      <th>Holliday_Package</th>\n",
       "      <th>foreign</th>\n",
       "    </tr>\n",
       "  </thead>\n",
       "  <tbody>\n",
       "    <tr>\n",
       "      <th>0</th>\n",
       "      <td>no</td>\n",
       "      <td>no</td>\n",
       "    </tr>\n",
       "    <tr>\n",
       "      <th>1</th>\n",
       "      <td>yes</td>\n",
       "      <td>no</td>\n",
       "    </tr>\n",
       "    <tr>\n",
       "      <th>2</th>\n",
       "      <td>no</td>\n",
       "      <td>no</td>\n",
       "    </tr>\n",
       "    <tr>\n",
       "      <th>3</th>\n",
       "      <td>no</td>\n",
       "      <td>no</td>\n",
       "    </tr>\n",
       "    <tr>\n",
       "      <th>4</th>\n",
       "      <td>no</td>\n",
       "      <td>no</td>\n",
       "    </tr>\n",
       "  </tbody>\n",
       "</table>\n",
       "</div>"
      ],
      "text/plain": [
       "  Holliday_Package foreign\n",
       "0               no      no\n",
       "1              yes      no\n",
       "2               no      no\n",
       "3               no      no\n",
       "4               no      no"
      ]
     },
     "execution_count": 28,
     "metadata": {},
     "output_type": "execute_result"
    }
   ],
   "source": [
    "df.select_dtypes(include = 'object').head()"
   ]
  },
  {
   "cell_type": "code",
   "execution_count": 29,
   "metadata": {},
   "outputs": [],
   "source": [
    "df['Holliday_Package'] = df['Holliday_Package'].replace({'no':0,'yes':1})\n",
    "df['foreign'] = df['foreign'].replace({'no':0,'yes':1})"
   ]
  },
  {
   "cell_type": "code",
   "execution_count": 30,
   "metadata": {},
   "outputs": [
    {
     "data": {
      "text/html": [
       "<div>\n",
       "<style scoped>\n",
       "    .dataframe tbody tr th:only-of-type {\n",
       "        vertical-align: middle;\n",
       "    }\n",
       "\n",
       "    .dataframe tbody tr th {\n",
       "        vertical-align: top;\n",
       "    }\n",
       "\n",
       "    .dataframe thead th {\n",
       "        text-align: right;\n",
       "    }\n",
       "</style>\n",
       "<table border=\"1\" class=\"dataframe\">\n",
       "  <thead>\n",
       "    <tr style=\"text-align: right;\">\n",
       "      <th></th>\n",
       "      <th>Data Type</th>\n",
       "    </tr>\n",
       "  </thead>\n",
       "  <tbody>\n",
       "    <tr>\n",
       "      <th>Holliday_Package</th>\n",
       "      <td>int64</td>\n",
       "    </tr>\n",
       "    <tr>\n",
       "      <th>Salary</th>\n",
       "      <td>int64</td>\n",
       "    </tr>\n",
       "    <tr>\n",
       "      <th>age</th>\n",
       "      <td>int64</td>\n",
       "    </tr>\n",
       "    <tr>\n",
       "      <th>educ</th>\n",
       "      <td>int64</td>\n",
       "    </tr>\n",
       "    <tr>\n",
       "      <th>no_young_children</th>\n",
       "      <td>category</td>\n",
       "    </tr>\n",
       "    <tr>\n",
       "      <th>no_older_children</th>\n",
       "      <td>category</td>\n",
       "    </tr>\n",
       "    <tr>\n",
       "      <th>foreign</th>\n",
       "      <td>int64</td>\n",
       "    </tr>\n",
       "  </tbody>\n",
       "</table>\n",
       "</div>"
      ],
      "text/plain": [
       "                  Data Type\n",
       "Holliday_Package      int64\n",
       "Salary                int64\n",
       "age                   int64\n",
       "educ                  int64\n",
       "no_young_children  category\n",
       "no_older_children  category\n",
       "foreign               int64"
      ]
     },
     "execution_count": 30,
     "metadata": {},
     "output_type": "execute_result"
    }
   ],
   "source": [
    "pd.DataFrame(df.dtypes, columns = ['Data Type'])"
   ]
  },
  {
   "cell_type": "code",
   "execution_count": 31,
   "metadata": {},
   "outputs": [
    {
     "data": {
      "text/html": [
       "<div>\n",
       "<style scoped>\n",
       "    .dataframe tbody tr th:only-of-type {\n",
       "        vertical-align: middle;\n",
       "    }\n",
       "\n",
       "    .dataframe tbody tr th {\n",
       "        vertical-align: top;\n",
       "    }\n",
       "\n",
       "    .dataframe thead th {\n",
       "        text-align: right;\n",
       "    }\n",
       "</style>\n",
       "<table border=\"1\" class=\"dataframe\">\n",
       "  <thead>\n",
       "    <tr style=\"text-align: right;\">\n",
       "      <th></th>\n",
       "      <th>Holliday_Package</th>\n",
       "      <th>Salary</th>\n",
       "      <th>age</th>\n",
       "      <th>educ</th>\n",
       "      <th>no_young_children</th>\n",
       "      <th>no_older_children</th>\n",
       "      <th>foreign</th>\n",
       "    </tr>\n",
       "  </thead>\n",
       "  <tbody>\n",
       "    <tr>\n",
       "      <th>0</th>\n",
       "      <td>0</td>\n",
       "      <td>48412</td>\n",
       "      <td>30</td>\n",
       "      <td>8</td>\n",
       "      <td>1</td>\n",
       "      <td>1</td>\n",
       "      <td>0</td>\n",
       "    </tr>\n",
       "    <tr>\n",
       "      <th>1</th>\n",
       "      <td>1</td>\n",
       "      <td>37207</td>\n",
       "      <td>45</td>\n",
       "      <td>8</td>\n",
       "      <td>0</td>\n",
       "      <td>1</td>\n",
       "      <td>0</td>\n",
       "    </tr>\n",
       "    <tr>\n",
       "      <th>2</th>\n",
       "      <td>0</td>\n",
       "      <td>58022</td>\n",
       "      <td>46</td>\n",
       "      <td>9</td>\n",
       "      <td>0</td>\n",
       "      <td>0</td>\n",
       "      <td>0</td>\n",
       "    </tr>\n",
       "    <tr>\n",
       "      <th>3</th>\n",
       "      <td>0</td>\n",
       "      <td>66503</td>\n",
       "      <td>31</td>\n",
       "      <td>11</td>\n",
       "      <td>2</td>\n",
       "      <td>0</td>\n",
       "      <td>0</td>\n",
       "    </tr>\n",
       "    <tr>\n",
       "      <th>4</th>\n",
       "      <td>0</td>\n",
       "      <td>66734</td>\n",
       "      <td>44</td>\n",
       "      <td>12</td>\n",
       "      <td>0</td>\n",
       "      <td>2</td>\n",
       "      <td>0</td>\n",
       "    </tr>\n",
       "  </tbody>\n",
       "</table>\n",
       "</div>"
      ],
      "text/plain": [
       "   Holliday_Package  Salary  age  educ no_young_children no_older_children  \\\n",
       "0                 0   48412   30     8                 1                 1   \n",
       "1                 1   37207   45     8                 0                 1   \n",
       "2                 0   58022   46     9                 0                 0   \n",
       "3                 0   66503   31    11                 2                 0   \n",
       "4                 0   66734   44    12                 0                 2   \n",
       "\n",
       "   foreign  \n",
       "0        0  \n",
       "1        0  \n",
       "2        0  \n",
       "3        0  \n",
       "4        0  "
      ]
     },
     "execution_count": 31,
     "metadata": {},
     "output_type": "execute_result"
    }
   ],
   "source": [
    "df.head()"
   ]
  },
  {
   "cell_type": "markdown",
   "metadata": {},
   "source": [
    "#### Data Split"
   ]
  },
  {
   "cell_type": "code",
   "execution_count": 32,
   "metadata": {},
   "outputs": [],
   "source": [
    "X = df.drop('Holliday_Package',axis = 1)\n",
    "Y = df['Holliday_Package']"
   ]
  },
  {
   "cell_type": "markdown",
   "metadata": {},
   "source": [
    "#### 70:30 Split"
   ]
  },
  {
   "cell_type": "code",
   "execution_count": 33,
   "metadata": {},
   "outputs": [],
   "source": [
    "x_train, x_test, train_labels, test_labels = train_test_split(X,Y, test_size = .3, random_state = 1)"
   ]
  },
  {
   "cell_type": "markdown",
   "metadata": {},
   "source": [
    "#### Logit model"
   ]
  },
  {
   "cell_type": "code",
   "execution_count": 34,
   "metadata": {},
   "outputs": [
    {
     "data": {
      "text/plain": [
       "LogisticRegression()"
      ]
     },
     "execution_count": 34,
     "metadata": {},
     "output_type": "execute_result"
    }
   ],
   "source": [
    "logit = LogisticRegression()\n",
    "logit.fit(x_train, train_labels)"
   ]
  },
  {
   "cell_type": "code",
   "execution_count": 35,
   "metadata": {},
   "outputs": [
    {
     "name": "stdout",
     "output_type": "stream",
     "text": [
      "Accuracy on train data : 0.519672131147541\n"
     ]
    }
   ],
   "source": [
    "print('Accuracy on train data :',logit.score(x_train,train_labels))"
   ]
  },
  {
   "cell_type": "code",
   "execution_count": 36,
   "metadata": {},
   "outputs": [
    {
     "name": "stdout",
     "output_type": "stream",
     "text": [
      "Accuracy on test data: 0.5305343511450382\n"
     ]
    }
   ],
   "source": [
    "print('Accuracy on test data:',logit.score(x_test,test_labels))"
   ]
  },
  {
   "cell_type": "markdown",
   "metadata": {},
   "source": [
    "- We need to implement grid search cv to imporve the model"
   ]
  },
  {
   "cell_type": "code",
   "execution_count": 37,
   "metadata": {},
   "outputs": [],
   "source": [
    "grid={'penalty':['l1','elasticnet','l2','none'],\n",
    "     'solver':['sag','lbfgs','saga','liblinear','newton-cg'],\n",
    "     'tol':[0.1,.001,.0001,.000001],\n",
    "     'dual':[True,False],\n",
    "     'C':[.25,.5,.75,1],\n",
    "     'fit_intercept':[True,False],\n",
    "     'class_weight':['dict','balanced'],\n",
    "     }"
   ]
  },
  {
   "cell_type": "code",
   "execution_count": 38,
   "metadata": {},
   "outputs": [],
   "source": [
    "logit = LogisticRegression(max_iter=10000,n_jobs=2)"
   ]
  },
  {
   "cell_type": "code",
   "execution_count": 39,
   "metadata": {},
   "outputs": [],
   "source": [
    "from sklearn.model_selection import GridSearchCV"
   ]
  },
  {
   "cell_type": "code",
   "execution_count": 40,
   "metadata": {},
   "outputs": [],
   "source": [
    "grid_search = GridSearchCV(estimator = logit, param_grid = grid, cv = 3, n_jobs=-1, scoring = 'f1')"
   ]
  },
  {
   "cell_type": "code",
   "execution_count": 41,
   "metadata": {},
   "outputs": [
    {
     "data": {
      "text/plain": [
       "GridSearchCV(cv=3, estimator=LogisticRegression(max_iter=10000, n_jobs=2),\n",
       "             n_jobs=-1,\n",
       "             param_grid={'C': [0.25, 0.5, 0.75, 1],\n",
       "                         'class_weight': ['dict', 'balanced'],\n",
       "                         'dual': [True, False], 'fit_intercept': [True, False],\n",
       "                         'penalty': ['l1', 'elasticnet', 'l2', 'none'],\n",
       "                         'solver': ['sag', 'lbfgs', 'saga', 'liblinear',\n",
       "                                    'newton-cg'],\n",
       "                         'tol': [0.1, 0.001, 0.0001, 1e-06]},\n",
       "             scoring='f1')"
      ]
     },
     "execution_count": 41,
     "metadata": {},
     "output_type": "execute_result"
    }
   ],
   "source": [
    "grid_search.fit(x_train, train_labels)"
   ]
  },
  {
   "cell_type": "code",
   "execution_count": 42,
   "metadata": {},
   "outputs": [
    {
     "name": "stdout",
     "output_type": "stream",
     "text": [
      "{'C': 0.25, 'class_weight': 'balanced', 'dual': False, 'fit_intercept': True, 'penalty': 'l2', 'solver': 'newton-cg', 'tol': 0.001}\n"
     ]
    }
   ],
   "source": [
    "print(grid_search.best_params_)"
   ]
  },
  {
   "cell_type": "code",
   "execution_count": 43,
   "metadata": {},
   "outputs": [
    {
     "name": "stdout",
     "output_type": "stream",
     "text": [
      "LogisticRegression(C=0.25, class_weight='balanced', max_iter=10000, n_jobs=2,\n",
      "                   solver='newton-cg', tol=0.001)\n"
     ]
    }
   ],
   "source": [
    "print(grid_search.best_estimator_)"
   ]
  },
  {
   "cell_type": "code",
   "execution_count": 44,
   "metadata": {},
   "outputs": [],
   "source": [
    "best_model = grid_search.best_estimator_"
   ]
  },
  {
   "cell_type": "code",
   "execution_count": 45,
   "metadata": {},
   "outputs": [
    {
     "data": {
      "text/plain": [
       "0.680327868852459"
      ]
     },
     "execution_count": 45,
     "metadata": {},
     "output_type": "execute_result"
    }
   ],
   "source": [
    "best_model.score(x_train, train_labels)"
   ]
  },
  {
   "cell_type": "code",
   "execution_count": 46,
   "metadata": {},
   "outputs": [
    {
     "data": {
      "text/plain": [
       "0.6679389312977099"
      ]
     },
     "execution_count": 46,
     "metadata": {},
     "output_type": "execute_result"
    }
   ],
   "source": [
    "best_model.score(x_test, test_labels)"
   ]
  },
  {
   "cell_type": "markdown",
   "metadata": {},
   "source": [
    "- We see a massive improvement in the model accuracy, after using the grid search cv"
   ]
  },
  {
   "cell_type": "markdown",
   "metadata": {},
   "source": [
    "#### Classification report"
   ]
  },
  {
   "cell_type": "code",
   "execution_count": 47,
   "metadata": {},
   "outputs": [
    {
     "name": "stdout",
     "output_type": "stream",
     "text": [
      "Classification report for train data: -\n",
      "              precision    recall  f1-score   support\n",
      "\n",
      "           0       0.70      0.71      0.70       326\n",
      "           1       0.66      0.64      0.65       284\n",
      "\n",
      "    accuracy                           0.68       610\n",
      "   macro avg       0.68      0.68      0.68       610\n",
      "weighted avg       0.68      0.68      0.68       610\n",
      "\n"
     ]
    }
   ],
   "source": [
    "print('Classification report for train data: -')\n",
    "print(classification_report(train_labels, best_model.predict(x_train)))"
   ]
  },
  {
   "cell_type": "code",
   "execution_count": 48,
   "metadata": {},
   "outputs": [
    {
     "name": "stdout",
     "output_type": "stream",
     "text": [
      "Classification report for test data: -\n",
      "              precision    recall  f1-score   support\n",
      "\n",
      "           0       0.71      0.67      0.69       145\n",
      "           1       0.62      0.67      0.64       117\n",
      "\n",
      "    accuracy                           0.67       262\n",
      "   macro avg       0.67      0.67      0.67       262\n",
      "weighted avg       0.67      0.67      0.67       262\n",
      "\n"
     ]
    }
   ],
   "source": [
    "print('Classification report for test data: -')\n",
    "print(classification_report(test_labels,best_model.predict(x_test)))"
   ]
  },
  {
   "cell_type": "markdown",
   "metadata": {},
   "source": [
    "#### Confusion Matrix"
   ]
  },
  {
   "cell_type": "code",
   "execution_count": 49,
   "metadata": {},
   "outputs": [
    {
     "data": {
      "image/png": "[encoded data removed]",
      "text/plain": [
       "<Figure size 432x288 with 2 Axes>"
      ]
     },
     "metadata": {
      "needs_background": "light"
     },
     "output_type": "display_data"
    }
   ],
   "source": [
    "sns.heatmap(confusion_matrix(train_labels, best_model.predict(x_train)), annot = True, cmap = 'rainbow', fmt = 'd');\n",
    "plt.title('CONFUSION MATRIX-TRAIN DATA',fontsize = 16)\n",
    "plt.xlabel('PREDICTED',fontsize = 14);\n",
    "plt.ylabel('ACTUAL',fontsize = 14);"
   ]
  },
  {
   "cell_type": "code",
   "execution_count": 50,
   "metadata": {},
   "outputs": [
    {
     "data": {
      "image/png": "[encoded data removed]",
      "text/plain": [
       "<Figure size 432x288 with 2 Axes>"
      ]
     },
     "metadata": {
      "needs_background": "light"
     },
     "output_type": "display_data"
    }
   ],
   "source": [
    "sns.heatmap(confusion_matrix(test_labels, best_model.predict(x_test)), annot = True, cmap = 'rainbow', fmt = 'd');\n",
    "plt.title('CONFUSION MATRIX-TEST DATA',fontsize = 16)\n",
    "plt.xlabel('PREDICTED',fontsize = 14);\n",
    "plt.ylabel('ACTUAL',fontsize = 14);"
   ]
  },
  {
   "cell_type": "markdown",
   "metadata": {},
   "source": [
    "#### ROC SCORE AND CURVE"
   ]
  },
  {
   "cell_type": "code",
   "execution_count": 51,
   "metadata": {},
   "outputs": [],
   "source": [
    "fpr,tpr,threshold = roc_curve(train_labels, best_model.predict_proba(x_train)[:,1])"
   ]
  },
  {
   "cell_type": "code",
   "execution_count": 52,
   "metadata": {},
   "outputs": [
    {
     "data": {
      "image/png": "[encoded data removed]",
      "text/plain": [
       "<Figure size 504x360 with 1 Axes>"
      ]
     },
     "metadata": {
      "needs_background": "light"
     },
     "output_type": "display_data"
    },
    {
     "name": "stdout",
     "output_type": "stream",
     "text": [
      "ROC AUC Score: 0.7416076211872462\n"
     ]
    }
   ],
   "source": [
    "plt.figure(figsize = (7,5))\n",
    "plt.title('ROC CURVE- TRAIN DATA', fontsize = 16)\n",
    "plt.xlabel('FPR',fontsize = 14)\n",
    "plt.ylabel('TPR',fontsize = 14)\n",
    "plt.plot([0,1],[0,1])\n",
    "plt.plot(fpr,tpr)\n",
    "plt.show()\n",
    "\n",
    "print('ROC AUC Score:',roc_auc_score(train_labels,best_model.predict_proba(x_train)[:,1]))"
   ]
  },
  {
   "cell_type": "code",
   "execution_count": 53,
   "metadata": {},
   "outputs": [
    {
     "data": {
      "image/png": "[encoded data removed]",
      "text/plain": [
       "<Figure size 504x360 with 1 Axes>"
      ]
     },
     "metadata": {
      "needs_background": "light"
     },
     "output_type": "display_data"
    },
    {
     "name": "stdout",
     "output_type": "stream",
     "text": [
      "ROC AUC Score: 0.705334512231064\n"
     ]
    }
   ],
   "source": [
    "plt.figure(figsize = (7,5))\n",
    "plt.title('ROC CURVE- TEST DATA', fontsize = 16)\n",
    "plt.xlabel('FPR',fontsize = 14)\n",
    "plt.ylabel('TPR',fontsize = 14)\n",
    "plt.plot([0,1],[0,1])\n",
    "plt.plot(fpr,tpr)\n",
    "plt.show()\n",
    "\n",
    "print('ROC AUC Score:',roc_auc_score(test_labels,best_model.predict_proba(x_test)[:,1]))"
   ]
  },
  {
   "cell_type": "markdown",
   "metadata": {},
   "source": [
    "#### LDA"
   ]
  },
  {
   "cell_type": "code",
   "execution_count": 54,
   "metadata": {},
   "outputs": [
    {
     "data": {
      "text/plain": [
       "LinearDiscriminantAnalysis()"
      ]
     },
     "execution_count": 54,
     "metadata": {},
     "output_type": "execute_result"
    }
   ],
   "source": [
    "lda = LinearDiscriminantAnalysis()\n",
    "lda.fit(x_train, train_labels)"
   ]
  },
  {
   "cell_type": "code",
   "execution_count": 55,
   "metadata": {},
   "outputs": [
    {
     "data": {
      "text/plain": [
       "0.6721311475409836"
      ]
     },
     "execution_count": 55,
     "metadata": {},
     "output_type": "execute_result"
    }
   ],
   "source": [
    "lda.score(x_train,train_labels)"
   ]
  },
  {
   "cell_type": "code",
   "execution_count": 56,
   "metadata": {},
   "outputs": [
    {
     "data": {
      "text/plain": [
       "0.6412213740458015"
      ]
     },
     "execution_count": 56,
     "metadata": {},
     "output_type": "execute_result"
    }
   ],
   "source": [
    "lda.score(x_test, test_labels)"
   ]
  },
  {
   "cell_type": "markdown",
   "metadata": {},
   "source": [
    "- Lets explore if grid search cv can yield better results"
   ]
  },
  {
   "cell_type": "code",
   "execution_count": 57,
   "metadata": {},
   "outputs": [],
   "source": [
    "grid_lda = {'solver':['svd','lsqr','eigen'],\n",
    "           'shrinkage':['auto','float',None],\n",
    "           'store_covariance':[True,False],\n",
    "           'tol':[.1,.01,.001,.0001,.00001],\n",
    "           }"
   ]
  },
  {
   "cell_type": "code",
   "execution_count": 58,
   "metadata": {},
   "outputs": [],
   "source": [
    "grid_search_lda = GridSearchCV(estimator = lda, param_grid = grid_lda, cv = 3)"
   ]
  },
  {
   "cell_type": "code",
   "execution_count": 59,
   "metadata": {},
   "outputs": [
    {
     "name": "stderr",
     "output_type": "stream",
     "text": [
      "C:\\Users\\adity\\anaconda3\\lib\\site-packages\\sklearn\\model_selection\\_validation.py:552: FitFailedWarning: Estimator fit failed. The score on this train-test partition for these parameters will be set to nan. Details: \n",
      "Traceback (most recent call last):\n",
      "  File \"C:\\Users\\adity\\anaconda3\\lib\\site-packages\\sklearn\\model_selection\\_validation.py\", line 531, in _fit_and_score\n",
      "    estimator.fit(X_train, y_train, **fit_params)\n",
      "  File \"C:\\Users\\adity\\anaconda3\\lib\\site-packages\\sklearn\\discriminant_analysis.py\", line 463, in fit\n",
      "    raise NotImplementedError('shrinkage not supported')\n",
      "NotImplementedError: shrinkage not supported\n",
      "\n",
      "  FitFailedWarning)\n",
      "C:\\Users\\adity\\anaconda3\\lib\\site-packages\\sklearn\\model_selection\\_validation.py:552: FitFailedWarning: Estimator fit failed. The score on this train-test partition for these parameters will be set to nan. Details: \n",
      "Traceback (most recent call last):\n",
      "  File \"C:\\Users\\adity\\anaconda3\\lib\\site-packages\\sklearn\\model_selection\\_validation.py\", line 531, in _fit_and_score\n",
      "    estimator.fit(X_train, y_train, **fit_params)\n",
      "  File \"C:\\Users\\adity\\anaconda3\\lib\\site-packages\\sklearn\\discriminant_analysis.py\", line 463, in fit\n",
      "    raise NotImplementedError('shrinkage not supported')\n",
      "NotImplementedError: shrinkage not supported\n",
      "\n",
      "  FitFailedWarning)\n",
      "C:\\Users\\adity\\anaconda3\\lib\\site-packages\\sklearn\\model_selection\\_validation.py:552: FitFailedWarning: Estimator fit failed. The score on this train-test partition for these parameters will be set to nan. Details: \n",
      "Traceback (most recent call last):\n",
      "  File \"C:\\Users\\adity\\anaconda3\\lib\\site-packages\\sklearn\\model_selection\\_validation.py\", line 531, in _fit_and_score\n",
      "    estimator.fit(X_train, y_train, **fit_params)\n",
      "  File \"C:\\Users\\adity\\anaconda3\\lib\\site-packages\\sklearn\\discriminant_analysis.py\", line 463, in fit\n",
      "    raise NotImplementedError('shrinkage not supported')\n",
      "NotImplementedError: shrinkage not supported\n",
      "\n",
      "  FitFailedWarning)\n",
      "C:\\Users\\adity\\anaconda3\\lib\\site-packages\\sklearn\\model_selection\\_validation.py:552: FitFailedWarning: Estimator fit failed. The score on this train-test partition for these parameters will be set to nan. Details: \n",
      "Traceback (most recent call last):\n",
      "  File \"C:\\Users\\adity\\anaconda3\\lib\\site-packages\\sklearn\\model_selection\\_validation.py\", line 531, in _fit_and_score\n",
      "    estimator.fit(X_train, y_train, **fit_params)\n",
      "  File \"C:\\Users\\adity\\anaconda3\\lib\\site-packages\\sklearn\\discriminant_analysis.py\", line 463, in fit\n",
      "    raise NotImplementedError('shrinkage not supported')\n",
      "NotImplementedError: shrinkage not supported\n",
      "\n",
      "  FitFailedWarning)\n",
      "C:\\Users\\adity\\anaconda3\\lib\\site-packages\\sklearn\\model_selection\\_validation.py:552: FitFailedWarning: Estimator fit failed. The score on this train-test partition for these parameters will be set to nan. Details: \n",
      "Traceback (most recent call last):\n",
      "  File \"C:\\Users\\adity\\anaconda3\\lib\\site-packages\\sklearn\\model_selection\\_validation.py\", line 531, in _fit_and_score\n",
      "    estimator.fit(X_train, y_train, **fit_params)\n",
      "  File \"C:\\Users\\adity\\anaconda3\\lib\\site-packages\\sklearn\\discriminant_analysis.py\", line 463, in fit\n",
      "    raise NotImplementedError('shrinkage not supported')\n",
      "NotImplementedError: shrinkage not supported\n",
      "\n",
      "  FitFailedWarning)\n",
      "C:\\Users\\adity\\anaconda3\\lib\\site-packages\\sklearn\\model_selection\\_validation.py:552: FitFailedWarning: Estimator fit failed. The score on this train-test partition for these parameters will be set to nan. Details: \n",
      "Traceback (most recent call last):\n",
      "  File \"C:\\Users\\adity\\anaconda3\\lib\\site-packages\\sklearn\\model_selection\\_validation.py\", line 531, in _fit_and_score\n",
      "    estimator.fit(X_train, y_train, **fit_params)\n",
      "  File \"C:\\Users\\adity\\anaconda3\\lib\\site-packages\\sklearn\\discriminant_analysis.py\", line 463, in fit\n",
      "    raise NotImplementedError('shrinkage not supported')\n",
      "NotImplementedError: shrinkage not supported\n",
      "\n",
      "  FitFailedWarning)\n",
      "C:\\Users\\adity\\anaconda3\\lib\\site-packages\\sklearn\\model_selection\\_validation.py:552: FitFailedWarning: Estimator fit failed. The score on this train-test partition for these parameters will be set to nan. Details: \n",
      "Traceback (most recent call last):\n",
      "  File \"C:\\Users\\adity\\anaconda3\\lib\\site-packages\\sklearn\\model_selection\\_validation.py\", line 531, in _fit_and_score\n",
      "    estimator.fit(X_train, y_train, **fit_params)\n",
      "  File \"C:\\Users\\adity\\anaconda3\\lib\\site-packages\\sklearn\\discriminant_analysis.py\", line 463, in fit\n",
      "    raise NotImplementedError('shrinkage not supported')\n",
      "NotImplementedError: shrinkage not supported\n",
      "\n",
      "  FitFailedWarning)\n",
      "C:\\Users\\adity\\anaconda3\\lib\\site-packages\\sklearn\\model_selection\\_validation.py:552: FitFailedWarning: Estimator fit failed. The score on this train-test partition for these parameters will be set to nan. Details: \n",
      "Traceback (most recent call last):\n",
      "  File \"C:\\Users\\adity\\anaconda3\\lib\\site-packages\\sklearn\\model_selection\\_validation.py\", line 531, in _fit_and_score\n",
      "    estimator.fit(X_train, y_train, **fit_params)\n",
      "  File \"C:\\Users\\adity\\anaconda3\\lib\\site-packages\\sklearn\\discriminant_analysis.py\", line 463, in fit\n",
      "    raise NotImplementedError('shrinkage not supported')\n",
      "NotImplementedError: shrinkage not supported\n",
      "\n",
      "  FitFailedWarning)\n",
      "C:\\Users\\adity\\anaconda3\\lib\\site-packages\\sklearn\\model_selection\\_validation.py:552: FitFailedWarning: Estimator fit failed. The score on this train-test partition for these parameters will be set to nan. Details: \n",
      "Traceback (most recent call last):\n",
      "  File \"C:\\Users\\adity\\anaconda3\\lib\\site-packages\\sklearn\\model_selection\\_validation.py\", line 531, in _fit_and_score\n",
      "    estimator.fit(X_train, y_train, **fit_params)\n",
      "  File \"C:\\Users\\adity\\anaconda3\\lib\\site-packages\\sklearn\\discriminant_analysis.py\", line 463, in fit\n",
      "    raise NotImplementedError('shrinkage not supported')\n",
      "NotImplementedError: shrinkage not supported\n",
      "\n",
      "  FitFailedWarning)\n",
      "C:\\Users\\adity\\anaconda3\\lib\\site-packages\\sklearn\\model_selection\\_validation.py:552: FitFailedWarning: Estimator fit failed. The score on this train-test partition for these parameters will be set to nan. Details: \n",
      "Traceback (most recent call last):\n",
      "  File \"C:\\Users\\adity\\anaconda3\\lib\\site-packages\\sklearn\\model_selection\\_validation.py\", line 531, in _fit_and_score\n",
      "    estimator.fit(X_train, y_train, **fit_params)\n",
      "  File \"C:\\Users\\adity\\anaconda3\\lib\\site-packages\\sklearn\\discriminant_analysis.py\", line 463, in fit\n",
      "    raise NotImplementedError('shrinkage not supported')\n",
      "NotImplementedError: shrinkage not supported\n",
      "\n",
      "  FitFailedWarning)\n",
      "C:\\Users\\adity\\anaconda3\\lib\\site-packages\\sklearn\\model_selection\\_validation.py:552: FitFailedWarning: Estimator fit failed. The score on this train-test partition for these parameters will be set to nan. Details: \n",
      "Traceback (most recent call last):\n",
      "  File \"C:\\Users\\adity\\anaconda3\\lib\\site-packages\\sklearn\\model_selection\\_validation.py\", line 531, in _fit_and_score\n",
      "    estimator.fit(X_train, y_train, **fit_params)\n",
      "  File \"C:\\Users\\adity\\anaconda3\\lib\\site-packages\\sklearn\\discriminant_analysis.py\", line 463, in fit\n",
      "    raise NotImplementedError('shrinkage not supported')\n",
      "NotImplementedError: shrinkage not supported\n",
      "\n",
      "  FitFailedWarning)\n",
      "C:\\Users\\adity\\anaconda3\\lib\\site-packages\\sklearn\\model_selection\\_validation.py:552: FitFailedWarning: Estimator fit failed. The score on this train-test partition for these parameters will be set to nan. Details: \n",
      "Traceback (most recent call last):\n",
      "  File \"C:\\Users\\adity\\anaconda3\\lib\\site-packages\\sklearn\\model_selection\\_validation.py\", line 531, in _fit_and_score\n",
      "    estimator.fit(X_train, y_train, **fit_params)\n",
      "  File \"C:\\Users\\adity\\anaconda3\\lib\\site-packages\\sklearn\\discriminant_analysis.py\", line 463, in fit\n",
      "    raise NotImplementedError('shrinkage not supported')\n",
      "NotImplementedError: shrinkage not supported\n",
      "\n",
      "  FitFailedWarning)\n",
      "C:\\Users\\adity\\anaconda3\\lib\\site-packages\\sklearn\\model_selection\\_validation.py:552: FitFailedWarning: Estimator fit failed. The score on this train-test partition for these parameters will be set to nan. Details: \n",
      "Traceback (most recent call last):\n",
      "  File \"C:\\Users\\adity\\anaconda3\\lib\\site-packages\\sklearn\\model_selection\\_validation.py\", line 531, in _fit_and_score\n",
      "    estimator.fit(X_train, y_train, **fit_params)\n",
      "  File \"C:\\Users\\adity\\anaconda3\\lib\\site-packages\\sklearn\\discriminant_analysis.py\", line 463, in fit\n",
      "    raise NotImplementedError('shrinkage not supported')\n",
      "NotImplementedError: shrinkage not supported\n",
      "\n",
      "  FitFailedWarning)\n",
      "C:\\Users\\adity\\anaconda3\\lib\\site-packages\\sklearn\\model_selection\\_validation.py:552: FitFailedWarning: Estimator fit failed. The score on this train-test partition for these parameters will be set to nan. Details: \n",
      "Traceback (most recent call last):\n",
      "  File \"C:\\Users\\adity\\anaconda3\\lib\\site-packages\\sklearn\\model_selection\\_validation.py\", line 531, in _fit_and_score\n",
      "    estimator.fit(X_train, y_train, **fit_params)\n",
      "  File \"C:\\Users\\adity\\anaconda3\\lib\\site-packages\\sklearn\\discriminant_analysis.py\", line 463, in fit\n",
      "    raise NotImplementedError('shrinkage not supported')\n",
      "NotImplementedError: shrinkage not supported\n",
      "\n",
      "  FitFailedWarning)\n",
      "C:\\Users\\adity\\anaconda3\\lib\\site-packages\\sklearn\\model_selection\\_validation.py:552: FitFailedWarning: Estimator fit failed. The score on this train-test partition for these parameters will be set to nan. Details: \n",
      "Traceback (most recent call last):\n",
      "  File \"C:\\Users\\adity\\anaconda3\\lib\\site-packages\\sklearn\\model_selection\\_validation.py\", line 531, in _fit_and_score\n",
      "    estimator.fit(X_train, y_train, **fit_params)\n",
      "  File \"C:\\Users\\adity\\anaconda3\\lib\\site-packages\\sklearn\\discriminant_analysis.py\", line 463, in fit\n",
      "    raise NotImplementedError('shrinkage not supported')\n",
      "NotImplementedError: shrinkage not supported\n",
      "\n",
      "  FitFailedWarning)\n",
      "C:\\Users\\adity\\anaconda3\\lib\\site-packages\\sklearn\\model_selection\\_validation.py:552: FitFailedWarning: Estimator fit failed. The score on this train-test partition for these parameters will be set to nan. Details: \n",
      "Traceback (most recent call last):\n",
      "  File \"C:\\Users\\adity\\anaconda3\\lib\\site-packages\\sklearn\\model_selection\\_validation.py\", line 531, in _fit_and_score\n",
      "    estimator.fit(X_train, y_train, **fit_params)\n",
      "  File \"C:\\Users\\adity\\anaconda3\\lib\\site-packages\\sklearn\\discriminant_analysis.py\", line 463, in fit\n",
      "    raise NotImplementedError('shrinkage not supported')\n",
      "NotImplementedError: shrinkage not supported\n",
      "\n",
      "  FitFailedWarning)\n",
      "C:\\Users\\adity\\anaconda3\\lib\\site-packages\\sklearn\\model_selection\\_validation.py:552: FitFailedWarning: Estimator fit failed. The score on this train-test partition for these parameters will be set to nan. Details: \n",
      "Traceback (most recent call last):\n",
      "  File \"C:\\Users\\adity\\anaconda3\\lib\\site-packages\\sklearn\\model_selection\\_validation.py\", line 531, in _fit_and_score\n",
      "    estimator.fit(X_train, y_train, **fit_params)\n",
      "  File \"C:\\Users\\adity\\anaconda3\\lib\\site-packages\\sklearn\\discriminant_analysis.py\", line 463, in fit\n",
      "    raise NotImplementedError('shrinkage not supported')\n",
      "NotImplementedError: shrinkage not supported\n",
      "\n",
      "  FitFailedWarning)\n",
      "C:\\Users\\adity\\anaconda3\\lib\\site-packages\\sklearn\\model_selection\\_validation.py:552: FitFailedWarning: Estimator fit failed. The score on this train-test partition for these parameters will be set to nan. Details: \n",
      "Traceback (most recent call last):\n",
      "  File \"C:\\Users\\adity\\anaconda3\\lib\\site-packages\\sklearn\\model_selection\\_validation.py\", line 531, in _fit_and_score\n",
      "    estimator.fit(X_train, y_train, **fit_params)\n",
      "  File \"C:\\Users\\adity\\anaconda3\\lib\\site-packages\\sklearn\\discriminant_analysis.py\", line 463, in fit\n",
      "    raise NotImplementedError('shrinkage not supported')\n",
      "NotImplementedError: shrinkage not supported\n",
      "\n",
      "  FitFailedWarning)\n",
      "C:\\Users\\adity\\anaconda3\\lib\\site-packages\\sklearn\\model_selection\\_validation.py:552: FitFailedWarning: Estimator fit failed. The score on this train-test partition for these parameters will be set to nan. Details: \n",
      "Traceback (most recent call last):\n",
      "  File \"C:\\Users\\adity\\anaconda3\\lib\\site-packages\\sklearn\\model_selection\\_validation.py\", line 531, in _fit_and_score\n",
      "    estimator.fit(X_train, y_train, **fit_params)\n",
      "  File \"C:\\Users\\adity\\anaconda3\\lib\\site-packages\\sklearn\\discriminant_analysis.py\", line 463, in fit\n",
      "    raise NotImplementedError('shrinkage not supported')\n",
      "NotImplementedError: shrinkage not supported\n",
      "\n",
      "  FitFailedWarning)\n",
      "C:\\Users\\adity\\anaconda3\\lib\\site-packages\\sklearn\\model_selection\\_validation.py:552: FitFailedWarning: Estimator fit failed. The score on this train-test partition for these parameters will be set to nan. Details: \n",
      "Traceback (most recent call last):\n",
      "  File \"C:\\Users\\adity\\anaconda3\\lib\\site-packages\\sklearn\\model_selection\\_validation.py\", line 531, in _fit_and_score\n",
      "    estimator.fit(X_train, y_train, **fit_params)\n",
      "  File \"C:\\Users\\adity\\anaconda3\\lib\\site-packages\\sklearn\\discriminant_analysis.py\", line 463, in fit\n",
      "    raise NotImplementedError('shrinkage not supported')\n",
      "NotImplementedError: shrinkage not supported\n",
      "\n",
      "  FitFailedWarning)\n",
      "C:\\Users\\adity\\anaconda3\\lib\\site-packages\\sklearn\\model_selection\\_validation.py:552: FitFailedWarning: Estimator fit failed. The score on this train-test partition for these parameters will be set to nan. Details: \n",
      "Traceback (most recent call last):\n",
      "  File \"C:\\Users\\adity\\anaconda3\\lib\\site-packages\\sklearn\\model_selection\\_validation.py\", line 531, in _fit_and_score\n",
      "    estimator.fit(X_train, y_train, **fit_params)\n",
      "  File \"C:\\Users\\adity\\anaconda3\\lib\\site-packages\\sklearn\\discriminant_analysis.py\", line 463, in fit\n",
      "    raise NotImplementedError('shrinkage not supported')\n",
      "NotImplementedError: shrinkage not supported\n",
      "\n",
      "  FitFailedWarning)\n",
      "C:\\Users\\adity\\anaconda3\\lib\\site-packages\\sklearn\\model_selection\\_validation.py:552: FitFailedWarning: Estimator fit failed. The score on this train-test partition for these parameters will be set to nan. Details: \n",
      "Traceback (most recent call last):\n",
      "  File \"C:\\Users\\adity\\anaconda3\\lib\\site-packages\\sklearn\\model_selection\\_validation.py\", line 531, in _fit_and_score\n",
      "    estimator.fit(X_train, y_train, **fit_params)\n",
      "  File \"C:\\Users\\adity\\anaconda3\\lib\\site-packages\\sklearn\\discriminant_analysis.py\", line 463, in fit\n",
      "    raise NotImplementedError('shrinkage not supported')\n",
      "NotImplementedError: shrinkage not supported\n",
      "\n",
      "  FitFailedWarning)\n",
      "C:\\Users\\adity\\anaconda3\\lib\\site-packages\\sklearn\\model_selection\\_validation.py:552: FitFailedWarning: Estimator fit failed. The score on this train-test partition for these parameters will be set to nan. Details: \n",
      "Traceback (most recent call last):\n",
      "  File \"C:\\Users\\adity\\anaconda3\\lib\\site-packages\\sklearn\\model_selection\\_validation.py\", line 531, in _fit_and_score\n",
      "    estimator.fit(X_train, y_train, **fit_params)\n",
      "  File \"C:\\Users\\adity\\anaconda3\\lib\\site-packages\\sklearn\\discriminant_analysis.py\", line 463, in fit\n",
      "    raise NotImplementedError('shrinkage not supported')\n",
      "NotImplementedError: shrinkage not supported\n",
      "\n",
      "  FitFailedWarning)\n",
      "C:\\Users\\adity\\anaconda3\\lib\\site-packages\\sklearn\\model_selection\\_validation.py:552: FitFailedWarning: Estimator fit failed. The score on this train-test partition for these parameters will be set to nan. Details: \n",
      "Traceback (most recent call last):\n",
      "  File \"C:\\Users\\adity\\anaconda3\\lib\\site-packages\\sklearn\\model_selection\\_validation.py\", line 531, in _fit_and_score\n",
      "    estimator.fit(X_train, y_train, **fit_params)\n",
      "  File \"C:\\Users\\adity\\anaconda3\\lib\\site-packages\\sklearn\\discriminant_analysis.py\", line 463, in fit\n",
      "    raise NotImplementedError('shrinkage not supported')\n",
      "NotImplementedError: shrinkage not supported\n",
      "\n",
      "  FitFailedWarning)\n",
      "C:\\Users\\adity\\anaconda3\\lib\\site-packages\\sklearn\\model_selection\\_validation.py:552: FitFailedWarning: Estimator fit failed. The score on this train-test partition for these parameters will be set to nan. Details: \n",
      "Traceback (most recent call last):\n",
      "  File \"C:\\Users\\adity\\anaconda3\\lib\\site-packages\\sklearn\\model_selection\\_validation.py\", line 531, in _fit_and_score\n",
      "    estimator.fit(X_train, y_train, **fit_params)\n",
      "  File \"C:\\Users\\adity\\anaconda3\\lib\\site-packages\\sklearn\\discriminant_analysis.py\", line 463, in fit\n",
      "    raise NotImplementedError('shrinkage not supported')\n",
      "NotImplementedError: shrinkage not supported\n",
      "\n",
      "  FitFailedWarning)\n",
      "C:\\Users\\adity\\anaconda3\\lib\\site-packages\\sklearn\\model_selection\\_validation.py:552: FitFailedWarning: Estimator fit failed. The score on this train-test partition for these parameters will be set to nan. Details: \n",
      "Traceback (most recent call last):\n",
      "  File \"C:\\Users\\adity\\anaconda3\\lib\\site-packages\\sklearn\\model_selection\\_validation.py\", line 531, in _fit_and_score\n",
      "    estimator.fit(X_train, y_train, **fit_params)\n",
      "  File \"C:\\Users\\adity\\anaconda3\\lib\\site-packages\\sklearn\\discriminant_analysis.py\", line 463, in fit\n",
      "    raise NotImplementedError('shrinkage not supported')\n",
      "NotImplementedError: shrinkage not supported\n",
      "\n",
      "  FitFailedWarning)\n",
      "C:\\Users\\adity\\anaconda3\\lib\\site-packages\\sklearn\\model_selection\\_validation.py:552: FitFailedWarning: Estimator fit failed. The score on this train-test partition for these parameters will be set to nan. Details: \n",
      "Traceback (most recent call last):\n",
      "  File \"C:\\Users\\adity\\anaconda3\\lib\\site-packages\\sklearn\\model_selection\\_validation.py\", line 531, in _fit_and_score\n",
      "    estimator.fit(X_train, y_train, **fit_params)\n",
      "  File \"C:\\Users\\adity\\anaconda3\\lib\\site-packages\\sklearn\\discriminant_analysis.py\", line 463, in fit\n",
      "    raise NotImplementedError('shrinkage not supported')\n",
      "NotImplementedError: shrinkage not supported\n",
      "\n",
      "  FitFailedWarning)\n",
      "C:\\Users\\adity\\anaconda3\\lib\\site-packages\\sklearn\\model_selection\\_validation.py:552: FitFailedWarning: Estimator fit failed. The score on this train-test partition for these parameters will be set to nan. Details: \n",
      "Traceback (most recent call last):\n",
      "  File \"C:\\Users\\adity\\anaconda3\\lib\\site-packages\\sklearn\\model_selection\\_validation.py\", line 531, in _fit_and_score\n",
      "    estimator.fit(X_train, y_train, **fit_params)\n",
      "  File \"C:\\Users\\adity\\anaconda3\\lib\\site-packages\\sklearn\\discriminant_analysis.py\", line 463, in fit\n",
      "    raise NotImplementedError('shrinkage not supported')\n",
      "NotImplementedError: shrinkage not supported\n",
      "\n",
      "  FitFailedWarning)\n",
      "C:\\Users\\adity\\anaconda3\\lib\\site-packages\\sklearn\\model_selection\\_validation.py:552: FitFailedWarning: Estimator fit failed. The score on this train-test partition for these parameters will be set to nan. Details: \n",
      "Traceback (most recent call last):\n",
      "  File \"C:\\Users\\adity\\anaconda3\\lib\\site-packages\\sklearn\\model_selection\\_validation.py\", line 531, in _fit_and_score\n",
      "    estimator.fit(X_train, y_train, **fit_params)\n",
      "  File \"C:\\Users\\adity\\anaconda3\\lib\\site-packages\\sklearn\\discriminant_analysis.py\", line 463, in fit\n",
      "    raise NotImplementedError('shrinkage not supported')\n",
      "NotImplementedError: shrinkage not supported\n",
      "\n",
      "  FitFailedWarning)\n",
      "C:\\Users\\adity\\anaconda3\\lib\\site-packages\\sklearn\\model_selection\\_validation.py:552: FitFailedWarning: Estimator fit failed. The score on this train-test partition for these parameters will be set to nan. Details: \n",
      "Traceback (most recent call last):\n",
      "  File \"C:\\Users\\adity\\anaconda3\\lib\\site-packages\\sklearn\\model_selection\\_validation.py\", line 531, in _fit_and_score\n",
      "    estimator.fit(X_train, y_train, **fit_params)\n",
      "  File \"C:\\Users\\adity\\anaconda3\\lib\\site-packages\\sklearn\\discriminant_analysis.py\", line 463, in fit\n",
      "    raise NotImplementedError('shrinkage not supported')\n",
      "NotImplementedError: shrinkage not supported\n",
      "\n",
      "  FitFailedWarning)\n"
     ]
    },
    {
     "name": "stderr",
     "output_type": "stream",
     "text": [
      "C:\\Users\\adity\\anaconda3\\lib\\site-packages\\sklearn\\model_selection\\_validation.py:552: FitFailedWarning: Estimator fit failed. The score on this train-test partition for these parameters will be set to nan. Details: \n",
      "Traceback (most recent call last):\n",
      "  File \"C:\\Users\\adity\\anaconda3\\lib\\site-packages\\sklearn\\model_selection\\_validation.py\", line 531, in _fit_and_score\n",
      "    estimator.fit(X_train, y_train, **fit_params)\n",
      "  File \"C:\\Users\\adity\\anaconda3\\lib\\site-packages\\sklearn\\discriminant_analysis.py\", line 463, in fit\n",
      "    raise NotImplementedError('shrinkage not supported')\n",
      "NotImplementedError: shrinkage not supported\n",
      "\n",
      "  FitFailedWarning)\n",
      "C:\\Users\\adity\\anaconda3\\lib\\site-packages\\sklearn\\model_selection\\_validation.py:552: FitFailedWarning: Estimator fit failed. The score on this train-test partition for these parameters will be set to nan. Details: \n",
      "Traceback (most recent call last):\n",
      "  File \"C:\\Users\\adity\\anaconda3\\lib\\site-packages\\sklearn\\model_selection\\_validation.py\", line 531, in _fit_and_score\n",
      "    estimator.fit(X_train, y_train, **fit_params)\n",
      "  File \"C:\\Users\\adity\\anaconda3\\lib\\site-packages\\sklearn\\discriminant_analysis.py\", line 463, in fit\n",
      "    raise NotImplementedError('shrinkage not supported')\n",
      "NotImplementedError: shrinkage not supported\n",
      "\n",
      "  FitFailedWarning)\n",
      "C:\\Users\\adity\\anaconda3\\lib\\site-packages\\sklearn\\model_selection\\_validation.py:552: FitFailedWarning: Estimator fit failed. The score on this train-test partition for these parameters will be set to nan. Details: \n",
      "Traceback (most recent call last):\n",
      "  File \"C:\\Users\\adity\\anaconda3\\lib\\site-packages\\sklearn\\model_selection\\_validation.py\", line 531, in _fit_and_score\n",
      "    estimator.fit(X_train, y_train, **fit_params)\n",
      "  File \"C:\\Users\\adity\\anaconda3\\lib\\site-packages\\sklearn\\discriminant_analysis.py\", line 463, in fit\n",
      "    raise NotImplementedError('shrinkage not supported')\n",
      "NotImplementedError: shrinkage not supported\n",
      "\n",
      "  FitFailedWarning)\n",
      "C:\\Users\\adity\\anaconda3\\lib\\site-packages\\sklearn\\model_selection\\_validation.py:552: FitFailedWarning: Estimator fit failed. The score on this train-test partition for these parameters will be set to nan. Details: \n",
      "Traceback (most recent call last):\n",
      "  File \"C:\\Users\\adity\\anaconda3\\lib\\site-packages\\sklearn\\model_selection\\_validation.py\", line 531, in _fit_and_score\n",
      "    estimator.fit(X_train, y_train, **fit_params)\n",
      "  File \"C:\\Users\\adity\\anaconda3\\lib\\site-packages\\sklearn\\discriminant_analysis.py\", line 463, in fit\n",
      "    raise NotImplementedError('shrinkage not supported')\n",
      "NotImplementedError: shrinkage not supported\n",
      "\n",
      "  FitFailedWarning)\n",
      "C:\\Users\\adity\\anaconda3\\lib\\site-packages\\sklearn\\model_selection\\_validation.py:552: FitFailedWarning: Estimator fit failed. The score on this train-test partition for these parameters will be set to nan. Details: \n",
      "Traceback (most recent call last):\n",
      "  File \"C:\\Users\\adity\\anaconda3\\lib\\site-packages\\sklearn\\model_selection\\_validation.py\", line 531, in _fit_and_score\n",
      "    estimator.fit(X_train, y_train, **fit_params)\n",
      "  File \"C:\\Users\\adity\\anaconda3\\lib\\site-packages\\sklearn\\discriminant_analysis.py\", line 463, in fit\n",
      "    raise NotImplementedError('shrinkage not supported')\n",
      "NotImplementedError: shrinkage not supported\n",
      "\n",
      "  FitFailedWarning)\n",
      "C:\\Users\\adity\\anaconda3\\lib\\site-packages\\sklearn\\model_selection\\_validation.py:552: FitFailedWarning: Estimator fit failed. The score on this train-test partition for these parameters will be set to nan. Details: \n",
      "Traceback (most recent call last):\n",
      "  File \"C:\\Users\\adity\\anaconda3\\lib\\site-packages\\sklearn\\model_selection\\_validation.py\", line 531, in _fit_and_score\n",
      "    estimator.fit(X_train, y_train, **fit_params)\n",
      "  File \"C:\\Users\\adity\\anaconda3\\lib\\site-packages\\sklearn\\discriminant_analysis.py\", line 463, in fit\n",
      "    raise NotImplementedError('shrinkage not supported')\n",
      "NotImplementedError: shrinkage not supported\n",
      "\n",
      "  FitFailedWarning)\n",
      "C:\\Users\\adity\\anaconda3\\lib\\site-packages\\sklearn\\model_selection\\_validation.py:552: FitFailedWarning: Estimator fit failed. The score on this train-test partition for these parameters will be set to nan. Details: \n",
      "Traceback (most recent call last):\n",
      "  File \"C:\\Users\\adity\\anaconda3\\lib\\site-packages\\sklearn\\model_selection\\_validation.py\", line 531, in _fit_and_score\n",
      "    estimator.fit(X_train, y_train, **fit_params)\n",
      "  File \"C:\\Users\\adity\\anaconda3\\lib\\site-packages\\sklearn\\discriminant_analysis.py\", line 463, in fit\n",
      "    raise NotImplementedError('shrinkage not supported')\n",
      "NotImplementedError: shrinkage not supported\n",
      "\n",
      "  FitFailedWarning)\n",
      "C:\\Users\\adity\\anaconda3\\lib\\site-packages\\sklearn\\model_selection\\_validation.py:552: FitFailedWarning: Estimator fit failed. The score on this train-test partition for these parameters will be set to nan. Details: \n",
      "Traceback (most recent call last):\n",
      "  File \"C:\\Users\\adity\\anaconda3\\lib\\site-packages\\sklearn\\model_selection\\_validation.py\", line 531, in _fit_and_score\n",
      "    estimator.fit(X_train, y_train, **fit_params)\n",
      "  File \"C:\\Users\\adity\\anaconda3\\lib\\site-packages\\sklearn\\discriminant_analysis.py\", line 463, in fit\n",
      "    raise NotImplementedError('shrinkage not supported')\n",
      "NotImplementedError: shrinkage not supported\n",
      "\n",
      "  FitFailedWarning)\n",
      "C:\\Users\\adity\\anaconda3\\lib\\site-packages\\sklearn\\model_selection\\_validation.py:552: FitFailedWarning: Estimator fit failed. The score on this train-test partition for these parameters will be set to nan. Details: \n",
      "Traceback (most recent call last):\n",
      "  File \"C:\\Users\\adity\\anaconda3\\lib\\site-packages\\sklearn\\model_selection\\_validation.py\", line 531, in _fit_and_score\n",
      "    estimator.fit(X_train, y_train, **fit_params)\n",
      "  File \"C:\\Users\\adity\\anaconda3\\lib\\site-packages\\sklearn\\discriminant_analysis.py\", line 463, in fit\n",
      "    raise NotImplementedError('shrinkage not supported')\n",
      "NotImplementedError: shrinkage not supported\n",
      "\n",
      "  FitFailedWarning)\n",
      "C:\\Users\\adity\\anaconda3\\lib\\site-packages\\sklearn\\model_selection\\_validation.py:552: FitFailedWarning: Estimator fit failed. The score on this train-test partition for these parameters will be set to nan. Details: \n",
      "Traceback (most recent call last):\n",
      "  File \"C:\\Users\\adity\\anaconda3\\lib\\site-packages\\sklearn\\model_selection\\_validation.py\", line 531, in _fit_and_score\n",
      "    estimator.fit(X_train, y_train, **fit_params)\n",
      "  File \"C:\\Users\\adity\\anaconda3\\lib\\site-packages\\sklearn\\discriminant_analysis.py\", line 463, in fit\n",
      "    raise NotImplementedError('shrinkage not supported')\n",
      "NotImplementedError: shrinkage not supported\n",
      "\n",
      "  FitFailedWarning)\n",
      "C:\\Users\\adity\\anaconda3\\lib\\site-packages\\sklearn\\model_selection\\_validation.py:552: FitFailedWarning: Estimator fit failed. The score on this train-test partition for these parameters will be set to nan. Details: \n",
      "Traceback (most recent call last):\n",
      "  File \"C:\\Users\\adity\\anaconda3\\lib\\site-packages\\sklearn\\model_selection\\_validation.py\", line 531, in _fit_and_score\n",
      "    estimator.fit(X_train, y_train, **fit_params)\n",
      "  File \"C:\\Users\\adity\\anaconda3\\lib\\site-packages\\sklearn\\discriminant_analysis.py\", line 463, in fit\n",
      "    raise NotImplementedError('shrinkage not supported')\n",
      "NotImplementedError: shrinkage not supported\n",
      "\n",
      "  FitFailedWarning)\n",
      "C:\\Users\\adity\\anaconda3\\lib\\site-packages\\sklearn\\model_selection\\_validation.py:552: FitFailedWarning: Estimator fit failed. The score on this train-test partition for these parameters will be set to nan. Details: \n",
      "Traceback (most recent call last):\n",
      "  File \"C:\\Users\\adity\\anaconda3\\lib\\site-packages\\sklearn\\model_selection\\_validation.py\", line 531, in _fit_and_score\n",
      "    estimator.fit(X_train, y_train, **fit_params)\n",
      "  File \"C:\\Users\\adity\\anaconda3\\lib\\site-packages\\sklearn\\discriminant_analysis.py\", line 463, in fit\n",
      "    raise NotImplementedError('shrinkage not supported')\n",
      "NotImplementedError: shrinkage not supported\n",
      "\n",
      "  FitFailedWarning)\n",
      "C:\\Users\\adity\\anaconda3\\lib\\site-packages\\sklearn\\model_selection\\_validation.py:552: FitFailedWarning: Estimator fit failed. The score on this train-test partition for these parameters will be set to nan. Details: \n",
      "Traceback (most recent call last):\n",
      "  File \"C:\\Users\\adity\\anaconda3\\lib\\site-packages\\sklearn\\model_selection\\_validation.py\", line 531, in _fit_and_score\n",
      "    estimator.fit(X_train, y_train, **fit_params)\n",
      "  File \"C:\\Users\\adity\\anaconda3\\lib\\site-packages\\sklearn\\discriminant_analysis.py\", line 463, in fit\n",
      "    raise NotImplementedError('shrinkage not supported')\n",
      "NotImplementedError: shrinkage not supported\n",
      "\n",
      "  FitFailedWarning)\n",
      "C:\\Users\\adity\\anaconda3\\lib\\site-packages\\sklearn\\model_selection\\_validation.py:552: FitFailedWarning: Estimator fit failed. The score on this train-test partition for these parameters will be set to nan. Details: \n",
      "Traceback (most recent call last):\n",
      "  File \"C:\\Users\\adity\\anaconda3\\lib\\site-packages\\sklearn\\model_selection\\_validation.py\", line 531, in _fit_and_score\n",
      "    estimator.fit(X_train, y_train, **fit_params)\n",
      "  File \"C:\\Users\\adity\\anaconda3\\lib\\site-packages\\sklearn\\discriminant_analysis.py\", line 463, in fit\n",
      "    raise NotImplementedError('shrinkage not supported')\n",
      "NotImplementedError: shrinkage not supported\n",
      "\n",
      "  FitFailedWarning)\n",
      "C:\\Users\\adity\\anaconda3\\lib\\site-packages\\sklearn\\model_selection\\_validation.py:552: FitFailedWarning: Estimator fit failed. The score on this train-test partition for these parameters will be set to nan. Details: \n",
      "Traceback (most recent call last):\n",
      "  File \"C:\\Users\\adity\\anaconda3\\lib\\site-packages\\sklearn\\model_selection\\_validation.py\", line 531, in _fit_and_score\n",
      "    estimator.fit(X_train, y_train, **fit_params)\n",
      "  File \"C:\\Users\\adity\\anaconda3\\lib\\site-packages\\sklearn\\discriminant_analysis.py\", line 463, in fit\n",
      "    raise NotImplementedError('shrinkage not supported')\n",
      "NotImplementedError: shrinkage not supported\n",
      "\n",
      "  FitFailedWarning)\n",
      "C:\\Users\\adity\\anaconda3\\lib\\site-packages\\sklearn\\model_selection\\_validation.py:552: FitFailedWarning: Estimator fit failed. The score on this train-test partition for these parameters will be set to nan. Details: \n",
      "Traceback (most recent call last):\n",
      "  File \"C:\\Users\\adity\\anaconda3\\lib\\site-packages\\sklearn\\model_selection\\_validation.py\", line 531, in _fit_and_score\n",
      "    estimator.fit(X_train, y_train, **fit_params)\n",
      "  File \"C:\\Users\\adity\\anaconda3\\lib\\site-packages\\sklearn\\discriminant_analysis.py\", line 463, in fit\n",
      "    raise NotImplementedError('shrinkage not supported')\n",
      "NotImplementedError: shrinkage not supported\n",
      "\n",
      "  FitFailedWarning)\n",
      "C:\\Users\\adity\\anaconda3\\lib\\site-packages\\sklearn\\model_selection\\_validation.py:552: FitFailedWarning: Estimator fit failed. The score on this train-test partition for these parameters will be set to nan. Details: \n",
      "Traceback (most recent call last):\n",
      "  File \"C:\\Users\\adity\\anaconda3\\lib\\site-packages\\sklearn\\model_selection\\_validation.py\", line 531, in _fit_and_score\n",
      "    estimator.fit(X_train, y_train, **fit_params)\n",
      "  File \"C:\\Users\\adity\\anaconda3\\lib\\site-packages\\sklearn\\discriminant_analysis.py\", line 463, in fit\n",
      "    raise NotImplementedError('shrinkage not supported')\n",
      "NotImplementedError: shrinkage not supported\n",
      "\n",
      "  FitFailedWarning)\n",
      "C:\\Users\\adity\\anaconda3\\lib\\site-packages\\sklearn\\model_selection\\_validation.py:552: FitFailedWarning: Estimator fit failed. The score on this train-test partition for these parameters will be set to nan. Details: \n",
      "Traceback (most recent call last):\n",
      "  File \"C:\\Users\\adity\\anaconda3\\lib\\site-packages\\sklearn\\model_selection\\_validation.py\", line 531, in _fit_and_score\n",
      "    estimator.fit(X_train, y_train, **fit_params)\n",
      "  File \"C:\\Users\\adity\\anaconda3\\lib\\site-packages\\sklearn\\discriminant_analysis.py\", line 463, in fit\n",
      "    raise NotImplementedError('shrinkage not supported')\n",
      "NotImplementedError: shrinkage not supported\n",
      "\n",
      "  FitFailedWarning)\n",
      "C:\\Users\\adity\\anaconda3\\lib\\site-packages\\sklearn\\model_selection\\_validation.py:552: FitFailedWarning: Estimator fit failed. The score on this train-test partition for these parameters will be set to nan. Details: \n",
      "Traceback (most recent call last):\n",
      "  File \"C:\\Users\\adity\\anaconda3\\lib\\site-packages\\sklearn\\model_selection\\_validation.py\", line 531, in _fit_and_score\n",
      "    estimator.fit(X_train, y_train, **fit_params)\n",
      "  File \"C:\\Users\\adity\\anaconda3\\lib\\site-packages\\sklearn\\discriminant_analysis.py\", line 463, in fit\n",
      "    raise NotImplementedError('shrinkage not supported')\n",
      "NotImplementedError: shrinkage not supported\n",
      "\n",
      "  FitFailedWarning)\n",
      "C:\\Users\\adity\\anaconda3\\lib\\site-packages\\sklearn\\model_selection\\_validation.py:552: FitFailedWarning: Estimator fit failed. The score on this train-test partition for these parameters will be set to nan. Details: \n",
      "Traceback (most recent call last):\n",
      "  File \"C:\\Users\\adity\\anaconda3\\lib\\site-packages\\sklearn\\model_selection\\_validation.py\", line 531, in _fit_and_score\n",
      "    estimator.fit(X_train, y_train, **fit_params)\n",
      "  File \"C:\\Users\\adity\\anaconda3\\lib\\site-packages\\sklearn\\discriminant_analysis.py\", line 463, in fit\n",
      "    raise NotImplementedError('shrinkage not supported')\n",
      "NotImplementedError: shrinkage not supported\n",
      "\n",
      "  FitFailedWarning)\n",
      "C:\\Users\\adity\\anaconda3\\lib\\site-packages\\sklearn\\model_selection\\_validation.py:552: FitFailedWarning: Estimator fit failed. The score on this train-test partition for these parameters will be set to nan. Details: \n",
      "Traceback (most recent call last):\n",
      "  File \"C:\\Users\\adity\\anaconda3\\lib\\site-packages\\sklearn\\model_selection\\_validation.py\", line 531, in _fit_and_score\n",
      "    estimator.fit(X_train, y_train, **fit_params)\n",
      "  File \"C:\\Users\\adity\\anaconda3\\lib\\site-packages\\sklearn\\discriminant_analysis.py\", line 463, in fit\n",
      "    raise NotImplementedError('shrinkage not supported')\n",
      "NotImplementedError: shrinkage not supported\n",
      "\n",
      "  FitFailedWarning)\n",
      "C:\\Users\\adity\\anaconda3\\lib\\site-packages\\sklearn\\model_selection\\_validation.py:552: FitFailedWarning: Estimator fit failed. The score on this train-test partition for these parameters will be set to nan. Details: \n",
      "Traceback (most recent call last):\n",
      "  File \"C:\\Users\\adity\\anaconda3\\lib\\site-packages\\sklearn\\model_selection\\_validation.py\", line 531, in _fit_and_score\n",
      "    estimator.fit(X_train, y_train, **fit_params)\n",
      "  File \"C:\\Users\\adity\\anaconda3\\lib\\site-packages\\sklearn\\discriminant_analysis.py\", line 463, in fit\n",
      "    raise NotImplementedError('shrinkage not supported')\n",
      "NotImplementedError: shrinkage not supported\n",
      "\n",
      "  FitFailedWarning)\n",
      "C:\\Users\\adity\\anaconda3\\lib\\site-packages\\sklearn\\model_selection\\_validation.py:552: FitFailedWarning: Estimator fit failed. The score on this train-test partition for these parameters will be set to nan. Details: \n",
      "Traceback (most recent call last):\n",
      "  File \"C:\\Users\\adity\\anaconda3\\lib\\site-packages\\sklearn\\model_selection\\_validation.py\", line 531, in _fit_and_score\n",
      "    estimator.fit(X_train, y_train, **fit_params)\n",
      "  File \"C:\\Users\\adity\\anaconda3\\lib\\site-packages\\sklearn\\discriminant_analysis.py\", line 463, in fit\n",
      "    raise NotImplementedError('shrinkage not supported')\n",
      "NotImplementedError: shrinkage not supported\n",
      "\n",
      "  FitFailedWarning)\n",
      "C:\\Users\\adity\\anaconda3\\lib\\site-packages\\sklearn\\model_selection\\_validation.py:552: FitFailedWarning: Estimator fit failed. The score on this train-test partition for these parameters will be set to nan. Details: \n",
      "Traceback (most recent call last):\n",
      "  File \"C:\\Users\\adity\\anaconda3\\lib\\site-packages\\sklearn\\model_selection\\_validation.py\", line 531, in _fit_and_score\n",
      "    estimator.fit(X_train, y_train, **fit_params)\n",
      "  File \"C:\\Users\\adity\\anaconda3\\lib\\site-packages\\sklearn\\discriminant_analysis.py\", line 463, in fit\n",
      "    raise NotImplementedError('shrinkage not supported')\n",
      "NotImplementedError: shrinkage not supported\n",
      "\n",
      "  FitFailedWarning)\n",
      "C:\\Users\\adity\\anaconda3\\lib\\site-packages\\sklearn\\model_selection\\_validation.py:552: FitFailedWarning: Estimator fit failed. The score on this train-test partition for these parameters will be set to nan. Details: \n",
      "Traceback (most recent call last):\n",
      "  File \"C:\\Users\\adity\\anaconda3\\lib\\site-packages\\sklearn\\model_selection\\_validation.py\", line 531, in _fit_and_score\n",
      "    estimator.fit(X_train, y_train, **fit_params)\n",
      "  File \"C:\\Users\\adity\\anaconda3\\lib\\site-packages\\sklearn\\discriminant_analysis.py\", line 463, in fit\n",
      "    raise NotImplementedError('shrinkage not supported')\n",
      "NotImplementedError: shrinkage not supported\n",
      "\n",
      "  FitFailedWarning)\n",
      "C:\\Users\\adity\\anaconda3\\lib\\site-packages\\sklearn\\model_selection\\_validation.py:552: FitFailedWarning: Estimator fit failed. The score on this train-test partition for these parameters will be set to nan. Details: \n",
      "Traceback (most recent call last):\n",
      "  File \"C:\\Users\\adity\\anaconda3\\lib\\site-packages\\sklearn\\model_selection\\_validation.py\", line 531, in _fit_and_score\n",
      "    estimator.fit(X_train, y_train, **fit_params)\n",
      "  File \"C:\\Users\\adity\\anaconda3\\lib\\site-packages\\sklearn\\discriminant_analysis.py\", line 463, in fit\n",
      "    raise NotImplementedError('shrinkage not supported')\n",
      "NotImplementedError: shrinkage not supported\n",
      "\n",
      "  FitFailedWarning)\n",
      "C:\\Users\\adity\\anaconda3\\lib\\site-packages\\sklearn\\model_selection\\_validation.py:552: FitFailedWarning: Estimator fit failed. The score on this train-test partition for these parameters will be set to nan. Details: \n",
      "Traceback (most recent call last):\n",
      "  File \"C:\\Users\\adity\\anaconda3\\lib\\site-packages\\sklearn\\model_selection\\_validation.py\", line 531, in _fit_and_score\n",
      "    estimator.fit(X_train, y_train, **fit_params)\n",
      "  File \"C:\\Users\\adity\\anaconda3\\lib\\site-packages\\sklearn\\discriminant_analysis.py\", line 463, in fit\n",
      "    raise NotImplementedError('shrinkage not supported')\n",
      "NotImplementedError: shrinkage not supported\n",
      "\n",
      "  FitFailedWarning)\n",
      "C:\\Users\\adity\\anaconda3\\lib\\site-packages\\sklearn\\model_selection\\_validation.py:552: FitFailedWarning: Estimator fit failed. The score on this train-test partition for these parameters will be set to nan. Details: \n",
      "Traceback (most recent call last):\n",
      "  File \"C:\\Users\\adity\\anaconda3\\lib\\site-packages\\sklearn\\model_selection\\_validation.py\", line 531, in _fit_and_score\n",
      "    estimator.fit(X_train, y_train, **fit_params)\n",
      "  File \"C:\\Users\\adity\\anaconda3\\lib\\site-packages\\sklearn\\discriminant_analysis.py\", line 463, in fit\n",
      "    raise NotImplementedError('shrinkage not supported')\n",
      "NotImplementedError: shrinkage not supported\n",
      "\n",
      "  FitFailedWarning)\n",
      "C:\\Users\\adity\\anaconda3\\lib\\site-packages\\sklearn\\model_selection\\_validation.py:552: FitFailedWarning: Estimator fit failed. The score on this train-test partition for these parameters will be set to nan. Details: \n",
      "Traceback (most recent call last):\n",
      "  File \"C:\\Users\\adity\\anaconda3\\lib\\site-packages\\sklearn\\model_selection\\_validation.py\", line 531, in _fit_and_score\n",
      "    estimator.fit(X_train, y_train, **fit_params)\n",
      "  File \"C:\\Users\\adity\\anaconda3\\lib\\site-packages\\sklearn\\discriminant_analysis.py\", line 463, in fit\n",
      "    raise NotImplementedError('shrinkage not supported')\n",
      "NotImplementedError: shrinkage not supported\n",
      "\n",
      "  FitFailedWarning)\n",
      "C:\\Users\\adity\\anaconda3\\lib\\site-packages\\sklearn\\model_selection\\_validation.py:552: FitFailedWarning: Estimator fit failed. The score on this train-test partition for these parameters will be set to nan. Details: \n",
      "Traceback (most recent call last):\n",
      "  File \"C:\\Users\\adity\\anaconda3\\lib\\site-packages\\sklearn\\model_selection\\_validation.py\", line 531, in _fit_and_score\n",
      "    estimator.fit(X_train, y_train, **fit_params)\n",
      "  File \"C:\\Users\\adity\\anaconda3\\lib\\site-packages\\sklearn\\discriminant_analysis.py\", line 463, in fit\n",
      "    raise NotImplementedError('shrinkage not supported')\n",
      "NotImplementedError: shrinkage not supported\n",
      "\n",
      "  FitFailedWarning)\n",
      "C:\\Users\\adity\\anaconda3\\lib\\site-packages\\sklearn\\model_selection\\_validation.py:552: FitFailedWarning: Estimator fit failed. The score on this train-test partition for these parameters will be set to nan. Details: \n",
      "Traceback (most recent call last):\n",
      "  File \"C:\\Users\\adity\\anaconda3\\lib\\site-packages\\sklearn\\model_selection\\_validation.py\", line 531, in _fit_and_score\n",
      "    estimator.fit(X_train, y_train, **fit_params)\n",
      "  File \"C:\\Users\\adity\\anaconda3\\lib\\site-packages\\sklearn\\discriminant_analysis.py\", line 466, in fit\n",
      "    self._solve_lsqr(X, y, shrinkage=self.shrinkage)\n",
      "  File \"C:\\Users\\adity\\anaconda3\\lib\\site-packages\\sklearn\\discriminant_analysis.py\", line 291, in _solve_lsqr\n",
      "    self.covariance_ = _class_cov(X, y, self.priors_, shrinkage)\n",
      "  File \"C:\\Users\\adity\\anaconda3\\lib\\site-packages\\sklearn\\discriminant_analysis.py\", line 127, in _class_cov\n",
      "    cov += priors[idx] * np.atleast_2d(_cov(Xg, shrinkage))\n",
      "  File \"C:\\Users\\adity\\anaconda3\\lib\\site-packages\\sklearn\\discriminant_analysis.py\", line 62, in _cov\n",
      "    raise ValueError('unknown shrinkage parameter')\n",
      "ValueError: unknown shrinkage parameter\n",
      "\n",
      "  FitFailedWarning)\n",
      "C:\\Users\\adity\\anaconda3\\lib\\site-packages\\sklearn\\model_selection\\_validation.py:552: FitFailedWarning: Estimator fit failed. The score on this train-test partition for these parameters will be set to nan. Details: \n",
      "Traceback (most recent call last):\n",
      "  File \"C:\\Users\\adity\\anaconda3\\lib\\site-packages\\sklearn\\model_selection\\_validation.py\", line 531, in _fit_and_score\n",
      "    estimator.fit(X_train, y_train, **fit_params)\n",
      "  File \"C:\\Users\\adity\\anaconda3\\lib\\site-packages\\sklearn\\discriminant_analysis.py\", line 466, in fit\n",
      "    self._solve_lsqr(X, y, shrinkage=self.shrinkage)\n",
      "  File \"C:\\Users\\adity\\anaconda3\\lib\\site-packages\\sklearn\\discriminant_analysis.py\", line 291, in _solve_lsqr\n",
      "    self.covariance_ = _class_cov(X, y, self.priors_, shrinkage)\n",
      "  File \"C:\\Users\\adity\\anaconda3\\lib\\site-packages\\sklearn\\discriminant_analysis.py\", line 127, in _class_cov\n",
      "    cov += priors[idx] * np.atleast_2d(_cov(Xg, shrinkage))\n",
      "  File \"C:\\Users\\adity\\anaconda3\\lib\\site-packages\\sklearn\\discriminant_analysis.py\", line 62, in _cov\n",
      "    raise ValueError('unknown shrinkage parameter')\n",
      "ValueError: unknown shrinkage parameter\n",
      "\n",
      "  FitFailedWarning)\n",
      "C:\\Users\\adity\\anaconda3\\lib\\site-packages\\sklearn\\model_selection\\_validation.py:552: FitFailedWarning: Estimator fit failed. The score on this train-test partition for these parameters will be set to nan. Details: \n",
      "Traceback (most recent call last):\n",
      "  File \"C:\\Users\\adity\\anaconda3\\lib\\site-packages\\sklearn\\model_selection\\_validation.py\", line 531, in _fit_and_score\n",
      "    estimator.fit(X_train, y_train, **fit_params)\n",
      "  File \"C:\\Users\\adity\\anaconda3\\lib\\site-packages\\sklearn\\discriminant_analysis.py\", line 466, in fit\n",
      "    self._solve_lsqr(X, y, shrinkage=self.shrinkage)\n",
      "  File \"C:\\Users\\adity\\anaconda3\\lib\\site-packages\\sklearn\\discriminant_analysis.py\", line 291, in _solve_lsqr\n",
      "    self.covariance_ = _class_cov(X, y, self.priors_, shrinkage)\n",
      "  File \"C:\\Users\\adity\\anaconda3\\lib\\site-packages\\sklearn\\discriminant_analysis.py\", line 127, in _class_cov\n",
      "    cov += priors[idx] * np.atleast_2d(_cov(Xg, shrinkage))\n",
      "  File \"C:\\Users\\adity\\anaconda3\\lib\\site-packages\\sklearn\\discriminant_analysis.py\", line 62, in _cov\n",
      "    raise ValueError('unknown shrinkage parameter')\n",
      "ValueError: unknown shrinkage parameter\n",
      "\n",
      "  FitFailedWarning)\n",
      "C:\\Users\\adity\\anaconda3\\lib\\site-packages\\sklearn\\model_selection\\_validation.py:552: FitFailedWarning: Estimator fit failed. The score on this train-test partition for these parameters will be set to nan. Details: \n",
      "Traceback (most recent call last):\n",
      "  File \"C:\\Users\\adity\\anaconda3\\lib\\site-packages\\sklearn\\model_selection\\_validation.py\", line 531, in _fit_and_score\n",
      "    estimator.fit(X_train, y_train, **fit_params)\n",
      "  File \"C:\\Users\\adity\\anaconda3\\lib\\site-packages\\sklearn\\discriminant_analysis.py\", line 466, in fit\n",
      "    self._solve_lsqr(X, y, shrinkage=self.shrinkage)\n",
      "  File \"C:\\Users\\adity\\anaconda3\\lib\\site-packages\\sklearn\\discriminant_analysis.py\", line 291, in _solve_lsqr\n",
      "    self.covariance_ = _class_cov(X, y, self.priors_, shrinkage)\n",
      "  File \"C:\\Users\\adity\\anaconda3\\lib\\site-packages\\sklearn\\discriminant_analysis.py\", line 127, in _class_cov\n",
      "    cov += priors[idx] * np.atleast_2d(_cov(Xg, shrinkage))\n",
      "  File \"C:\\Users\\adity\\anaconda3\\lib\\site-packages\\sklearn\\discriminant_analysis.py\", line 62, in _cov\n",
      "    raise ValueError('unknown shrinkage parameter')\n",
      "ValueError: unknown shrinkage parameter\n",
      "\n",
      "  FitFailedWarning)\n",
      "C:\\Users\\adity\\anaconda3\\lib\\site-packages\\sklearn\\model_selection\\_validation.py:552: FitFailedWarning: Estimator fit failed. The score on this train-test partition for these parameters will be set to nan. Details: \n",
      "Traceback (most recent call last):\n",
      "  File \"C:\\Users\\adity\\anaconda3\\lib\\site-packages\\sklearn\\model_selection\\_validation.py\", line 531, in _fit_and_score\n",
      "    estimator.fit(X_train, y_train, **fit_params)\n",
      "  File \"C:\\Users\\adity\\anaconda3\\lib\\site-packages\\sklearn\\discriminant_analysis.py\", line 466, in fit\n",
      "    self._solve_lsqr(X, y, shrinkage=self.shrinkage)\n",
      "  File \"C:\\Users\\adity\\anaconda3\\lib\\site-packages\\sklearn\\discriminant_analysis.py\", line 291, in _solve_lsqr\n",
      "    self.covariance_ = _class_cov(X, y, self.priors_, shrinkage)\n",
      "  File \"C:\\Users\\adity\\anaconda3\\lib\\site-packages\\sklearn\\discriminant_analysis.py\", line 127, in _class_cov\n",
      "    cov += priors[idx] * np.atleast_2d(_cov(Xg, shrinkage))\n",
      "  File \"C:\\Users\\adity\\anaconda3\\lib\\site-packages\\sklearn\\discriminant_analysis.py\", line 62, in _cov\n",
      "    raise ValueError('unknown shrinkage parameter')\n",
      "ValueError: unknown shrinkage parameter\n",
      "\n",
      "  FitFailedWarning)\n",
      "C:\\Users\\adity\\anaconda3\\lib\\site-packages\\sklearn\\model_selection\\_validation.py:552: FitFailedWarning: Estimator fit failed. The score on this train-test partition for these parameters will be set to nan. Details: \n",
      "Traceback (most recent call last):\n",
      "  File \"C:\\Users\\adity\\anaconda3\\lib\\site-packages\\sklearn\\model_selection\\_validation.py\", line 531, in _fit_and_score\n",
      "    estimator.fit(X_train, y_train, **fit_params)\n",
      "  File \"C:\\Users\\adity\\anaconda3\\lib\\site-packages\\sklearn\\discriminant_analysis.py\", line 466, in fit\n",
      "    self._solve_lsqr(X, y, shrinkage=self.shrinkage)\n",
      "  File \"C:\\Users\\adity\\anaconda3\\lib\\site-packages\\sklearn\\discriminant_analysis.py\", line 291, in _solve_lsqr\n",
      "    self.covariance_ = _class_cov(X, y, self.priors_, shrinkage)\n",
      "  File \"C:\\Users\\adity\\anaconda3\\lib\\site-packages\\sklearn\\discriminant_analysis.py\", line 127, in _class_cov\n",
      "    cov += priors[idx] * np.atleast_2d(_cov(Xg, shrinkage))\n",
      "  File \"C:\\Users\\adity\\anaconda3\\lib\\site-packages\\sklearn\\discriminant_analysis.py\", line 62, in _cov\n",
      "    raise ValueError('unknown shrinkage parameter')\n",
      "ValueError: unknown shrinkage parameter\n",
      "\n",
      "  FitFailedWarning)\n",
      "C:\\Users\\adity\\anaconda3\\lib\\site-packages\\sklearn\\model_selection\\_validation.py:552: FitFailedWarning: Estimator fit failed. The score on this train-test partition for these parameters will be set to nan. Details: \n",
      "Traceback (most recent call last):\n",
      "  File \"C:\\Users\\adity\\anaconda3\\lib\\site-packages\\sklearn\\model_selection\\_validation.py\", line 531, in _fit_and_score\n",
      "    estimator.fit(X_train, y_train, **fit_params)\n",
      "  File \"C:\\Users\\adity\\anaconda3\\lib\\site-packages\\sklearn\\discriminant_analysis.py\", line 466, in fit\n",
      "    self._solve_lsqr(X, y, shrinkage=self.shrinkage)\n",
      "  File \"C:\\Users\\adity\\anaconda3\\lib\\site-packages\\sklearn\\discriminant_analysis.py\", line 291, in _solve_lsqr\n",
      "    self.covariance_ = _class_cov(X, y, self.priors_, shrinkage)\n",
      "  File \"C:\\Users\\adity\\anaconda3\\lib\\site-packages\\sklearn\\discriminant_analysis.py\", line 127, in _class_cov\n",
      "    cov += priors[idx] * np.atleast_2d(_cov(Xg, shrinkage))\n",
      "  File \"C:\\Users\\adity\\anaconda3\\lib\\site-packages\\sklearn\\discriminant_analysis.py\", line 62, in _cov\n",
      "    raise ValueError('unknown shrinkage parameter')\n",
      "ValueError: unknown shrinkage parameter\n",
      "\n",
      "  FitFailedWarning)\n",
      "C:\\Users\\adity\\anaconda3\\lib\\site-packages\\sklearn\\model_selection\\_validation.py:552: FitFailedWarning: Estimator fit failed. The score on this train-test partition for these parameters will be set to nan. Details: \n",
      "Traceback (most recent call last):\n",
      "  File \"C:\\Users\\adity\\anaconda3\\lib\\site-packages\\sklearn\\model_selection\\_validation.py\", line 531, in _fit_and_score\n",
      "    estimator.fit(X_train, y_train, **fit_params)\n",
      "  File \"C:\\Users\\adity\\anaconda3\\lib\\site-packages\\sklearn\\discriminant_analysis.py\", line 466, in fit\n",
      "    self._solve_lsqr(X, y, shrinkage=self.shrinkage)\n",
      "  File \"C:\\Users\\adity\\anaconda3\\lib\\site-packages\\sklearn\\discriminant_analysis.py\", line 291, in _solve_lsqr\n",
      "    self.covariance_ = _class_cov(X, y, self.priors_, shrinkage)\n",
      "  File \"C:\\Users\\adity\\anaconda3\\lib\\site-packages\\sklearn\\discriminant_analysis.py\", line 127, in _class_cov\n",
      "    cov += priors[idx] * np.atleast_2d(_cov(Xg, shrinkage))\n",
      "  File \"C:\\Users\\adity\\anaconda3\\lib\\site-packages\\sklearn\\discriminant_analysis.py\", line 62, in _cov\n",
      "    raise ValueError('unknown shrinkage parameter')\n",
      "ValueError: unknown shrinkage parameter\n",
      "\n",
      "  FitFailedWarning)\n",
      "C:\\Users\\adity\\anaconda3\\lib\\site-packages\\sklearn\\model_selection\\_validation.py:552: FitFailedWarning: Estimator fit failed. The score on this train-test partition for these parameters will be set to nan. Details: \n",
      "Traceback (most recent call last):\n",
      "  File \"C:\\Users\\adity\\anaconda3\\lib\\site-packages\\sklearn\\model_selection\\_validation.py\", line 531, in _fit_and_score\n",
      "    estimator.fit(X_train, y_train, **fit_params)\n",
      "  File \"C:\\Users\\adity\\anaconda3\\lib\\site-packages\\sklearn\\discriminant_analysis.py\", line 466, in fit\n",
      "    self._solve_lsqr(X, y, shrinkage=self.shrinkage)\n",
      "  File \"C:\\Users\\adity\\anaconda3\\lib\\site-packages\\sklearn\\discriminant_analysis.py\", line 291, in _solve_lsqr\n",
      "    self.covariance_ = _class_cov(X, y, self.priors_, shrinkage)\n",
      "  File \"C:\\Users\\adity\\anaconda3\\lib\\site-packages\\sklearn\\discriminant_analysis.py\", line 127, in _class_cov\n",
      "    cov += priors[idx] * np.atleast_2d(_cov(Xg, shrinkage))\n",
      "  File \"C:\\Users\\adity\\anaconda3\\lib\\site-packages\\sklearn\\discriminant_analysis.py\", line 62, in _cov\n",
      "    raise ValueError('unknown shrinkage parameter')\n",
      "ValueError: unknown shrinkage parameter\n",
      "\n",
      "  FitFailedWarning)\n"
     ]
    },
    {
     "name": "stderr",
     "output_type": "stream",
     "text": [
      "C:\\Users\\adity\\anaconda3\\lib\\site-packages\\sklearn\\model_selection\\_validation.py:552: FitFailedWarning: Estimator fit failed. The score on this train-test partition for these parameters will be set to nan. Details: \n",
      "Traceback (most recent call last):\n",
      "  File \"C:\\Users\\adity\\anaconda3\\lib\\site-packages\\sklearn\\model_selection\\_validation.py\", line 531, in _fit_and_score\n",
      "    estimator.fit(X_train, y_train, **fit_params)\n",
      "  File \"C:\\Users\\adity\\anaconda3\\lib\\site-packages\\sklearn\\discriminant_analysis.py\", line 466, in fit\n",
      "    self._solve_lsqr(X, y, shrinkage=self.shrinkage)\n",
      "  File \"C:\\Users\\adity\\anaconda3\\lib\\site-packages\\sklearn\\discriminant_analysis.py\", line 291, in _solve_lsqr\n",
      "    self.covariance_ = _class_cov(X, y, self.priors_, shrinkage)\n",
      "  File \"C:\\Users\\adity\\anaconda3\\lib\\site-packages\\sklearn\\discriminant_analysis.py\", line 127, in _class_cov\n",
      "    cov += priors[idx] * np.atleast_2d(_cov(Xg, shrinkage))\n",
      "  File \"C:\\Users\\adity\\anaconda3\\lib\\site-packages\\sklearn\\discriminant_analysis.py\", line 62, in _cov\n",
      "    raise ValueError('unknown shrinkage parameter')\n",
      "ValueError: unknown shrinkage parameter\n",
      "\n",
      "  FitFailedWarning)\n",
      "C:\\Users\\adity\\anaconda3\\lib\\site-packages\\sklearn\\model_selection\\_validation.py:552: FitFailedWarning: Estimator fit failed. The score on this train-test partition for these parameters will be set to nan. Details: \n",
      "Traceback (most recent call last):\n",
      "  File \"C:\\Users\\adity\\anaconda3\\lib\\site-packages\\sklearn\\model_selection\\_validation.py\", line 531, in _fit_and_score\n",
      "    estimator.fit(X_train, y_train, **fit_params)\n",
      "  File \"C:\\Users\\adity\\anaconda3\\lib\\site-packages\\sklearn\\discriminant_analysis.py\", line 466, in fit\n",
      "    self._solve_lsqr(X, y, shrinkage=self.shrinkage)\n",
      "  File \"C:\\Users\\adity\\anaconda3\\lib\\site-packages\\sklearn\\discriminant_analysis.py\", line 291, in _solve_lsqr\n",
      "    self.covariance_ = _class_cov(X, y, self.priors_, shrinkage)\n",
      "  File \"C:\\Users\\adity\\anaconda3\\lib\\site-packages\\sklearn\\discriminant_analysis.py\", line 127, in _class_cov\n",
      "    cov += priors[idx] * np.atleast_2d(_cov(Xg, shrinkage))\n",
      "  File \"C:\\Users\\adity\\anaconda3\\lib\\site-packages\\sklearn\\discriminant_analysis.py\", line 62, in _cov\n",
      "    raise ValueError('unknown shrinkage parameter')\n",
      "ValueError: unknown shrinkage parameter\n",
      "\n",
      "  FitFailedWarning)\n",
      "C:\\Users\\adity\\anaconda3\\lib\\site-packages\\sklearn\\model_selection\\_validation.py:552: FitFailedWarning: Estimator fit failed. The score on this train-test partition for these parameters will be set to nan. Details: \n",
      "Traceback (most recent call last):\n",
      "  File \"C:\\Users\\adity\\anaconda3\\lib\\site-packages\\sklearn\\model_selection\\_validation.py\", line 531, in _fit_and_score\n",
      "    estimator.fit(X_train, y_train, **fit_params)\n",
      "  File \"C:\\Users\\adity\\anaconda3\\lib\\site-packages\\sklearn\\discriminant_analysis.py\", line 466, in fit\n",
      "    self._solve_lsqr(X, y, shrinkage=self.shrinkage)\n",
      "  File \"C:\\Users\\adity\\anaconda3\\lib\\site-packages\\sklearn\\discriminant_analysis.py\", line 291, in _solve_lsqr\n",
      "    self.covariance_ = _class_cov(X, y, self.priors_, shrinkage)\n",
      "  File \"C:\\Users\\adity\\anaconda3\\lib\\site-packages\\sklearn\\discriminant_analysis.py\", line 127, in _class_cov\n",
      "    cov += priors[idx] * np.atleast_2d(_cov(Xg, shrinkage))\n",
      "  File \"C:\\Users\\adity\\anaconda3\\lib\\site-packages\\sklearn\\discriminant_analysis.py\", line 62, in _cov\n",
      "    raise ValueError('unknown shrinkage parameter')\n",
      "ValueError: unknown shrinkage parameter\n",
      "\n",
      "  FitFailedWarning)\n",
      "C:\\Users\\adity\\anaconda3\\lib\\site-packages\\sklearn\\model_selection\\_validation.py:552: FitFailedWarning: Estimator fit failed. The score on this train-test partition for these parameters will be set to nan. Details: \n",
      "Traceback (most recent call last):\n",
      "  File \"C:\\Users\\adity\\anaconda3\\lib\\site-packages\\sklearn\\model_selection\\_validation.py\", line 531, in _fit_and_score\n",
      "    estimator.fit(X_train, y_train, **fit_params)\n",
      "  File \"C:\\Users\\adity\\anaconda3\\lib\\site-packages\\sklearn\\discriminant_analysis.py\", line 466, in fit\n",
      "    self._solve_lsqr(X, y, shrinkage=self.shrinkage)\n",
      "  File \"C:\\Users\\adity\\anaconda3\\lib\\site-packages\\sklearn\\discriminant_analysis.py\", line 291, in _solve_lsqr\n",
      "    self.covariance_ = _class_cov(X, y, self.priors_, shrinkage)\n",
      "  File \"C:\\Users\\adity\\anaconda3\\lib\\site-packages\\sklearn\\discriminant_analysis.py\", line 127, in _class_cov\n",
      "    cov += priors[idx] * np.atleast_2d(_cov(Xg, shrinkage))\n",
      "  File \"C:\\Users\\adity\\anaconda3\\lib\\site-packages\\sklearn\\discriminant_analysis.py\", line 62, in _cov\n",
      "    raise ValueError('unknown shrinkage parameter')\n",
      "ValueError: unknown shrinkage parameter\n",
      "\n",
      "  FitFailedWarning)\n",
      "C:\\Users\\adity\\anaconda3\\lib\\site-packages\\sklearn\\model_selection\\_validation.py:552: FitFailedWarning: Estimator fit failed. The score on this train-test partition for these parameters will be set to nan. Details: \n",
      "Traceback (most recent call last):\n",
      "  File \"C:\\Users\\adity\\anaconda3\\lib\\site-packages\\sklearn\\model_selection\\_validation.py\", line 531, in _fit_and_score\n",
      "    estimator.fit(X_train, y_train, **fit_params)\n",
      "  File \"C:\\Users\\adity\\anaconda3\\lib\\site-packages\\sklearn\\discriminant_analysis.py\", line 466, in fit\n",
      "    self._solve_lsqr(X, y, shrinkage=self.shrinkage)\n",
      "  File \"C:\\Users\\adity\\anaconda3\\lib\\site-packages\\sklearn\\discriminant_analysis.py\", line 291, in _solve_lsqr\n",
      "    self.covariance_ = _class_cov(X, y, self.priors_, shrinkage)\n",
      "  File \"C:\\Users\\adity\\anaconda3\\lib\\site-packages\\sklearn\\discriminant_analysis.py\", line 127, in _class_cov\n",
      "    cov += priors[idx] * np.atleast_2d(_cov(Xg, shrinkage))\n",
      "  File \"C:\\Users\\adity\\anaconda3\\lib\\site-packages\\sklearn\\discriminant_analysis.py\", line 62, in _cov\n",
      "    raise ValueError('unknown shrinkage parameter')\n",
      "ValueError: unknown shrinkage parameter\n",
      "\n",
      "  FitFailedWarning)\n",
      "C:\\Users\\adity\\anaconda3\\lib\\site-packages\\sklearn\\model_selection\\_validation.py:552: FitFailedWarning: Estimator fit failed. The score on this train-test partition for these parameters will be set to nan. Details: \n",
      "Traceback (most recent call last):\n",
      "  File \"C:\\Users\\adity\\anaconda3\\lib\\site-packages\\sklearn\\model_selection\\_validation.py\", line 531, in _fit_and_score\n",
      "    estimator.fit(X_train, y_train, **fit_params)\n",
      "  File \"C:\\Users\\adity\\anaconda3\\lib\\site-packages\\sklearn\\discriminant_analysis.py\", line 466, in fit\n",
      "    self._solve_lsqr(X, y, shrinkage=self.shrinkage)\n",
      "  File \"C:\\Users\\adity\\anaconda3\\lib\\site-packages\\sklearn\\discriminant_analysis.py\", line 291, in _solve_lsqr\n",
      "    self.covariance_ = _class_cov(X, y, self.priors_, shrinkage)\n",
      "  File \"C:\\Users\\adity\\anaconda3\\lib\\site-packages\\sklearn\\discriminant_analysis.py\", line 127, in _class_cov\n",
      "    cov += priors[idx] * np.atleast_2d(_cov(Xg, shrinkage))\n",
      "  File \"C:\\Users\\adity\\anaconda3\\lib\\site-packages\\sklearn\\discriminant_analysis.py\", line 62, in _cov\n",
      "    raise ValueError('unknown shrinkage parameter')\n",
      "ValueError: unknown shrinkage parameter\n",
      "\n",
      "  FitFailedWarning)\n",
      "C:\\Users\\adity\\anaconda3\\lib\\site-packages\\sklearn\\model_selection\\_validation.py:552: FitFailedWarning: Estimator fit failed. The score on this train-test partition for these parameters will be set to nan. Details: \n",
      "Traceback (most recent call last):\n",
      "  File \"C:\\Users\\adity\\anaconda3\\lib\\site-packages\\sklearn\\model_selection\\_validation.py\", line 531, in _fit_and_score\n",
      "    estimator.fit(X_train, y_train, **fit_params)\n",
      "  File \"C:\\Users\\adity\\anaconda3\\lib\\site-packages\\sklearn\\discriminant_analysis.py\", line 466, in fit\n",
      "    self._solve_lsqr(X, y, shrinkage=self.shrinkage)\n",
      "  File \"C:\\Users\\adity\\anaconda3\\lib\\site-packages\\sklearn\\discriminant_analysis.py\", line 291, in _solve_lsqr\n",
      "    self.covariance_ = _class_cov(X, y, self.priors_, shrinkage)\n",
      "  File \"C:\\Users\\adity\\anaconda3\\lib\\site-packages\\sklearn\\discriminant_analysis.py\", line 127, in _class_cov\n",
      "    cov += priors[idx] * np.atleast_2d(_cov(Xg, shrinkage))\n",
      "  File \"C:\\Users\\adity\\anaconda3\\lib\\site-packages\\sklearn\\discriminant_analysis.py\", line 62, in _cov\n",
      "    raise ValueError('unknown shrinkage parameter')\n",
      "ValueError: unknown shrinkage parameter\n",
      "\n",
      "  FitFailedWarning)\n",
      "C:\\Users\\adity\\anaconda3\\lib\\site-packages\\sklearn\\model_selection\\_validation.py:552: FitFailedWarning: Estimator fit failed. The score on this train-test partition for these parameters will be set to nan. Details: \n",
      "Traceback (most recent call last):\n",
      "  File \"C:\\Users\\adity\\anaconda3\\lib\\site-packages\\sklearn\\model_selection\\_validation.py\", line 531, in _fit_and_score\n",
      "    estimator.fit(X_train, y_train, **fit_params)\n",
      "  File \"C:\\Users\\adity\\anaconda3\\lib\\site-packages\\sklearn\\discriminant_analysis.py\", line 466, in fit\n",
      "    self._solve_lsqr(X, y, shrinkage=self.shrinkage)\n",
      "  File \"C:\\Users\\adity\\anaconda3\\lib\\site-packages\\sklearn\\discriminant_analysis.py\", line 291, in _solve_lsqr\n",
      "    self.covariance_ = _class_cov(X, y, self.priors_, shrinkage)\n",
      "  File \"C:\\Users\\adity\\anaconda3\\lib\\site-packages\\sklearn\\discriminant_analysis.py\", line 127, in _class_cov\n",
      "    cov += priors[idx] * np.atleast_2d(_cov(Xg, shrinkage))\n",
      "  File \"C:\\Users\\adity\\anaconda3\\lib\\site-packages\\sklearn\\discriminant_analysis.py\", line 62, in _cov\n",
      "    raise ValueError('unknown shrinkage parameter')\n",
      "ValueError: unknown shrinkage parameter\n",
      "\n",
      "  FitFailedWarning)\n",
      "C:\\Users\\adity\\anaconda3\\lib\\site-packages\\sklearn\\model_selection\\_validation.py:552: FitFailedWarning: Estimator fit failed. The score on this train-test partition for these parameters will be set to nan. Details: \n",
      "Traceback (most recent call last):\n",
      "  File \"C:\\Users\\adity\\anaconda3\\lib\\site-packages\\sklearn\\model_selection\\_validation.py\", line 531, in _fit_and_score\n",
      "    estimator.fit(X_train, y_train, **fit_params)\n",
      "  File \"C:\\Users\\adity\\anaconda3\\lib\\site-packages\\sklearn\\discriminant_analysis.py\", line 466, in fit\n",
      "    self._solve_lsqr(X, y, shrinkage=self.shrinkage)\n",
      "  File \"C:\\Users\\adity\\anaconda3\\lib\\site-packages\\sklearn\\discriminant_analysis.py\", line 291, in _solve_lsqr\n",
      "    self.covariance_ = _class_cov(X, y, self.priors_, shrinkage)\n",
      "  File \"C:\\Users\\adity\\anaconda3\\lib\\site-packages\\sklearn\\discriminant_analysis.py\", line 127, in _class_cov\n",
      "    cov += priors[idx] * np.atleast_2d(_cov(Xg, shrinkage))\n",
      "  File \"C:\\Users\\adity\\anaconda3\\lib\\site-packages\\sklearn\\discriminant_analysis.py\", line 62, in _cov\n",
      "    raise ValueError('unknown shrinkage parameter')\n",
      "ValueError: unknown shrinkage parameter\n",
      "\n",
      "  FitFailedWarning)\n",
      "C:\\Users\\adity\\anaconda3\\lib\\site-packages\\sklearn\\model_selection\\_validation.py:552: FitFailedWarning: Estimator fit failed. The score on this train-test partition for these parameters will be set to nan. Details: \n",
      "Traceback (most recent call last):\n",
      "  File \"C:\\Users\\adity\\anaconda3\\lib\\site-packages\\sklearn\\model_selection\\_validation.py\", line 531, in _fit_and_score\n",
      "    estimator.fit(X_train, y_train, **fit_params)\n",
      "  File \"C:\\Users\\adity\\anaconda3\\lib\\site-packages\\sklearn\\discriminant_analysis.py\", line 466, in fit\n",
      "    self._solve_lsqr(X, y, shrinkage=self.shrinkage)\n",
      "  File \"C:\\Users\\adity\\anaconda3\\lib\\site-packages\\sklearn\\discriminant_analysis.py\", line 291, in _solve_lsqr\n",
      "    self.covariance_ = _class_cov(X, y, self.priors_, shrinkage)\n",
      "  File \"C:\\Users\\adity\\anaconda3\\lib\\site-packages\\sklearn\\discriminant_analysis.py\", line 127, in _class_cov\n",
      "    cov += priors[idx] * np.atleast_2d(_cov(Xg, shrinkage))\n",
      "  File \"C:\\Users\\adity\\anaconda3\\lib\\site-packages\\sklearn\\discriminant_analysis.py\", line 62, in _cov\n",
      "    raise ValueError('unknown shrinkage parameter')\n",
      "ValueError: unknown shrinkage parameter\n",
      "\n",
      "  FitFailedWarning)\n",
      "C:\\Users\\adity\\anaconda3\\lib\\site-packages\\sklearn\\model_selection\\_validation.py:552: FitFailedWarning: Estimator fit failed. The score on this train-test partition for these parameters will be set to nan. Details: \n",
      "Traceback (most recent call last):\n",
      "  File \"C:\\Users\\adity\\anaconda3\\lib\\site-packages\\sklearn\\model_selection\\_validation.py\", line 531, in _fit_and_score\n",
      "    estimator.fit(X_train, y_train, **fit_params)\n",
      "  File \"C:\\Users\\adity\\anaconda3\\lib\\site-packages\\sklearn\\discriminant_analysis.py\", line 466, in fit\n",
      "    self._solve_lsqr(X, y, shrinkage=self.shrinkage)\n",
      "  File \"C:\\Users\\adity\\anaconda3\\lib\\site-packages\\sklearn\\discriminant_analysis.py\", line 291, in _solve_lsqr\n",
      "    self.covariance_ = _class_cov(X, y, self.priors_, shrinkage)\n",
      "  File \"C:\\Users\\adity\\anaconda3\\lib\\site-packages\\sklearn\\discriminant_analysis.py\", line 127, in _class_cov\n",
      "    cov += priors[idx] * np.atleast_2d(_cov(Xg, shrinkage))\n",
      "  File \"C:\\Users\\adity\\anaconda3\\lib\\site-packages\\sklearn\\discriminant_analysis.py\", line 62, in _cov\n",
      "    raise ValueError('unknown shrinkage parameter')\n",
      "ValueError: unknown shrinkage parameter\n",
      "\n",
      "  FitFailedWarning)\n",
      "C:\\Users\\adity\\anaconda3\\lib\\site-packages\\sklearn\\model_selection\\_validation.py:552: FitFailedWarning: Estimator fit failed. The score on this train-test partition for these parameters will be set to nan. Details: \n",
      "Traceback (most recent call last):\n",
      "  File \"C:\\Users\\adity\\anaconda3\\lib\\site-packages\\sklearn\\model_selection\\_validation.py\", line 531, in _fit_and_score\n",
      "    estimator.fit(X_train, y_train, **fit_params)\n",
      "  File \"C:\\Users\\adity\\anaconda3\\lib\\site-packages\\sklearn\\discriminant_analysis.py\", line 466, in fit\n",
      "    self._solve_lsqr(X, y, shrinkage=self.shrinkage)\n",
      "  File \"C:\\Users\\adity\\anaconda3\\lib\\site-packages\\sklearn\\discriminant_analysis.py\", line 291, in _solve_lsqr\n",
      "    self.covariance_ = _class_cov(X, y, self.priors_, shrinkage)\n",
      "  File \"C:\\Users\\adity\\anaconda3\\lib\\site-packages\\sklearn\\discriminant_analysis.py\", line 127, in _class_cov\n",
      "    cov += priors[idx] * np.atleast_2d(_cov(Xg, shrinkage))\n",
      "  File \"C:\\Users\\adity\\anaconda3\\lib\\site-packages\\sklearn\\discriminant_analysis.py\", line 62, in _cov\n",
      "    raise ValueError('unknown shrinkage parameter')\n",
      "ValueError: unknown shrinkage parameter\n",
      "\n",
      "  FitFailedWarning)\n",
      "C:\\Users\\adity\\anaconda3\\lib\\site-packages\\sklearn\\model_selection\\_validation.py:552: FitFailedWarning: Estimator fit failed. The score on this train-test partition for these parameters will be set to nan. Details: \n",
      "Traceback (most recent call last):\n",
      "  File \"C:\\Users\\adity\\anaconda3\\lib\\site-packages\\sklearn\\model_selection\\_validation.py\", line 531, in _fit_and_score\n",
      "    estimator.fit(X_train, y_train, **fit_params)\n",
      "  File \"C:\\Users\\adity\\anaconda3\\lib\\site-packages\\sklearn\\discriminant_analysis.py\", line 466, in fit\n",
      "    self._solve_lsqr(X, y, shrinkage=self.shrinkage)\n",
      "  File \"C:\\Users\\adity\\anaconda3\\lib\\site-packages\\sklearn\\discriminant_analysis.py\", line 291, in _solve_lsqr\n",
      "    self.covariance_ = _class_cov(X, y, self.priors_, shrinkage)\n",
      "  File \"C:\\Users\\adity\\anaconda3\\lib\\site-packages\\sklearn\\discriminant_analysis.py\", line 127, in _class_cov\n",
      "    cov += priors[idx] * np.atleast_2d(_cov(Xg, shrinkage))\n",
      "  File \"C:\\Users\\adity\\anaconda3\\lib\\site-packages\\sklearn\\discriminant_analysis.py\", line 62, in _cov\n",
      "    raise ValueError('unknown shrinkage parameter')\n",
      "ValueError: unknown shrinkage parameter\n",
      "\n",
      "  FitFailedWarning)\n",
      "C:\\Users\\adity\\anaconda3\\lib\\site-packages\\sklearn\\model_selection\\_validation.py:552: FitFailedWarning: Estimator fit failed. The score on this train-test partition for these parameters will be set to nan. Details: \n",
      "Traceback (most recent call last):\n",
      "  File \"C:\\Users\\adity\\anaconda3\\lib\\site-packages\\sklearn\\model_selection\\_validation.py\", line 531, in _fit_and_score\n",
      "    estimator.fit(X_train, y_train, **fit_params)\n",
      "  File \"C:\\Users\\adity\\anaconda3\\lib\\site-packages\\sklearn\\discriminant_analysis.py\", line 466, in fit\n",
      "    self._solve_lsqr(X, y, shrinkage=self.shrinkage)\n",
      "  File \"C:\\Users\\adity\\anaconda3\\lib\\site-packages\\sklearn\\discriminant_analysis.py\", line 291, in _solve_lsqr\n",
      "    self.covariance_ = _class_cov(X, y, self.priors_, shrinkage)\n",
      "  File \"C:\\Users\\adity\\anaconda3\\lib\\site-packages\\sklearn\\discriminant_analysis.py\", line 127, in _class_cov\n",
      "    cov += priors[idx] * np.atleast_2d(_cov(Xg, shrinkage))\n",
      "  File \"C:\\Users\\adity\\anaconda3\\lib\\site-packages\\sklearn\\discriminant_analysis.py\", line 62, in _cov\n",
      "    raise ValueError('unknown shrinkage parameter')\n",
      "ValueError: unknown shrinkage parameter\n",
      "\n",
      "  FitFailedWarning)\n",
      "C:\\Users\\adity\\anaconda3\\lib\\site-packages\\sklearn\\model_selection\\_validation.py:552: FitFailedWarning: Estimator fit failed. The score on this train-test partition for these parameters will be set to nan. Details: \n",
      "Traceback (most recent call last):\n",
      "  File \"C:\\Users\\adity\\anaconda3\\lib\\site-packages\\sklearn\\model_selection\\_validation.py\", line 531, in _fit_and_score\n",
      "    estimator.fit(X_train, y_train, **fit_params)\n",
      "  File \"C:\\Users\\adity\\anaconda3\\lib\\site-packages\\sklearn\\discriminant_analysis.py\", line 466, in fit\n",
      "    self._solve_lsqr(X, y, shrinkage=self.shrinkage)\n",
      "  File \"C:\\Users\\adity\\anaconda3\\lib\\site-packages\\sklearn\\discriminant_analysis.py\", line 291, in _solve_lsqr\n",
      "    self.covariance_ = _class_cov(X, y, self.priors_, shrinkage)\n",
      "  File \"C:\\Users\\adity\\anaconda3\\lib\\site-packages\\sklearn\\discriminant_analysis.py\", line 127, in _class_cov\n",
      "    cov += priors[idx] * np.atleast_2d(_cov(Xg, shrinkage))\n",
      "  File \"C:\\Users\\adity\\anaconda3\\lib\\site-packages\\sklearn\\discriminant_analysis.py\", line 62, in _cov\n",
      "    raise ValueError('unknown shrinkage parameter')\n",
      "ValueError: unknown shrinkage parameter\n",
      "\n",
      "  FitFailedWarning)\n",
      "C:\\Users\\adity\\anaconda3\\lib\\site-packages\\sklearn\\model_selection\\_validation.py:552: FitFailedWarning: Estimator fit failed. The score on this train-test partition for these parameters will be set to nan. Details: \n",
      "Traceback (most recent call last):\n",
      "  File \"C:\\Users\\adity\\anaconda3\\lib\\site-packages\\sklearn\\model_selection\\_validation.py\", line 531, in _fit_and_score\n",
      "    estimator.fit(X_train, y_train, **fit_params)\n",
      "  File \"C:\\Users\\adity\\anaconda3\\lib\\site-packages\\sklearn\\discriminant_analysis.py\", line 466, in fit\n",
      "    self._solve_lsqr(X, y, shrinkage=self.shrinkage)\n",
      "  File \"C:\\Users\\adity\\anaconda3\\lib\\site-packages\\sklearn\\discriminant_analysis.py\", line 291, in _solve_lsqr\n",
      "    self.covariance_ = _class_cov(X, y, self.priors_, shrinkage)\n",
      "  File \"C:\\Users\\adity\\anaconda3\\lib\\site-packages\\sklearn\\discriminant_analysis.py\", line 127, in _class_cov\n",
      "    cov += priors[idx] * np.atleast_2d(_cov(Xg, shrinkage))\n",
      "  File \"C:\\Users\\adity\\anaconda3\\lib\\site-packages\\sklearn\\discriminant_analysis.py\", line 62, in _cov\n",
      "    raise ValueError('unknown shrinkage parameter')\n",
      "ValueError: unknown shrinkage parameter\n",
      "\n",
      "  FitFailedWarning)\n",
      "C:\\Users\\adity\\anaconda3\\lib\\site-packages\\sklearn\\model_selection\\_validation.py:552: FitFailedWarning: Estimator fit failed. The score on this train-test partition for these parameters will be set to nan. Details: \n",
      "Traceback (most recent call last):\n",
      "  File \"C:\\Users\\adity\\anaconda3\\lib\\site-packages\\sklearn\\model_selection\\_validation.py\", line 531, in _fit_and_score\n",
      "    estimator.fit(X_train, y_train, **fit_params)\n",
      "  File \"C:\\Users\\adity\\anaconda3\\lib\\site-packages\\sklearn\\discriminant_analysis.py\", line 466, in fit\n",
      "    self._solve_lsqr(X, y, shrinkage=self.shrinkage)\n",
      "  File \"C:\\Users\\adity\\anaconda3\\lib\\site-packages\\sklearn\\discriminant_analysis.py\", line 291, in _solve_lsqr\n",
      "    self.covariance_ = _class_cov(X, y, self.priors_, shrinkage)\n",
      "  File \"C:\\Users\\adity\\anaconda3\\lib\\site-packages\\sklearn\\discriminant_analysis.py\", line 127, in _class_cov\n",
      "    cov += priors[idx] * np.atleast_2d(_cov(Xg, shrinkage))\n",
      "  File \"C:\\Users\\adity\\anaconda3\\lib\\site-packages\\sklearn\\discriminant_analysis.py\", line 62, in _cov\n",
      "    raise ValueError('unknown shrinkage parameter')\n",
      "ValueError: unknown shrinkage parameter\n",
      "\n",
      "  FitFailedWarning)\n",
      "C:\\Users\\adity\\anaconda3\\lib\\site-packages\\sklearn\\model_selection\\_validation.py:552: FitFailedWarning: Estimator fit failed. The score on this train-test partition for these parameters will be set to nan. Details: \n",
      "Traceback (most recent call last):\n",
      "  File \"C:\\Users\\adity\\anaconda3\\lib\\site-packages\\sklearn\\model_selection\\_validation.py\", line 531, in _fit_and_score\n",
      "    estimator.fit(X_train, y_train, **fit_params)\n",
      "  File \"C:\\Users\\adity\\anaconda3\\lib\\site-packages\\sklearn\\discriminant_analysis.py\", line 466, in fit\n",
      "    self._solve_lsqr(X, y, shrinkage=self.shrinkage)\n",
      "  File \"C:\\Users\\adity\\anaconda3\\lib\\site-packages\\sklearn\\discriminant_analysis.py\", line 291, in _solve_lsqr\n",
      "    self.covariance_ = _class_cov(X, y, self.priors_, shrinkage)\n",
      "  File \"C:\\Users\\adity\\anaconda3\\lib\\site-packages\\sklearn\\discriminant_analysis.py\", line 127, in _class_cov\n",
      "    cov += priors[idx] * np.atleast_2d(_cov(Xg, shrinkage))\n",
      "  File \"C:\\Users\\adity\\anaconda3\\lib\\site-packages\\sklearn\\discriminant_analysis.py\", line 62, in _cov\n",
      "    raise ValueError('unknown shrinkage parameter')\n",
      "ValueError: unknown shrinkage parameter\n",
      "\n",
      "  FitFailedWarning)\n",
      "C:\\Users\\adity\\anaconda3\\lib\\site-packages\\sklearn\\model_selection\\_validation.py:552: FitFailedWarning: Estimator fit failed. The score on this train-test partition for these parameters will be set to nan. Details: \n",
      "Traceback (most recent call last):\n",
      "  File \"C:\\Users\\adity\\anaconda3\\lib\\site-packages\\sklearn\\model_selection\\_validation.py\", line 531, in _fit_and_score\n",
      "    estimator.fit(X_train, y_train, **fit_params)\n",
      "  File \"C:\\Users\\adity\\anaconda3\\lib\\site-packages\\sklearn\\discriminant_analysis.py\", line 466, in fit\n",
      "    self._solve_lsqr(X, y, shrinkage=self.shrinkage)\n",
      "  File \"C:\\Users\\adity\\anaconda3\\lib\\site-packages\\sklearn\\discriminant_analysis.py\", line 291, in _solve_lsqr\n",
      "    self.covariance_ = _class_cov(X, y, self.priors_, shrinkage)\n",
      "  File \"C:\\Users\\adity\\anaconda3\\lib\\site-packages\\sklearn\\discriminant_analysis.py\", line 127, in _class_cov\n",
      "    cov += priors[idx] * np.atleast_2d(_cov(Xg, shrinkage))\n",
      "  File \"C:\\Users\\adity\\anaconda3\\lib\\site-packages\\sklearn\\discriminant_analysis.py\", line 62, in _cov\n",
      "    raise ValueError('unknown shrinkage parameter')\n",
      "ValueError: unknown shrinkage parameter\n",
      "\n",
      "  FitFailedWarning)\n",
      "C:\\Users\\adity\\anaconda3\\lib\\site-packages\\sklearn\\model_selection\\_validation.py:552: FitFailedWarning: Estimator fit failed. The score on this train-test partition for these parameters will be set to nan. Details: \n",
      "Traceback (most recent call last):\n",
      "  File \"C:\\Users\\adity\\anaconda3\\lib\\site-packages\\sklearn\\model_selection\\_validation.py\", line 531, in _fit_and_score\n",
      "    estimator.fit(X_train, y_train, **fit_params)\n",
      "  File \"C:\\Users\\adity\\anaconda3\\lib\\site-packages\\sklearn\\discriminant_analysis.py\", line 466, in fit\n",
      "    self._solve_lsqr(X, y, shrinkage=self.shrinkage)\n",
      "  File \"C:\\Users\\adity\\anaconda3\\lib\\site-packages\\sklearn\\discriminant_analysis.py\", line 291, in _solve_lsqr\n",
      "    self.covariance_ = _class_cov(X, y, self.priors_, shrinkage)\n",
      "  File \"C:\\Users\\adity\\anaconda3\\lib\\site-packages\\sklearn\\discriminant_analysis.py\", line 127, in _class_cov\n",
      "    cov += priors[idx] * np.atleast_2d(_cov(Xg, shrinkage))\n",
      "  File \"C:\\Users\\adity\\anaconda3\\lib\\site-packages\\sklearn\\discriminant_analysis.py\", line 62, in _cov\n",
      "    raise ValueError('unknown shrinkage parameter')\n",
      "ValueError: unknown shrinkage parameter\n",
      "\n",
      "  FitFailedWarning)\n",
      "C:\\Users\\adity\\anaconda3\\lib\\site-packages\\sklearn\\model_selection\\_validation.py:552: FitFailedWarning: Estimator fit failed. The score on this train-test partition for these parameters will be set to nan. Details: \n",
      "Traceback (most recent call last):\n",
      "  File \"C:\\Users\\adity\\anaconda3\\lib\\site-packages\\sklearn\\model_selection\\_validation.py\", line 531, in _fit_and_score\n",
      "    estimator.fit(X_train, y_train, **fit_params)\n",
      "  File \"C:\\Users\\adity\\anaconda3\\lib\\site-packages\\sklearn\\discriminant_analysis.py\", line 466, in fit\n",
      "    self._solve_lsqr(X, y, shrinkage=self.shrinkage)\n",
      "  File \"C:\\Users\\adity\\anaconda3\\lib\\site-packages\\sklearn\\discriminant_analysis.py\", line 291, in _solve_lsqr\n",
      "    self.covariance_ = _class_cov(X, y, self.priors_, shrinkage)\n",
      "  File \"C:\\Users\\adity\\anaconda3\\lib\\site-packages\\sklearn\\discriminant_analysis.py\", line 127, in _class_cov\n",
      "    cov += priors[idx] * np.atleast_2d(_cov(Xg, shrinkage))\n",
      "  File \"C:\\Users\\adity\\anaconda3\\lib\\site-packages\\sklearn\\discriminant_analysis.py\", line 62, in _cov\n",
      "    raise ValueError('unknown shrinkage parameter')\n",
      "ValueError: unknown shrinkage parameter\n",
      "\n",
      "  FitFailedWarning)\n",
      "C:\\Users\\adity\\anaconda3\\lib\\site-packages\\sklearn\\model_selection\\_validation.py:552: FitFailedWarning: Estimator fit failed. The score on this train-test partition for these parameters will be set to nan. Details: \n",
      "Traceback (most recent call last):\n",
      "  File \"C:\\Users\\adity\\anaconda3\\lib\\site-packages\\sklearn\\model_selection\\_validation.py\", line 531, in _fit_and_score\n",
      "    estimator.fit(X_train, y_train, **fit_params)\n",
      "  File \"C:\\Users\\adity\\anaconda3\\lib\\site-packages\\sklearn\\discriminant_analysis.py\", line 468, in fit\n",
      "    self._solve_eigen(X, y, shrinkage=self.shrinkage)\n",
      "  File \"C:\\Users\\adity\\anaconda3\\lib\\site-packages\\sklearn\\discriminant_analysis.py\", line 329, in _solve_eigen\n",
      "    self.covariance_ = _class_cov(X, y, self.priors_, shrinkage)\n",
      "  File \"C:\\Users\\adity\\anaconda3\\lib\\site-packages\\sklearn\\discriminant_analysis.py\", line 127, in _class_cov\n",
      "    cov += priors[idx] * np.atleast_2d(_cov(Xg, shrinkage))\n",
      "  File \"C:\\Users\\adity\\anaconda3\\lib\\site-packages\\sklearn\\discriminant_analysis.py\", line 62, in _cov\n",
      "    raise ValueError('unknown shrinkage parameter')\n",
      "ValueError: unknown shrinkage parameter\n",
      "\n",
      "  FitFailedWarning)\n",
      "C:\\Users\\adity\\anaconda3\\lib\\site-packages\\sklearn\\model_selection\\_validation.py:552: FitFailedWarning: Estimator fit failed. The score on this train-test partition for these parameters will be set to nan. Details: \n",
      "Traceback (most recent call last):\n",
      "  File \"C:\\Users\\adity\\anaconda3\\lib\\site-packages\\sklearn\\model_selection\\_validation.py\", line 531, in _fit_and_score\n",
      "    estimator.fit(X_train, y_train, **fit_params)\n",
      "  File \"C:\\Users\\adity\\anaconda3\\lib\\site-packages\\sklearn\\discriminant_analysis.py\", line 468, in fit\n",
      "    self._solve_eigen(X, y, shrinkage=self.shrinkage)\n",
      "  File \"C:\\Users\\adity\\anaconda3\\lib\\site-packages\\sklearn\\discriminant_analysis.py\", line 329, in _solve_eigen\n",
      "    self.covariance_ = _class_cov(X, y, self.priors_, shrinkage)\n",
      "  File \"C:\\Users\\adity\\anaconda3\\lib\\site-packages\\sklearn\\discriminant_analysis.py\", line 127, in _class_cov\n",
      "    cov += priors[idx] * np.atleast_2d(_cov(Xg, shrinkage))\n",
      "  File \"C:\\Users\\adity\\anaconda3\\lib\\site-packages\\sklearn\\discriminant_analysis.py\", line 62, in _cov\n",
      "    raise ValueError('unknown shrinkage parameter')\n",
      "ValueError: unknown shrinkage parameter\n",
      "\n",
      "  FitFailedWarning)\n",
      "C:\\Users\\adity\\anaconda3\\lib\\site-packages\\sklearn\\model_selection\\_validation.py:552: FitFailedWarning: Estimator fit failed. The score on this train-test partition for these parameters will be set to nan. Details: \n",
      "Traceback (most recent call last):\n",
      "  File \"C:\\Users\\adity\\anaconda3\\lib\\site-packages\\sklearn\\model_selection\\_validation.py\", line 531, in _fit_and_score\n",
      "    estimator.fit(X_train, y_train, **fit_params)\n",
      "  File \"C:\\Users\\adity\\anaconda3\\lib\\site-packages\\sklearn\\discriminant_analysis.py\", line 468, in fit\n",
      "    self._solve_eigen(X, y, shrinkage=self.shrinkage)\n",
      "  File \"C:\\Users\\adity\\anaconda3\\lib\\site-packages\\sklearn\\discriminant_analysis.py\", line 329, in _solve_eigen\n",
      "    self.covariance_ = _class_cov(X, y, self.priors_, shrinkage)\n",
      "  File \"C:\\Users\\adity\\anaconda3\\lib\\site-packages\\sklearn\\discriminant_analysis.py\", line 127, in _class_cov\n",
      "    cov += priors[idx] * np.atleast_2d(_cov(Xg, shrinkage))\n",
      "  File \"C:\\Users\\adity\\anaconda3\\lib\\site-packages\\sklearn\\discriminant_analysis.py\", line 62, in _cov\n",
      "    raise ValueError('unknown shrinkage parameter')\n",
      "ValueError: unknown shrinkage parameter\n",
      "\n",
      "  FitFailedWarning)\n",
      "C:\\Users\\adity\\anaconda3\\lib\\site-packages\\sklearn\\model_selection\\_validation.py:552: FitFailedWarning: Estimator fit failed. The score on this train-test partition for these parameters will be set to nan. Details: \n",
      "Traceback (most recent call last):\n",
      "  File \"C:\\Users\\adity\\anaconda3\\lib\\site-packages\\sklearn\\model_selection\\_validation.py\", line 531, in _fit_and_score\n",
      "    estimator.fit(X_train, y_train, **fit_params)\n",
      "  File \"C:\\Users\\adity\\anaconda3\\lib\\site-packages\\sklearn\\discriminant_analysis.py\", line 468, in fit\n",
      "    self._solve_eigen(X, y, shrinkage=self.shrinkage)\n",
      "  File \"C:\\Users\\adity\\anaconda3\\lib\\site-packages\\sklearn\\discriminant_analysis.py\", line 329, in _solve_eigen\n",
      "    self.covariance_ = _class_cov(X, y, self.priors_, shrinkage)\n",
      "  File \"C:\\Users\\adity\\anaconda3\\lib\\site-packages\\sklearn\\discriminant_analysis.py\", line 127, in _class_cov\n",
      "    cov += priors[idx] * np.atleast_2d(_cov(Xg, shrinkage))\n",
      "  File \"C:\\Users\\adity\\anaconda3\\lib\\site-packages\\sklearn\\discriminant_analysis.py\", line 62, in _cov\n",
      "    raise ValueError('unknown shrinkage parameter')\n",
      "ValueError: unknown shrinkage parameter\n",
      "\n",
      "  FitFailedWarning)\n",
      "C:\\Users\\adity\\anaconda3\\lib\\site-packages\\sklearn\\model_selection\\_validation.py:552: FitFailedWarning: Estimator fit failed. The score on this train-test partition for these parameters will be set to nan. Details: \n",
      "Traceback (most recent call last):\n",
      "  File \"C:\\Users\\adity\\anaconda3\\lib\\site-packages\\sklearn\\model_selection\\_validation.py\", line 531, in _fit_and_score\n",
      "    estimator.fit(X_train, y_train, **fit_params)\n",
      "  File \"C:\\Users\\adity\\anaconda3\\lib\\site-packages\\sklearn\\discriminant_analysis.py\", line 468, in fit\n",
      "    self._solve_eigen(X, y, shrinkage=self.shrinkage)\n",
      "  File \"C:\\Users\\adity\\anaconda3\\lib\\site-packages\\sklearn\\discriminant_analysis.py\", line 329, in _solve_eigen\n",
      "    self.covariance_ = _class_cov(X, y, self.priors_, shrinkage)\n",
      "  File \"C:\\Users\\adity\\anaconda3\\lib\\site-packages\\sklearn\\discriminant_analysis.py\", line 127, in _class_cov\n",
      "    cov += priors[idx] * np.atleast_2d(_cov(Xg, shrinkage))\n",
      "  File \"C:\\Users\\adity\\anaconda3\\lib\\site-packages\\sklearn\\discriminant_analysis.py\", line 62, in _cov\n",
      "    raise ValueError('unknown shrinkage parameter')\n",
      "ValueError: unknown shrinkage parameter\n",
      "\n",
      "  FitFailedWarning)\n",
      "C:\\Users\\adity\\anaconda3\\lib\\site-packages\\sklearn\\model_selection\\_validation.py:552: FitFailedWarning: Estimator fit failed. The score on this train-test partition for these parameters will be set to nan. Details: \n",
      "Traceback (most recent call last):\n",
      "  File \"C:\\Users\\adity\\anaconda3\\lib\\site-packages\\sklearn\\model_selection\\_validation.py\", line 531, in _fit_and_score\n",
      "    estimator.fit(X_train, y_train, **fit_params)\n",
      "  File \"C:\\Users\\adity\\anaconda3\\lib\\site-packages\\sklearn\\discriminant_analysis.py\", line 468, in fit\n",
      "    self._solve_eigen(X, y, shrinkage=self.shrinkage)\n",
      "  File \"C:\\Users\\adity\\anaconda3\\lib\\site-packages\\sklearn\\discriminant_analysis.py\", line 329, in _solve_eigen\n",
      "    self.covariance_ = _class_cov(X, y, self.priors_, shrinkage)\n",
      "  File \"C:\\Users\\adity\\anaconda3\\lib\\site-packages\\sklearn\\discriminant_analysis.py\", line 127, in _class_cov\n",
      "    cov += priors[idx] * np.atleast_2d(_cov(Xg, shrinkage))\n",
      "  File \"C:\\Users\\adity\\anaconda3\\lib\\site-packages\\sklearn\\discriminant_analysis.py\", line 62, in _cov\n",
      "    raise ValueError('unknown shrinkage parameter')\n",
      "ValueError: unknown shrinkage parameter\n",
      "\n",
      "  FitFailedWarning)\n",
      "C:\\Users\\adity\\anaconda3\\lib\\site-packages\\sklearn\\model_selection\\_validation.py:552: FitFailedWarning: Estimator fit failed. The score on this train-test partition for these parameters will be set to nan. Details: \n",
      "Traceback (most recent call last):\n",
      "  File \"C:\\Users\\adity\\anaconda3\\lib\\site-packages\\sklearn\\model_selection\\_validation.py\", line 531, in _fit_and_score\n",
      "    estimator.fit(X_train, y_train, **fit_params)\n",
      "  File \"C:\\Users\\adity\\anaconda3\\lib\\site-packages\\sklearn\\discriminant_analysis.py\", line 468, in fit\n",
      "    self._solve_eigen(X, y, shrinkage=self.shrinkage)\n",
      "  File \"C:\\Users\\adity\\anaconda3\\lib\\site-packages\\sklearn\\discriminant_analysis.py\", line 329, in _solve_eigen\n",
      "    self.covariance_ = _class_cov(X, y, self.priors_, shrinkage)\n",
      "  File \"C:\\Users\\adity\\anaconda3\\lib\\site-packages\\sklearn\\discriminant_analysis.py\", line 127, in _class_cov\n",
      "    cov += priors[idx] * np.atleast_2d(_cov(Xg, shrinkage))\n",
      "  File \"C:\\Users\\adity\\anaconda3\\lib\\site-packages\\sklearn\\discriminant_analysis.py\", line 62, in _cov\n",
      "    raise ValueError('unknown shrinkage parameter')\n",
      "ValueError: unknown shrinkage parameter\n",
      "\n",
      "  FitFailedWarning)\n",
      "C:\\Users\\adity\\anaconda3\\lib\\site-packages\\sklearn\\model_selection\\_validation.py:552: FitFailedWarning: Estimator fit failed. The score on this train-test partition for these parameters will be set to nan. Details: \n",
      "Traceback (most recent call last):\n",
      "  File \"C:\\Users\\adity\\anaconda3\\lib\\site-packages\\sklearn\\model_selection\\_validation.py\", line 531, in _fit_and_score\n",
      "    estimator.fit(X_train, y_train, **fit_params)\n",
      "  File \"C:\\Users\\adity\\anaconda3\\lib\\site-packages\\sklearn\\discriminant_analysis.py\", line 468, in fit\n",
      "    self._solve_eigen(X, y, shrinkage=self.shrinkage)\n",
      "  File \"C:\\Users\\adity\\anaconda3\\lib\\site-packages\\sklearn\\discriminant_analysis.py\", line 329, in _solve_eigen\n",
      "    self.covariance_ = _class_cov(X, y, self.priors_, shrinkage)\n",
      "  File \"C:\\Users\\adity\\anaconda3\\lib\\site-packages\\sklearn\\discriminant_analysis.py\", line 127, in _class_cov\n",
      "    cov += priors[idx] * np.atleast_2d(_cov(Xg, shrinkage))\n",
      "  File \"C:\\Users\\adity\\anaconda3\\lib\\site-packages\\sklearn\\discriminant_analysis.py\", line 62, in _cov\n",
      "    raise ValueError('unknown shrinkage parameter')\n",
      "ValueError: unknown shrinkage parameter\n",
      "\n",
      "  FitFailedWarning)\n",
      "C:\\Users\\adity\\anaconda3\\lib\\site-packages\\sklearn\\model_selection\\_validation.py:552: FitFailedWarning: Estimator fit failed. The score on this train-test partition for these parameters will be set to nan. Details: \n",
      "Traceback (most recent call last):\n",
      "  File \"C:\\Users\\adity\\anaconda3\\lib\\site-packages\\sklearn\\model_selection\\_validation.py\", line 531, in _fit_and_score\n",
      "    estimator.fit(X_train, y_train, **fit_params)\n",
      "  File \"C:\\Users\\adity\\anaconda3\\lib\\site-packages\\sklearn\\discriminant_analysis.py\", line 468, in fit\n",
      "    self._solve_eigen(X, y, shrinkage=self.shrinkage)\n",
      "  File \"C:\\Users\\adity\\anaconda3\\lib\\site-packages\\sklearn\\discriminant_analysis.py\", line 329, in _solve_eigen\n",
      "    self.covariance_ = _class_cov(X, y, self.priors_, shrinkage)\n",
      "  File \"C:\\Users\\adity\\anaconda3\\lib\\site-packages\\sklearn\\discriminant_analysis.py\", line 127, in _class_cov\n",
      "    cov += priors[idx] * np.atleast_2d(_cov(Xg, shrinkage))\n",
      "  File \"C:\\Users\\adity\\anaconda3\\lib\\site-packages\\sklearn\\discriminant_analysis.py\", line 62, in _cov\n",
      "    raise ValueError('unknown shrinkage parameter')\n",
      "ValueError: unknown shrinkage parameter\n",
      "\n",
      "  FitFailedWarning)\n",
      "C:\\Users\\adity\\anaconda3\\lib\\site-packages\\sklearn\\model_selection\\_validation.py:552: FitFailedWarning: Estimator fit failed. The score on this train-test partition for these parameters will be set to nan. Details: \n",
      "Traceback (most recent call last):\n",
      "  File \"C:\\Users\\adity\\anaconda3\\lib\\site-packages\\sklearn\\model_selection\\_validation.py\", line 531, in _fit_and_score\n",
      "    estimator.fit(X_train, y_train, **fit_params)\n",
      "  File \"C:\\Users\\adity\\anaconda3\\lib\\site-packages\\sklearn\\discriminant_analysis.py\", line 468, in fit\n",
      "    self._solve_eigen(X, y, shrinkage=self.shrinkage)\n",
      "  File \"C:\\Users\\adity\\anaconda3\\lib\\site-packages\\sklearn\\discriminant_analysis.py\", line 329, in _solve_eigen\n",
      "    self.covariance_ = _class_cov(X, y, self.priors_, shrinkage)\n",
      "  File \"C:\\Users\\adity\\anaconda3\\lib\\site-packages\\sklearn\\discriminant_analysis.py\", line 127, in _class_cov\n",
      "    cov += priors[idx] * np.atleast_2d(_cov(Xg, shrinkage))\n",
      "  File \"C:\\Users\\adity\\anaconda3\\lib\\site-packages\\sklearn\\discriminant_analysis.py\", line 62, in _cov\n",
      "    raise ValueError('unknown shrinkage parameter')\n",
      "ValueError: unknown shrinkage parameter\n",
      "\n",
      "  FitFailedWarning)\n",
      "C:\\Users\\adity\\anaconda3\\lib\\site-packages\\sklearn\\model_selection\\_validation.py:552: FitFailedWarning: Estimator fit failed. The score on this train-test partition for these parameters will be set to nan. Details: \n",
      "Traceback (most recent call last):\n",
      "  File \"C:\\Users\\adity\\anaconda3\\lib\\site-packages\\sklearn\\model_selection\\_validation.py\", line 531, in _fit_and_score\n",
      "    estimator.fit(X_train, y_train, **fit_params)\n",
      "  File \"C:\\Users\\adity\\anaconda3\\lib\\site-packages\\sklearn\\discriminant_analysis.py\", line 468, in fit\n",
      "    self._solve_eigen(X, y, shrinkage=self.shrinkage)\n",
      "  File \"C:\\Users\\adity\\anaconda3\\lib\\site-packages\\sklearn\\discriminant_analysis.py\", line 329, in _solve_eigen\n",
      "    self.covariance_ = _class_cov(X, y, self.priors_, shrinkage)\n",
      "  File \"C:\\Users\\adity\\anaconda3\\lib\\site-packages\\sklearn\\discriminant_analysis.py\", line 127, in _class_cov\n",
      "    cov += priors[idx] * np.atleast_2d(_cov(Xg, shrinkage))\n",
      "  File \"C:\\Users\\adity\\anaconda3\\lib\\site-packages\\sklearn\\discriminant_analysis.py\", line 62, in _cov\n",
      "    raise ValueError('unknown shrinkage parameter')\n",
      "ValueError: unknown shrinkage parameter\n",
      "\n",
      "  FitFailedWarning)\n",
      "C:\\Users\\adity\\anaconda3\\lib\\site-packages\\sklearn\\model_selection\\_validation.py:552: FitFailedWarning: Estimator fit failed. The score on this train-test partition for these parameters will be set to nan. Details: \n",
      "Traceback (most recent call last):\n",
      "  File \"C:\\Users\\adity\\anaconda3\\lib\\site-packages\\sklearn\\model_selection\\_validation.py\", line 531, in _fit_and_score\n",
      "    estimator.fit(X_train, y_train, **fit_params)\n",
      "  File \"C:\\Users\\adity\\anaconda3\\lib\\site-packages\\sklearn\\discriminant_analysis.py\", line 468, in fit\n",
      "    self._solve_eigen(X, y, shrinkage=self.shrinkage)\n",
      "  File \"C:\\Users\\adity\\anaconda3\\lib\\site-packages\\sklearn\\discriminant_analysis.py\", line 329, in _solve_eigen\n",
      "    self.covariance_ = _class_cov(X, y, self.priors_, shrinkage)\n",
      "  File \"C:\\Users\\adity\\anaconda3\\lib\\site-packages\\sklearn\\discriminant_analysis.py\", line 127, in _class_cov\n",
      "    cov += priors[idx] * np.atleast_2d(_cov(Xg, shrinkage))\n",
      "  File \"C:\\Users\\adity\\anaconda3\\lib\\site-packages\\sklearn\\discriminant_analysis.py\", line 62, in _cov\n",
      "    raise ValueError('unknown shrinkage parameter')\n",
      "ValueError: unknown shrinkage parameter\n",
      "\n",
      "  FitFailedWarning)\n",
      "C:\\Users\\adity\\anaconda3\\lib\\site-packages\\sklearn\\model_selection\\_validation.py:552: FitFailedWarning: Estimator fit failed. The score on this train-test partition for these parameters will be set to nan. Details: \n",
      "Traceback (most recent call last):\n",
      "  File \"C:\\Users\\adity\\anaconda3\\lib\\site-packages\\sklearn\\model_selection\\_validation.py\", line 531, in _fit_and_score\n",
      "    estimator.fit(X_train, y_train, **fit_params)\n",
      "  File \"C:\\Users\\adity\\anaconda3\\lib\\site-packages\\sklearn\\discriminant_analysis.py\", line 468, in fit\n",
      "    self._solve_eigen(X, y, shrinkage=self.shrinkage)\n",
      "  File \"C:\\Users\\adity\\anaconda3\\lib\\site-packages\\sklearn\\discriminant_analysis.py\", line 329, in _solve_eigen\n",
      "    self.covariance_ = _class_cov(X, y, self.priors_, shrinkage)\n",
      "  File \"C:\\Users\\adity\\anaconda3\\lib\\site-packages\\sklearn\\discriminant_analysis.py\", line 127, in _class_cov\n",
      "    cov += priors[idx] * np.atleast_2d(_cov(Xg, shrinkage))\n",
      "  File \"C:\\Users\\adity\\anaconda3\\lib\\site-packages\\sklearn\\discriminant_analysis.py\", line 62, in _cov\n",
      "    raise ValueError('unknown shrinkage parameter')\n",
      "ValueError: unknown shrinkage parameter\n",
      "\n",
      "  FitFailedWarning)\n",
      "C:\\Users\\adity\\anaconda3\\lib\\site-packages\\sklearn\\model_selection\\_validation.py:552: FitFailedWarning: Estimator fit failed. The score on this train-test partition for these parameters will be set to nan. Details: \n",
      "Traceback (most recent call last):\n",
      "  File \"C:\\Users\\adity\\anaconda3\\lib\\site-packages\\sklearn\\model_selection\\_validation.py\", line 531, in _fit_and_score\n",
      "    estimator.fit(X_train, y_train, **fit_params)\n",
      "  File \"C:\\Users\\adity\\anaconda3\\lib\\site-packages\\sklearn\\discriminant_analysis.py\", line 468, in fit\n",
      "    self._solve_eigen(X, y, shrinkage=self.shrinkage)\n",
      "  File \"C:\\Users\\adity\\anaconda3\\lib\\site-packages\\sklearn\\discriminant_analysis.py\", line 329, in _solve_eigen\n",
      "    self.covariance_ = _class_cov(X, y, self.priors_, shrinkage)\n",
      "  File \"C:\\Users\\adity\\anaconda3\\lib\\site-packages\\sklearn\\discriminant_analysis.py\", line 127, in _class_cov\n",
      "    cov += priors[idx] * np.atleast_2d(_cov(Xg, shrinkage))\n",
      "  File \"C:\\Users\\adity\\anaconda3\\lib\\site-packages\\sklearn\\discriminant_analysis.py\", line 62, in _cov\n",
      "    raise ValueError('unknown shrinkage parameter')\n",
      "ValueError: unknown shrinkage parameter\n",
      "\n",
      "  FitFailedWarning)\n",
      "C:\\Users\\adity\\anaconda3\\lib\\site-packages\\sklearn\\model_selection\\_validation.py:552: FitFailedWarning: Estimator fit failed. The score on this train-test partition for these parameters will be set to nan. Details: \n",
      "Traceback (most recent call last):\n",
      "  File \"C:\\Users\\adity\\anaconda3\\lib\\site-packages\\sklearn\\model_selection\\_validation.py\", line 531, in _fit_and_score\n",
      "    estimator.fit(X_train, y_train, **fit_params)\n",
      "  File \"C:\\Users\\adity\\anaconda3\\lib\\site-packages\\sklearn\\discriminant_analysis.py\", line 468, in fit\n",
      "    self._solve_eigen(X, y, shrinkage=self.shrinkage)\n",
      "  File \"C:\\Users\\adity\\anaconda3\\lib\\site-packages\\sklearn\\discriminant_analysis.py\", line 329, in _solve_eigen\n",
      "    self.covariance_ = _class_cov(X, y, self.priors_, shrinkage)\n",
      "  File \"C:\\Users\\adity\\anaconda3\\lib\\site-packages\\sklearn\\discriminant_analysis.py\", line 127, in _class_cov\n",
      "    cov += priors[idx] * np.atleast_2d(_cov(Xg, shrinkage))\n",
      "  File \"C:\\Users\\adity\\anaconda3\\lib\\site-packages\\sklearn\\discriminant_analysis.py\", line 62, in _cov\n",
      "    raise ValueError('unknown shrinkage parameter')\n",
      "ValueError: unknown shrinkage parameter\n",
      "\n",
      "  FitFailedWarning)\n",
      "C:\\Users\\adity\\anaconda3\\lib\\site-packages\\sklearn\\model_selection\\_validation.py:552: FitFailedWarning: Estimator fit failed. The score on this train-test partition for these parameters will be set to nan. Details: \n",
      "Traceback (most recent call last):\n",
      "  File \"C:\\Users\\adity\\anaconda3\\lib\\site-packages\\sklearn\\model_selection\\_validation.py\", line 531, in _fit_and_score\n",
      "    estimator.fit(X_train, y_train, **fit_params)\n",
      "  File \"C:\\Users\\adity\\anaconda3\\lib\\site-packages\\sklearn\\discriminant_analysis.py\", line 468, in fit\n",
      "    self._solve_eigen(X, y, shrinkage=self.shrinkage)\n",
      "  File \"C:\\Users\\adity\\anaconda3\\lib\\site-packages\\sklearn\\discriminant_analysis.py\", line 329, in _solve_eigen\n",
      "    self.covariance_ = _class_cov(X, y, self.priors_, shrinkage)\n",
      "  File \"C:\\Users\\adity\\anaconda3\\lib\\site-packages\\sklearn\\discriminant_analysis.py\", line 127, in _class_cov\n",
      "    cov += priors[idx] * np.atleast_2d(_cov(Xg, shrinkage))\n",
      "  File \"C:\\Users\\adity\\anaconda3\\lib\\site-packages\\sklearn\\discriminant_analysis.py\", line 62, in _cov\n",
      "    raise ValueError('unknown shrinkage parameter')\n",
      "ValueError: unknown shrinkage parameter\n",
      "\n",
      "  FitFailedWarning)\n",
      "C:\\Users\\adity\\anaconda3\\lib\\site-packages\\sklearn\\model_selection\\_validation.py:552: FitFailedWarning: Estimator fit failed. The score on this train-test partition for these parameters will be set to nan. Details: \n",
      "Traceback (most recent call last):\n",
      "  File \"C:\\Users\\adity\\anaconda3\\lib\\site-packages\\sklearn\\model_selection\\_validation.py\", line 531, in _fit_and_score\n",
      "    estimator.fit(X_train, y_train, **fit_params)\n",
      "  File \"C:\\Users\\adity\\anaconda3\\lib\\site-packages\\sklearn\\discriminant_analysis.py\", line 468, in fit\n",
      "    self._solve_eigen(X, y, shrinkage=self.shrinkage)\n",
      "  File \"C:\\Users\\adity\\anaconda3\\lib\\site-packages\\sklearn\\discriminant_analysis.py\", line 329, in _solve_eigen\n",
      "    self.covariance_ = _class_cov(X, y, self.priors_, shrinkage)\n",
      "  File \"C:\\Users\\adity\\anaconda3\\lib\\site-packages\\sklearn\\discriminant_analysis.py\", line 127, in _class_cov\n",
      "    cov += priors[idx] * np.atleast_2d(_cov(Xg, shrinkage))\n",
      "  File \"C:\\Users\\adity\\anaconda3\\lib\\site-packages\\sklearn\\discriminant_analysis.py\", line 62, in _cov\n",
      "    raise ValueError('unknown shrinkage parameter')\n",
      "ValueError: unknown shrinkage parameter\n",
      "\n",
      "  FitFailedWarning)\n",
      "C:\\Users\\adity\\anaconda3\\lib\\site-packages\\sklearn\\model_selection\\_validation.py:552: FitFailedWarning: Estimator fit failed. The score on this train-test partition for these parameters will be set to nan. Details: \n",
      "Traceback (most recent call last):\n",
      "  File \"C:\\Users\\adity\\anaconda3\\lib\\site-packages\\sklearn\\model_selection\\_validation.py\", line 531, in _fit_and_score\n",
      "    estimator.fit(X_train, y_train, **fit_params)\n",
      "  File \"C:\\Users\\adity\\anaconda3\\lib\\site-packages\\sklearn\\discriminant_analysis.py\", line 468, in fit\n",
      "    self._solve_eigen(X, y, shrinkage=self.shrinkage)\n",
      "  File \"C:\\Users\\adity\\anaconda3\\lib\\site-packages\\sklearn\\discriminant_analysis.py\", line 329, in _solve_eigen\n",
      "    self.covariance_ = _class_cov(X, y, self.priors_, shrinkage)\n",
      "  File \"C:\\Users\\adity\\anaconda3\\lib\\site-packages\\sklearn\\discriminant_analysis.py\", line 127, in _class_cov\n",
      "    cov += priors[idx] * np.atleast_2d(_cov(Xg, shrinkage))\n",
      "  File \"C:\\Users\\adity\\anaconda3\\lib\\site-packages\\sklearn\\discriminant_analysis.py\", line 62, in _cov\n",
      "    raise ValueError('unknown shrinkage parameter')\n",
      "ValueError: unknown shrinkage parameter\n",
      "\n",
      "  FitFailedWarning)\n",
      "C:\\Users\\adity\\anaconda3\\lib\\site-packages\\sklearn\\model_selection\\_validation.py:552: FitFailedWarning: Estimator fit failed. The score on this train-test partition for these parameters will be set to nan. Details: \n",
      "Traceback (most recent call last):\n",
      "  File \"C:\\Users\\adity\\anaconda3\\lib\\site-packages\\sklearn\\model_selection\\_validation.py\", line 531, in _fit_and_score\n",
      "    estimator.fit(X_train, y_train, **fit_params)\n",
      "  File \"C:\\Users\\adity\\anaconda3\\lib\\site-packages\\sklearn\\discriminant_analysis.py\", line 468, in fit\n",
      "    self._solve_eigen(X, y, shrinkage=self.shrinkage)\n",
      "  File \"C:\\Users\\adity\\anaconda3\\lib\\site-packages\\sklearn\\discriminant_analysis.py\", line 329, in _solve_eigen\n",
      "    self.covariance_ = _class_cov(X, y, self.priors_, shrinkage)\n",
      "  File \"C:\\Users\\adity\\anaconda3\\lib\\site-packages\\sklearn\\discriminant_analysis.py\", line 127, in _class_cov\n",
      "    cov += priors[idx] * np.atleast_2d(_cov(Xg, shrinkage))\n",
      "  File \"C:\\Users\\adity\\anaconda3\\lib\\site-packages\\sklearn\\discriminant_analysis.py\", line 62, in _cov\n",
      "    raise ValueError('unknown shrinkage parameter')\n",
      "ValueError: unknown shrinkage parameter\n",
      "\n",
      "  FitFailedWarning)\n",
      "C:\\Users\\adity\\anaconda3\\lib\\site-packages\\sklearn\\model_selection\\_validation.py:552: FitFailedWarning: Estimator fit failed. The score on this train-test partition for these parameters will be set to nan. Details: \n",
      "Traceback (most recent call last):\n",
      "  File \"C:\\Users\\adity\\anaconda3\\lib\\site-packages\\sklearn\\model_selection\\_validation.py\", line 531, in _fit_and_score\n",
      "    estimator.fit(X_train, y_train, **fit_params)\n",
      "  File \"C:\\Users\\adity\\anaconda3\\lib\\site-packages\\sklearn\\discriminant_analysis.py\", line 468, in fit\n",
      "    self._solve_eigen(X, y, shrinkage=self.shrinkage)\n",
      "  File \"C:\\Users\\adity\\anaconda3\\lib\\site-packages\\sklearn\\discriminant_analysis.py\", line 329, in _solve_eigen\n",
      "    self.covariance_ = _class_cov(X, y, self.priors_, shrinkage)\n",
      "  File \"C:\\Users\\adity\\anaconda3\\lib\\site-packages\\sklearn\\discriminant_analysis.py\", line 127, in _class_cov\n",
      "    cov += priors[idx] * np.atleast_2d(_cov(Xg, shrinkage))\n",
      "  File \"C:\\Users\\adity\\anaconda3\\lib\\site-packages\\sklearn\\discriminant_analysis.py\", line 62, in _cov\n",
      "    raise ValueError('unknown shrinkage parameter')\n",
      "ValueError: unknown shrinkage parameter\n",
      "\n",
      "  FitFailedWarning)\n",
      "C:\\Users\\adity\\anaconda3\\lib\\site-packages\\sklearn\\model_selection\\_validation.py:552: FitFailedWarning: Estimator fit failed. The score on this train-test partition for these parameters will be set to nan. Details: \n",
      "Traceback (most recent call last):\n",
      "  File \"C:\\Users\\adity\\anaconda3\\lib\\site-packages\\sklearn\\model_selection\\_validation.py\", line 531, in _fit_and_score\n",
      "    estimator.fit(X_train, y_train, **fit_params)\n",
      "  File \"C:\\Users\\adity\\anaconda3\\lib\\site-packages\\sklearn\\discriminant_analysis.py\", line 468, in fit\n",
      "    self._solve_eigen(X, y, shrinkage=self.shrinkage)\n",
      "  File \"C:\\Users\\adity\\anaconda3\\lib\\site-packages\\sklearn\\discriminant_analysis.py\", line 329, in _solve_eigen\n",
      "    self.covariance_ = _class_cov(X, y, self.priors_, shrinkage)\n",
      "  File \"C:\\Users\\adity\\anaconda3\\lib\\site-packages\\sklearn\\discriminant_analysis.py\", line 127, in _class_cov\n",
      "    cov += priors[idx] * np.atleast_2d(_cov(Xg, shrinkage))\n",
      "  File \"C:\\Users\\adity\\anaconda3\\lib\\site-packages\\sklearn\\discriminant_analysis.py\", line 62, in _cov\n",
      "    raise ValueError('unknown shrinkage parameter')\n",
      "ValueError: unknown shrinkage parameter\n",
      "\n",
      "  FitFailedWarning)\n",
      "C:\\Users\\adity\\anaconda3\\lib\\site-packages\\sklearn\\model_selection\\_validation.py:552: FitFailedWarning: Estimator fit failed. The score on this train-test partition for these parameters will be set to nan. Details: \n",
      "Traceback (most recent call last):\n",
      "  File \"C:\\Users\\adity\\anaconda3\\lib\\site-packages\\sklearn\\model_selection\\_validation.py\", line 531, in _fit_and_score\n",
      "    estimator.fit(X_train, y_train, **fit_params)\n",
      "  File \"C:\\Users\\adity\\anaconda3\\lib\\site-packages\\sklearn\\discriminant_analysis.py\", line 468, in fit\n",
      "    self._solve_eigen(X, y, shrinkage=self.shrinkage)\n",
      "  File \"C:\\Users\\adity\\anaconda3\\lib\\site-packages\\sklearn\\discriminant_analysis.py\", line 329, in _solve_eigen\n",
      "    self.covariance_ = _class_cov(X, y, self.priors_, shrinkage)\n",
      "  File \"C:\\Users\\adity\\anaconda3\\lib\\site-packages\\sklearn\\discriminant_analysis.py\", line 127, in _class_cov\n",
      "    cov += priors[idx] * np.atleast_2d(_cov(Xg, shrinkage))\n",
      "  File \"C:\\Users\\adity\\anaconda3\\lib\\site-packages\\sklearn\\discriminant_analysis.py\", line 62, in _cov\n",
      "    raise ValueError('unknown shrinkage parameter')\n",
      "ValueError: unknown shrinkage parameter\n",
      "\n",
      "  FitFailedWarning)\n",
      "C:\\Users\\adity\\anaconda3\\lib\\site-packages\\sklearn\\model_selection\\_validation.py:552: FitFailedWarning: Estimator fit failed. The score on this train-test partition for these parameters will be set to nan. Details: \n",
      "Traceback (most recent call last):\n",
      "  File \"C:\\Users\\adity\\anaconda3\\lib\\site-packages\\sklearn\\model_selection\\_validation.py\", line 531, in _fit_and_score\n",
      "    estimator.fit(X_train, y_train, **fit_params)\n",
      "  File \"C:\\Users\\adity\\anaconda3\\lib\\site-packages\\sklearn\\discriminant_analysis.py\", line 468, in fit\n",
      "    self._solve_eigen(X, y, shrinkage=self.shrinkage)\n",
      "  File \"C:\\Users\\adity\\anaconda3\\lib\\site-packages\\sklearn\\discriminant_analysis.py\", line 329, in _solve_eigen\n",
      "    self.covariance_ = _class_cov(X, y, self.priors_, shrinkage)\n",
      "  File \"C:\\Users\\adity\\anaconda3\\lib\\site-packages\\sklearn\\discriminant_analysis.py\", line 127, in _class_cov\n",
      "    cov += priors[idx] * np.atleast_2d(_cov(Xg, shrinkage))\n",
      "  File \"C:\\Users\\adity\\anaconda3\\lib\\site-packages\\sklearn\\discriminant_analysis.py\", line 62, in _cov\n",
      "    raise ValueError('unknown shrinkage parameter')\n",
      "ValueError: unknown shrinkage parameter\n",
      "\n",
      "  FitFailedWarning)\n"
     ]
    },
    {
     "name": "stderr",
     "output_type": "stream",
     "text": [
      "C:\\Users\\adity\\anaconda3\\lib\\site-packages\\sklearn\\model_selection\\_validation.py:552: FitFailedWarning: Estimator fit failed. The score on this train-test partition for these parameters will be set to nan. Details: \n",
      "Traceback (most recent call last):\n",
      "  File \"C:\\Users\\adity\\anaconda3\\lib\\site-packages\\sklearn\\model_selection\\_validation.py\", line 531, in _fit_and_score\n",
      "    estimator.fit(X_train, y_train, **fit_params)\n",
      "  File \"C:\\Users\\adity\\anaconda3\\lib\\site-packages\\sklearn\\discriminant_analysis.py\", line 468, in fit\n",
      "    self._solve_eigen(X, y, shrinkage=self.shrinkage)\n",
      "  File \"C:\\Users\\adity\\anaconda3\\lib\\site-packages\\sklearn\\discriminant_analysis.py\", line 329, in _solve_eigen\n",
      "    self.covariance_ = _class_cov(X, y, self.priors_, shrinkage)\n",
      "  File \"C:\\Users\\adity\\anaconda3\\lib\\site-packages\\sklearn\\discriminant_analysis.py\", line 127, in _class_cov\n",
      "    cov += priors[idx] * np.atleast_2d(_cov(Xg, shrinkage))\n",
      "  File \"C:\\Users\\adity\\anaconda3\\lib\\site-packages\\sklearn\\discriminant_analysis.py\", line 62, in _cov\n",
      "    raise ValueError('unknown shrinkage parameter')\n",
      "ValueError: unknown shrinkage parameter\n",
      "\n",
      "  FitFailedWarning)\n",
      "C:\\Users\\adity\\anaconda3\\lib\\site-packages\\sklearn\\model_selection\\_validation.py:552: FitFailedWarning: Estimator fit failed. The score on this train-test partition for these parameters will be set to nan. Details: \n",
      "Traceback (most recent call last):\n",
      "  File \"C:\\Users\\adity\\anaconda3\\lib\\site-packages\\sklearn\\model_selection\\_validation.py\", line 531, in _fit_and_score\n",
      "    estimator.fit(X_train, y_train, **fit_params)\n",
      "  File \"C:\\Users\\adity\\anaconda3\\lib\\site-packages\\sklearn\\discriminant_analysis.py\", line 468, in fit\n",
      "    self._solve_eigen(X, y, shrinkage=self.shrinkage)\n",
      "  File \"C:\\Users\\adity\\anaconda3\\lib\\site-packages\\sklearn\\discriminant_analysis.py\", line 329, in _solve_eigen\n",
      "    self.covariance_ = _class_cov(X, y, self.priors_, shrinkage)\n",
      "  File \"C:\\Users\\adity\\anaconda3\\lib\\site-packages\\sklearn\\discriminant_analysis.py\", line 127, in _class_cov\n",
      "    cov += priors[idx] * np.atleast_2d(_cov(Xg, shrinkage))\n",
      "  File \"C:\\Users\\adity\\anaconda3\\lib\\site-packages\\sklearn\\discriminant_analysis.py\", line 62, in _cov\n",
      "    raise ValueError('unknown shrinkage parameter')\n",
      "ValueError: unknown shrinkage parameter\n",
      "\n",
      "  FitFailedWarning)\n",
      "C:\\Users\\adity\\anaconda3\\lib\\site-packages\\sklearn\\model_selection\\_validation.py:552: FitFailedWarning: Estimator fit failed. The score on this train-test partition for these parameters will be set to nan. Details: \n",
      "Traceback (most recent call last):\n",
      "  File \"C:\\Users\\adity\\anaconda3\\lib\\site-packages\\sklearn\\model_selection\\_validation.py\", line 531, in _fit_and_score\n",
      "    estimator.fit(X_train, y_train, **fit_params)\n",
      "  File \"C:\\Users\\adity\\anaconda3\\lib\\site-packages\\sklearn\\discriminant_analysis.py\", line 468, in fit\n",
      "    self._solve_eigen(X, y, shrinkage=self.shrinkage)\n",
      "  File \"C:\\Users\\adity\\anaconda3\\lib\\site-packages\\sklearn\\discriminant_analysis.py\", line 329, in _solve_eigen\n",
      "    self.covariance_ = _class_cov(X, y, self.priors_, shrinkage)\n",
      "  File \"C:\\Users\\adity\\anaconda3\\lib\\site-packages\\sklearn\\discriminant_analysis.py\", line 127, in _class_cov\n",
      "    cov += priors[idx] * np.atleast_2d(_cov(Xg, shrinkage))\n",
      "  File \"C:\\Users\\adity\\anaconda3\\lib\\site-packages\\sklearn\\discriminant_analysis.py\", line 62, in _cov\n",
      "    raise ValueError('unknown shrinkage parameter')\n",
      "ValueError: unknown shrinkage parameter\n",
      "\n",
      "  FitFailedWarning)\n",
      "C:\\Users\\adity\\anaconda3\\lib\\site-packages\\sklearn\\model_selection\\_validation.py:552: FitFailedWarning: Estimator fit failed. The score on this train-test partition for these parameters will be set to nan. Details: \n",
      "Traceback (most recent call last):\n",
      "  File \"C:\\Users\\adity\\anaconda3\\lib\\site-packages\\sklearn\\model_selection\\_validation.py\", line 531, in _fit_and_score\n",
      "    estimator.fit(X_train, y_train, **fit_params)\n",
      "  File \"C:\\Users\\adity\\anaconda3\\lib\\site-packages\\sklearn\\discriminant_analysis.py\", line 468, in fit\n",
      "    self._solve_eigen(X, y, shrinkage=self.shrinkage)\n",
      "  File \"C:\\Users\\adity\\anaconda3\\lib\\site-packages\\sklearn\\discriminant_analysis.py\", line 329, in _solve_eigen\n",
      "    self.covariance_ = _class_cov(X, y, self.priors_, shrinkage)\n",
      "  File \"C:\\Users\\adity\\anaconda3\\lib\\site-packages\\sklearn\\discriminant_analysis.py\", line 127, in _class_cov\n",
      "    cov += priors[idx] * np.atleast_2d(_cov(Xg, shrinkage))\n",
      "  File \"C:\\Users\\adity\\anaconda3\\lib\\site-packages\\sklearn\\discriminant_analysis.py\", line 62, in _cov\n",
      "    raise ValueError('unknown shrinkage parameter')\n",
      "ValueError: unknown shrinkage parameter\n",
      "\n",
      "  FitFailedWarning)\n",
      "C:\\Users\\adity\\anaconda3\\lib\\site-packages\\sklearn\\model_selection\\_validation.py:552: FitFailedWarning: Estimator fit failed. The score on this train-test partition for these parameters will be set to nan. Details: \n",
      "Traceback (most recent call last):\n",
      "  File \"C:\\Users\\adity\\anaconda3\\lib\\site-packages\\sklearn\\model_selection\\_validation.py\", line 531, in _fit_and_score\n",
      "    estimator.fit(X_train, y_train, **fit_params)\n",
      "  File \"C:\\Users\\adity\\anaconda3\\lib\\site-packages\\sklearn\\discriminant_analysis.py\", line 468, in fit\n",
      "    self._solve_eigen(X, y, shrinkage=self.shrinkage)\n",
      "  File \"C:\\Users\\adity\\anaconda3\\lib\\site-packages\\sklearn\\discriminant_analysis.py\", line 329, in _solve_eigen\n",
      "    self.covariance_ = _class_cov(X, y, self.priors_, shrinkage)\n",
      "  File \"C:\\Users\\adity\\anaconda3\\lib\\site-packages\\sklearn\\discriminant_analysis.py\", line 127, in _class_cov\n",
      "    cov += priors[idx] * np.atleast_2d(_cov(Xg, shrinkage))\n",
      "  File \"C:\\Users\\adity\\anaconda3\\lib\\site-packages\\sklearn\\discriminant_analysis.py\", line 62, in _cov\n",
      "    raise ValueError('unknown shrinkage parameter')\n",
      "ValueError: unknown shrinkage parameter\n",
      "\n",
      "  FitFailedWarning)\n",
      "C:\\Users\\adity\\anaconda3\\lib\\site-packages\\sklearn\\model_selection\\_validation.py:552: FitFailedWarning: Estimator fit failed. The score on this train-test partition for these parameters will be set to nan. Details: \n",
      "Traceback (most recent call last):\n",
      "  File \"C:\\Users\\adity\\anaconda3\\lib\\site-packages\\sklearn\\model_selection\\_validation.py\", line 531, in _fit_and_score\n",
      "    estimator.fit(X_train, y_train, **fit_params)\n",
      "  File \"C:\\Users\\adity\\anaconda3\\lib\\site-packages\\sklearn\\discriminant_analysis.py\", line 468, in fit\n",
      "    self._solve_eigen(X, y, shrinkage=self.shrinkage)\n",
      "  File \"C:\\Users\\adity\\anaconda3\\lib\\site-packages\\sklearn\\discriminant_analysis.py\", line 329, in _solve_eigen\n",
      "    self.covariance_ = _class_cov(X, y, self.priors_, shrinkage)\n",
      "  File \"C:\\Users\\adity\\anaconda3\\lib\\site-packages\\sklearn\\discriminant_analysis.py\", line 127, in _class_cov\n",
      "    cov += priors[idx] * np.atleast_2d(_cov(Xg, shrinkage))\n",
      "  File \"C:\\Users\\adity\\anaconda3\\lib\\site-packages\\sklearn\\discriminant_analysis.py\", line 62, in _cov\n",
      "    raise ValueError('unknown shrinkage parameter')\n",
      "ValueError: unknown shrinkage parameter\n",
      "\n",
      "  FitFailedWarning)\n",
      "C:\\Users\\adity\\anaconda3\\lib\\site-packages\\sklearn\\model_selection\\_validation.py:552: FitFailedWarning: Estimator fit failed. The score on this train-test partition for these parameters will be set to nan. Details: \n",
      "Traceback (most recent call last):\n",
      "  File \"C:\\Users\\adity\\anaconda3\\lib\\site-packages\\sklearn\\model_selection\\_validation.py\", line 531, in _fit_and_score\n",
      "    estimator.fit(X_train, y_train, **fit_params)\n",
      "  File \"C:\\Users\\adity\\anaconda3\\lib\\site-packages\\sklearn\\discriminant_analysis.py\", line 468, in fit\n",
      "    self._solve_eigen(X, y, shrinkage=self.shrinkage)\n",
      "  File \"C:\\Users\\adity\\anaconda3\\lib\\site-packages\\sklearn\\discriminant_analysis.py\", line 329, in _solve_eigen\n",
      "    self.covariance_ = _class_cov(X, y, self.priors_, shrinkage)\n",
      "  File \"C:\\Users\\adity\\anaconda3\\lib\\site-packages\\sklearn\\discriminant_analysis.py\", line 127, in _class_cov\n",
      "    cov += priors[idx] * np.atleast_2d(_cov(Xg, shrinkage))\n",
      "  File \"C:\\Users\\adity\\anaconda3\\lib\\site-packages\\sklearn\\discriminant_analysis.py\", line 62, in _cov\n",
      "    raise ValueError('unknown shrinkage parameter')\n",
      "ValueError: unknown shrinkage parameter\n",
      "\n",
      "  FitFailedWarning)\n"
     ]
    },
    {
     "data": {
      "text/plain": [
       "GridSearchCV(cv=3, estimator=LinearDiscriminantAnalysis(),\n",
       "             param_grid={'shrinkage': ['auto', 'float', None],\n",
       "                         'solver': ['svd', 'lsqr', 'eigen'],\n",
       "                         'store_covariance': [True, False],\n",
       "                         'tol': [0.1, 0.01, 0.001, 0.0001, 1e-05]})"
      ]
     },
     "execution_count": 59,
     "metadata": {},
     "output_type": "execute_result"
    }
   ],
   "source": [
    "grid_search_lda.fit(x_train, train_labels)"
   ]
  },
  {
   "cell_type": "code",
   "execution_count": 60,
   "metadata": {},
   "outputs": [
    {
     "data": {
      "text/plain": [
       "{'shrinkage': None, 'solver': 'svd', 'store_covariance': True, 'tol': 0.1}"
      ]
     },
     "execution_count": 60,
     "metadata": {},
     "output_type": "execute_result"
    }
   ],
   "source": [
    "grid_search_lda.best_params_"
   ]
  },
  {
   "cell_type": "code",
   "execution_count": 61,
   "metadata": {},
   "outputs": [
    {
     "data": {
      "text/plain": [
       "LinearDiscriminantAnalysis(store_covariance=True, tol=0.1)"
      ]
     },
     "execution_count": 61,
     "metadata": {},
     "output_type": "execute_result"
    }
   ],
   "source": [
    "grid_search_lda.best_estimator_"
   ]
  },
  {
   "cell_type": "code",
   "execution_count": 62,
   "metadata": {},
   "outputs": [],
   "source": [
    "best_model_lda = grid_search_lda.best_estimator_"
   ]
  },
  {
   "cell_type": "code",
   "execution_count": 63,
   "metadata": {},
   "outputs": [
    {
     "data": {
      "text/plain": [
       "0.6721311475409836"
      ]
     },
     "execution_count": 63,
     "metadata": {},
     "output_type": "execute_result"
    }
   ],
   "source": [
    "best_model_lda.score(x_train, train_labels)"
   ]
  },
  {
   "cell_type": "code",
   "execution_count": 64,
   "metadata": {},
   "outputs": [
    {
     "data": {
      "text/plain": [
       "0.6412213740458015"
      ]
     },
     "execution_count": 64,
     "metadata": {},
     "output_type": "execute_result"
    }
   ],
   "source": [
    "best_model_lda.score(x_test, test_labels)"
   ]
  },
  {
   "cell_type": "markdown",
   "metadata": {},
   "source": [
    "- No increase in accuracy even after implmenting the grid search cv"
   ]
  },
  {
   "cell_type": "markdown",
   "metadata": {},
   "source": [
    "#### Classification report"
   ]
  },
  {
   "cell_type": "code",
   "execution_count": 65,
   "metadata": {},
   "outputs": [
    {
     "name": "stdout",
     "output_type": "stream",
     "text": [
      "Classification report on train data: -\n",
      "\n",
      "              precision    recall  f1-score   support\n",
      "\n",
      "           0       0.67      0.77      0.72       326\n",
      "           1       0.68      0.56      0.61       284\n",
      "\n",
      "    accuracy                           0.67       610\n",
      "   macro avg       0.67      0.66      0.66       610\n",
      "weighted avg       0.67      0.67      0.67       610\n",
      "\n"
     ]
    }
   ],
   "source": [
    "print('Classification report on train data: -\\n')\n",
    "print(classification_report(train_labels, best_model_lda.predict(x_train)))"
   ]
  },
  {
   "cell_type": "code",
   "execution_count": 66,
   "metadata": {},
   "outputs": [
    {
     "name": "stdout",
     "output_type": "stream",
     "text": [
      "Classification report on test data: -\n",
      "\n",
      "              precision    recall  f1-score   support\n",
      "\n",
      "           0       0.66      0.71      0.69       145\n",
      "           1       0.61      0.56      0.58       117\n",
      "\n",
      "    accuracy                           0.64       262\n",
      "   macro avg       0.64      0.63      0.63       262\n",
      "weighted avg       0.64      0.64      0.64       262\n",
      "\n"
     ]
    }
   ],
   "source": [
    "print('Classification report on test data: -\\n')\n",
    "print(classification_report(test_labels, best_model_lda.predict(x_test)))"
   ]
  },
  {
   "cell_type": "markdown",
   "metadata": {},
   "source": [
    "#### Confusion Matrix"
   ]
  },
  {
   "cell_type": "code",
   "execution_count": 67,
   "metadata": {},
   "outputs": [
    {
     "data": {
      "image/png": "[encoded data removed]",
      "text/plain": [
       "<Figure size 432x288 with 2 Axes>"
      ]
     },
     "metadata": {
      "needs_background": "light"
     },
     "output_type": "display_data"
    }
   ],
   "source": [
    "sns.heatmap(confusion_matrix(train_labels, best_model_lda.predict(x_train)), annot = True, cmap = 'rainbow', fmt = 'd');\n",
    "plt.title('CONFUSION MATRIX-TRAIN DATA',fontsize = 16)\n",
    "plt.xlabel('PREDICTED LABEL', fontsize = 14)\n",
    "plt.ylabel('ACTUAL LABEL',fontsize = 14)\n",
    "plt.show()"
   ]
  },
  {
   "cell_type": "code",
   "execution_count": 68,
   "metadata": {},
   "outputs": [
    {
     "data": {
      "image/png": "[encoded data removed]",
      "text/plain": [
       "<Figure size 432x288 with 2 Axes>"
      ]
     },
     "metadata": {
      "needs_background": "light"
     },
     "output_type": "display_data"
    }
   ],
   "source": [
    "sns.heatmap(confusion_matrix(test_labels, best_model_lda.predict(x_test)), annot = True, cmap = 'rainbow', fmt = 'd');\n",
    "plt.title('CONFUSION MATRIX-TEST DATA',fontsize = 16)\n",
    "plt.xlabel('PREDICTED LABEL', fontsize = 14)\n",
    "plt.ylabel('ACTUAL LABEL',fontsize = 14)\n",
    "plt.show()"
   ]
  },
  {
   "cell_type": "markdown",
   "metadata": {},
   "source": [
    "#### ROC AUC CURVE AND AUC SCORE"
   ]
  },
  {
   "cell_type": "code",
   "execution_count": 69,
   "metadata": {},
   "outputs": [
    {
     "data": {
      "image/png": "[encoded data removed]",
      "text/plain": [
       "<Figure size 504x360 with 1 Axes>"
      ]
     },
     "metadata": {
      "needs_background": "light"
     },
     "output_type": "display_data"
    },
    {
     "name": "stdout",
     "output_type": "stream",
     "text": [
      "ROC AUC SCORE 0.7421152682968979\n"
     ]
    }
   ],
   "source": [
    "fpr,tpr,threshold = roc_curve(train_labels,best_model_lda.predict_proba(x_train)[:,1])\n",
    "plt.figure(figsize = (7,5))\n",
    "plt.plot([0,1],[0,1])\n",
    "plt.plot(fpr,tpr)\n",
    "plt.xlabel('FPR',fontsize = 14)\n",
    "plt.ylabel('TPR',fontsize = 14)\n",
    "plt.title('ROC CURVE TRAIN DATA',fontsize =16)\n",
    "plt.show()\n",
    "print('ROC AUC SCORE',roc_auc_score(train_labels, best_model_lda.predict_proba(x_train)[:,1]))"
   ]
  },
  {
   "cell_type": "code",
   "execution_count": 70,
   "metadata": {},
   "outputs": [
    {
     "data": {
      "image/png": "[encoded data removed]",
      "text/plain": [
       "<Figure size 504x360 with 1 Axes>"
      ]
     },
     "metadata": {
      "needs_background": "light"
     },
     "output_type": "display_data"
    },
    {
     "name": "stdout",
     "output_type": "stream",
     "text": [
      "ROC AUC SCORE 0.7029177718832891\n"
     ]
    }
   ],
   "source": [
    "fpr,tpr,threshold = roc_curve(test_labels,best_model_lda.predict_proba(x_test)[:,1])\n",
    "plt.figure(figsize = (7,5))\n",
    "plt.plot([0,1],[0,1])\n",
    "plt.plot(fpr,tpr)\n",
    "plt.xlabel('FPR',fontsize = 14)\n",
    "plt.ylabel('TPR',fontsize = 14)\n",
    "plt.title('ROC CURVE TEST DATA',fontsize =16)\n",
    "plt.show()\n",
    "print('ROC AUC SCORE',roc_auc_score(test_labels, best_model_lda.predict_proba(x_test)[:,1]))"
   ]
  },
  {
   "cell_type": "markdown",
   "metadata": {},
   "source": [
    "#### Summary"
   ]
  },
  {
   "cell_type": "code",
   "execution_count": 71,
   "metadata": {},
   "outputs": [],
   "source": [
    "from sklearn.metrics import accuracy_score, precision_score, f1_score,recall_score"
   ]
  },
  {
   "cell_type": "markdown",
   "metadata": {},
   "source": [
    "#### Logit Train"
   ]
  },
  {
   "cell_type": "code",
   "execution_count": 72,
   "metadata": {},
   "outputs": [],
   "source": [
    "logit_train_acc = accuracy_score(train_labels, best_model.predict(x_train))\n",
    "logit_train_prec = precision_score(train_labels, best_model.predict(x_train))\n",
    "logit_train_f1 = f1_score(train_labels, best_model.predict(x_train))\n",
    "logit_train_roc = roc_auc_score(train_labels, best_model.predict_proba(x_train)[:,1])\n",
    "logit_train_recall = recall_score(train_labels, best_model.predict(x_train))"
   ]
  },
  {
   "cell_type": "markdown",
   "metadata": {},
   "source": [
    "#### Logit Test"
   ]
  },
  {
   "cell_type": "code",
   "execution_count": 73,
   "metadata": {},
   "outputs": [],
   "source": [
    "logit_test_acc = accuracy_score(test_labels, best_model.predict(x_test))\n",
    "logit_test_prec = precision_score(test_labels, best_model.predict(x_test))\n",
    "logit_test_f1 = f1_score(test_labels, best_model.predict(x_test))\n",
    "logit_test_roc = roc_auc_score(test_labels, best_model.predict_proba(x_test)[:,1])\n",
    "logit_test_recall = recall_score(test_labels, best_model.predict(x_test))"
   ]
  },
  {
   "cell_type": "markdown",
   "metadata": {},
   "source": [
    "#### LDA Train"
   ]
  },
  {
   "cell_type": "code",
   "execution_count": 74,
   "metadata": {},
   "outputs": [],
   "source": [
    "lda_train_acc = accuracy_score(train_labels, best_model_lda.predict(x_train))\n",
    "lda_train_prec = precision_score(train_labels, best_model_lda.predict(x_train))\n",
    "lda_train_f1 = f1_score(train_labels, best_model_lda.predict(x_train))\n",
    "lda_train_roc = roc_auc_score(train_labels, best_model_lda.predict_proba(x_train)[:,1])\n",
    "lda_train_recall = recall_score(train_labels, best_model_lda.predict(x_train))"
   ]
  },
  {
   "cell_type": "code",
   "execution_count": 75,
   "metadata": {},
   "outputs": [],
   "source": [
    "lda_test_acc = accuracy_score(test_labels, best_model_lda.predict(x_test))\n",
    "lda_test_prec = precision_score(test_labels, best_model_lda.predict(x_test))\n",
    "lda_test_f1 = f1_score(test_labels, best_model_lda.predict(x_test))\n",
    "lda_test_roc = roc_auc_score(test_labels, best_model_lda.predict_proba(x_test)[:,1])\n",
    "lda_test_recall = recall_score(test_labels, best_model_lda.predict(x_test))"
   ]
  },
  {
   "cell_type": "code",
   "execution_count": 76,
   "metadata": {},
   "outputs": [],
   "source": [
    "index = ['ACCURACY','PRECISION','RECALL','F1 SCORE','AUC']\n",
    "df_sum = pd.DataFrame({'LOGIT TRAIN':[logit_train_acc,logit_train_prec,logit_train_recall, logit_train_f1, logit_train_roc],\n",
    "                      'LOGIT TEST':[logit_test_acc, logit_test_prec, logit_test_recall ,logit_test_f1, logit_test_roc],\n",
    "                      'LDA TRAIN':[lda_train_acc, lda_train_prec, lda_train_recall ,lda_train_f1, lda_train_roc],\n",
    "                      'LDA TEST':[lda_test_acc, lda_test_prec, lda_test_prec, lda_test_f1, lda_test_roc]},\n",
    "                      index = index\n",
    "                      \n",
    "                     )"
   ]
  },
  {
   "cell_type": "code",
   "execution_count": 77,
   "metadata": {},
   "outputs": [
    {
     "data": {
      "text/html": [
       "<div>\n",
       "<style scoped>\n",
       "    .dataframe tbody tr th:only-of-type {\n",
       "        vertical-align: middle;\n",
       "    }\n",
       "\n",
       "    .dataframe tbody tr th {\n",
       "        vertical-align: top;\n",
       "    }\n",
       "\n",
       "    .dataframe thead th {\n",
       "        text-align: right;\n",
       "    }\n",
       "</style>\n",
       "<table border=\"1\" class=\"dataframe\">\n",
       "  <thead>\n",
       "    <tr style=\"text-align: right;\">\n",
       "      <th></th>\n",
       "      <th>LOGIT TRAIN</th>\n",
       "      <th>LOGIT TEST</th>\n",
       "      <th>LDA TRAIN</th>\n",
       "      <th>LDA TEST</th>\n",
       "    </tr>\n",
       "  </thead>\n",
       "  <tbody>\n",
       "    <tr>\n",
       "      <th>ACCURACY</th>\n",
       "      <td>0.680328</td>\n",
       "      <td>0.667939</td>\n",
       "      <td>0.672131</td>\n",
       "      <td>0.641221</td>\n",
       "    </tr>\n",
       "    <tr>\n",
       "      <th>PRECISION</th>\n",
       "      <td>0.661818</td>\n",
       "      <td>0.619048</td>\n",
       "      <td>0.681034</td>\n",
       "      <td>0.607477</td>\n",
       "    </tr>\n",
       "    <tr>\n",
       "      <th>RECALL</th>\n",
       "      <td>0.640845</td>\n",
       "      <td>0.666667</td>\n",
       "      <td>0.556338</td>\n",
       "      <td>0.607477</td>\n",
       "    </tr>\n",
       "    <tr>\n",
       "      <th>F1 SCORE</th>\n",
       "      <td>0.651163</td>\n",
       "      <td>0.641975</td>\n",
       "      <td>0.612403</td>\n",
       "      <td>0.580357</td>\n",
       "    </tr>\n",
       "    <tr>\n",
       "      <th>AUC</th>\n",
       "      <td>0.741608</td>\n",
       "      <td>0.705335</td>\n",
       "      <td>0.742115</td>\n",
       "      <td>0.702918</td>\n",
       "    </tr>\n",
       "  </tbody>\n",
       "</table>\n",
       "</div>"
      ],
      "text/plain": [
       "           LOGIT TRAIN  LOGIT TEST  LDA TRAIN  LDA TEST\n",
       "ACCURACY      0.680328    0.667939   0.672131  0.641221\n",
       "PRECISION     0.661818    0.619048   0.681034  0.607477\n",
       "RECALL        0.640845    0.666667   0.556338  0.607477\n",
       "F1 SCORE      0.651163    0.641975   0.612403  0.580357\n",
       "AUC           0.741608    0.705335   0.742115  0.702918"
      ]
     },
     "execution_count": 77,
     "metadata": {},
     "output_type": "execute_result"
    }
   ],
   "source": [
    "df_sum"
   ]
  },
  {
   "cell_type": "markdown",
   "metadata": {},
   "source": [
    "#### ROC Curve comparison: TRAIN DATA"
   ]
  },
  {
   "cell_type": "code",
   "execution_count": 78,
   "metadata": {},
   "outputs": [
    {
     "data": {
      "image/png": "[encoded data removed]",
      "text/plain": [
       "<Figure size 360x216 with 1 Axes>"
      ]
     },
     "metadata": {
      "needs_background": "light"
     },
     "output_type": "display_data"
    }
   ],
   "source": [
    "logit_fpr_train, logit_tpr_train, logit_threshold_train = roc_curve(train_labels, best_model.predict_proba(x_train)[:,1])\n",
    "lda_fpr_train, lda_tpr_train, lda_threshold_train = roc_curve(train_labels, best_model_lda.predict_proba(x_train)[:,1])\n",
    "plt.figure(figsize = (5,3))\n",
    "plt.plot([0,1],[0,1])\n",
    "plt.plot(logit_fpr_train, logit_tpr_train, color = 'red', label = 'LOGIT')\n",
    "plt.plot(lda_fpr_train, lda_tpr_train, color = 'yellow', label = 'LDA')\n",
    "plt.title('ROC CURVE COMPARISON TRAIN DATA',fontsize = 14)\n",
    "plt.xlabel('FPR',fontsize = 14)\n",
    "plt.ylabel('TPR',fontsize = 14)\n",
    "plt.legend()\n",
    "plt.show()"
   ]
  },
  {
   "cell_type": "code",
   "execution_count": 79,
   "metadata": {},
   "outputs": [
    {
     "data": {
      "image/png": "[encoded data removed]",
      "text/plain": [
       "<Figure size 360x216 with 1 Axes>"
      ]
     },
     "metadata": {
      "needs_background": "light"
     },
     "output_type": "display_data"
    }
   ],
   "source": [
    "logit_fpr_test, logit_tpr_test, logit_threshold_test = roc_curve(test_labels, best_model.predict_proba(x_test)[:,1])\n",
    "lda_fpr_test, lda_tpr_test, lda_threshold_test = roc_curve(test_labels, best_model_lda.predict_proba(x_test)[:,1])\n",
    "plt.figure(figsize = (5,3))\n",
    "plt.plot([0,1],[0,1])\n",
    "plt.plot(logit_fpr_test, logit_tpr_test, color = 'red', label = 'LOGIT')\n",
    "plt.plot(lda_fpr_test, lda_tpr_test, color = 'yellow', label = 'LDA')\n",
    "plt.title('ROC CURVE COMPARISON TEST DATA',fontsize = 14)\n",
    "plt.xlabel('FPR',fontsize = 14)\n",
    "plt.ylabel('TPR',fontsize = 14)\n",
    "plt.legend()\n",
    "plt.show()"
   ]
  },
  {
   "cell_type": "markdown",
   "metadata": {},
   "source": [
    "# Digging some insights for  2.4"
   ]
  },
  {
   "cell_type": "code",
   "execution_count": 80,
   "metadata": {},
   "outputs": [],
   "source": [
    "data = pd.read_csv('Holiday_Package-1.csv')"
   ]
  },
  {
   "cell_type": "code",
   "execution_count": 81,
   "metadata": {},
   "outputs": [
    {
     "data": {
      "text/html": [
       "<div>\n",
       "<style scoped>\n",
       "    .dataframe tbody tr th:only-of-type {\n",
       "        vertical-align: middle;\n",
       "    }\n",
       "\n",
       "    .dataframe tbody tr th {\n",
       "        vertical-align: top;\n",
       "    }\n",
       "\n",
       "    .dataframe thead th {\n",
       "        text-align: right;\n",
       "    }\n",
       "</style>\n",
       "<table border=\"1\" class=\"dataframe\">\n",
       "  <thead>\n",
       "    <tr style=\"text-align: right;\">\n",
       "      <th></th>\n",
       "      <th>Holliday_Package</th>\n",
       "      <th>Salary</th>\n",
       "      <th>age</th>\n",
       "      <th>educ</th>\n",
       "      <th>no_young_children</th>\n",
       "      <th>no_older_children</th>\n",
       "      <th>foreign</th>\n",
       "    </tr>\n",
       "  </thead>\n",
       "  <tbody>\n",
       "    <tr>\n",
       "      <th>0</th>\n",
       "      <td>no</td>\n",
       "      <td>48412</td>\n",
       "      <td>30</td>\n",
       "      <td>8</td>\n",
       "      <td>1</td>\n",
       "      <td>1</td>\n",
       "      <td>no</td>\n",
       "    </tr>\n",
       "    <tr>\n",
       "      <th>1</th>\n",
       "      <td>yes</td>\n",
       "      <td>37207</td>\n",
       "      <td>45</td>\n",
       "      <td>8</td>\n",
       "      <td>0</td>\n",
       "      <td>1</td>\n",
       "      <td>no</td>\n",
       "    </tr>\n",
       "    <tr>\n",
       "      <th>2</th>\n",
       "      <td>no</td>\n",
       "      <td>58022</td>\n",
       "      <td>46</td>\n",
       "      <td>9</td>\n",
       "      <td>0</td>\n",
       "      <td>0</td>\n",
       "      <td>no</td>\n",
       "    </tr>\n",
       "    <tr>\n",
       "      <th>3</th>\n",
       "      <td>no</td>\n",
       "      <td>66503</td>\n",
       "      <td>31</td>\n",
       "      <td>11</td>\n",
       "      <td>2</td>\n",
       "      <td>0</td>\n",
       "      <td>no</td>\n",
       "    </tr>\n",
       "    <tr>\n",
       "      <th>4</th>\n",
       "      <td>no</td>\n",
       "      <td>66734</td>\n",
       "      <td>44</td>\n",
       "      <td>12</td>\n",
       "      <td>0</td>\n",
       "      <td>2</td>\n",
       "      <td>no</td>\n",
       "    </tr>\n",
       "  </tbody>\n",
       "</table>\n",
       "</div>"
      ],
      "text/plain": [
       "  Holliday_Package  Salary  age  educ  no_young_children  no_older_children  \\\n",
       "0               no   48412   30     8                  1                  1   \n",
       "1              yes   37207   45     8                  0                  1   \n",
       "2               no   58022   46     9                  0                  0   \n",
       "3               no   66503   31    11                  2                  0   \n",
       "4               no   66734   44    12                  0                  2   \n",
       "\n",
       "  foreign  \n",
       "0      no  \n",
       "1      no  \n",
       "2      no  \n",
       "3      no  \n",
       "4      no  "
      ]
     },
     "execution_count": 81,
     "metadata": {},
     "output_type": "execute_result"
    }
   ],
   "source": [
    "data = data.iloc[:,1::]\n",
    "data.head()"
   ]
  },
  {
   "cell_type": "code",
   "execution_count": 82,
   "metadata": {},
   "outputs": [
    {
     "data": {
      "text/html": [
       "<div>\n",
       "<style scoped>\n",
       "    .dataframe tbody tr th:only-of-type {\n",
       "        vertical-align: middle;\n",
       "    }\n",
       "\n",
       "    .dataframe tbody tr th {\n",
       "        vertical-align: top;\n",
       "    }\n",
       "\n",
       "    .dataframe thead th {\n",
       "        text-align: right;\n",
       "    }\n",
       "</style>\n",
       "<table border=\"1\" class=\"dataframe\">\n",
       "  <thead>\n",
       "    <tr style=\"text-align: right;\">\n",
       "      <th></th>\n",
       "      <th>Salary</th>\n",
       "      <th>age</th>\n",
       "      <th>educ</th>\n",
       "    </tr>\n",
       "    <tr>\n",
       "      <th>Holliday_Package</th>\n",
       "      <th></th>\n",
       "      <th></th>\n",
       "      <th></th>\n",
       "    </tr>\n",
       "  </thead>\n",
       "  <tbody>\n",
       "    <tr>\n",
       "      <th>no</th>\n",
       "      <td>43940</td>\n",
       "      <td>40</td>\n",
       "      <td>10</td>\n",
       "    </tr>\n",
       "    <tr>\n",
       "      <th>yes</th>\n",
       "      <td>39809</td>\n",
       "      <td>39</td>\n",
       "      <td>9</td>\n",
       "    </tr>\n",
       "  </tbody>\n",
       "</table>\n",
       "</div>"
      ],
      "text/plain": [
       "                  Salary  age  educ\n",
       "Holliday_Package                   \n",
       "no                 43940   40    10\n",
       "yes                39809   39     9"
      ]
     },
     "execution_count": 82,
     "metadata": {},
     "output_type": "execute_result"
    }
   ],
   "source": [
    "data.groupby('Holliday_Package')[['Salary','age','educ']].median()"
   ]
  },
  {
   "cell_type": "code",
   "execution_count": 83,
   "metadata": {},
   "outputs": [
    {
     "data": {
      "text/html": [
       "<div>\n",
       "<style scoped>\n",
       "    .dataframe tbody tr th:only-of-type {\n",
       "        vertical-align: middle;\n",
       "    }\n",
       "\n",
       "    .dataframe tbody tr th {\n",
       "        vertical-align: top;\n",
       "    }\n",
       "\n",
       "    .dataframe thead th {\n",
       "        text-align: right;\n",
       "    }\n",
       "</style>\n",
       "<table border=\"1\" class=\"dataframe\">\n",
       "  <thead>\n",
       "    <tr style=\"text-align: right;\">\n",
       "      <th>foreign</th>\n",
       "      <th>no</th>\n",
       "      <th>yes</th>\n",
       "    </tr>\n",
       "    <tr>\n",
       "      <th>Holliday_Package</th>\n",
       "      <th></th>\n",
       "      <th></th>\n",
       "    </tr>\n",
       "  </thead>\n",
       "  <tbody>\n",
       "    <tr>\n",
       "      <th>no</th>\n",
       "      <td>402</td>\n",
       "      <td>69</td>\n",
       "    </tr>\n",
       "    <tr>\n",
       "      <th>yes</th>\n",
       "      <td>254</td>\n",
       "      <td>147</td>\n",
       "    </tr>\n",
       "  </tbody>\n",
       "</table>\n",
       "</div>"
      ],
      "text/plain": [
       "foreign            no  yes\n",
       "Holliday_Package          \n",
       "no                402   69\n",
       "yes               254  147"
      ]
     },
     "execution_count": 83,
     "metadata": {},
     "output_type": "execute_result"
    }
   ],
   "source": [
    "pd.crosstab(data.Holliday_Package, data.foreign)"
   ]
  },
  {
   "cell_type": "code",
   "execution_count": 84,
   "metadata": {},
   "outputs": [
    {
     "data": {
      "text/plain": [
       "no     656\n",
       "yes    216\n",
       "Name: foreign, dtype: int64"
      ]
     },
     "execution_count": 84,
     "metadata": {},
     "output_type": "execute_result"
    }
   ],
   "source": [
    "data.foreign.value_counts()"
   ]
  },
  {
   "cell_type": "code",
   "execution_count": 85,
   "metadata": {},
   "outputs": [
    {
     "data": {
      "image/png": "[encoded data removed]",
      "text/plain": [
       "<Figure size 432x288 with 1 Axes>"
      ]
     },
     "metadata": {
      "needs_background": "light"
     },
     "output_type": "display_data"
    }
   ],
   "source": [
    "sns.barplot(x = df.no_older_children, y = df.Salary);"
   ]
  }
 ],
 "metadata": {
  "kernelspec": {
   "display_name": "Python 3 (ipykernel)",
   "language": "python",
   "name": "python3"
  },
  "language_info": {
   "codemirror_mode": {
    "name": "ipython",
    "version": 3
   },
   "file_extension": ".py",
   "mimetype": "text/x-python",
   "name": "python",
   "nbconvert_exporter": "python",
   "pygments_lexer": "ipython3",
   "version": "3.7.11"
  }
 },
 "nbformat": 4,
 "nbformat_minor": 4
}
